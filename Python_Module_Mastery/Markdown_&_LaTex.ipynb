{
 "cells": [
  {
   "cell_type": "markdown",
   "metadata": {},
   "source": [
    "# Markdown and LaTex practice.\n",
    "This notebook is intended as practice as well as a place to compile links to additional resources on this subject. \n",
    "+ http://data-blog.udacity.com/posts/2016/10/latex-primer/\n",
    "+ http://jupyter-notebook.readthedocs.io/en/stable/examples/Notebook/Working%20With%20Markdown%20Cells.html\n",
    "\n",
    "## A list of all available commands you can use .\n",
    "+ http://www.onemathematicalcat.org/MathJaxDocumentation/TeXSyntax.htm"
   ]
  },
  {
   "cell_type": "markdown",
   "metadata": {},
   "source": [
    "1. Use $$ if you want your math to appear in a single line, e.g.,\n",
    "\n",
    "    $$a = b + c$$ (line break after the equation, shows on newline).\n",
    "\n",
    "\n",
    "    2. If you don't need a line break after the math, use single dollar sign $, e.g.,\n",
    "\n",
    "    $a = b + c$   (no line break after the equation, shows on same line)."
   ]
  },
  {
   "cell_type": "markdown",
   "metadata": {},
   "source": [
    "# Hyperlinks\n",
    "You can insert a hyperlink into a name as seen below.\n",
    "\n",
    "<b>Visit</b> [Daring Fireball][] for more information.\n",
    "[Daring Fireball]: http://daringfireball.net/\n",
    "\n",
    "To make lines across the page you can use either \\--- or \\*** .\n",
    "- - -\n",
    "*****"
   ]
  },
  {
   "cell_type": "markdown",
   "metadata": {},
   "source": [
    "## Engineering Equations\n",
    "To make sure I have some good equations to practice from, I grabbed an old engineering text book. I will be taking examples from there. Several times during this process I had to reference http://www.onemathematicalcat.org/MathJaxDocumentation/TeXSyntax.htm.\n",
    "I highly recommend using the find functionality of your webbrowser to speed up your search."
   ]
  },
  {
   "cell_type": "markdown",
   "metadata": {},
   "source": [
    "I will start out using the \\frac to make an inline equation thats a fraction. Its important to include {} brackets to keep the order of operations in the right places.\n",
    "These equations are some of the fundamental equations of dynamics. \n",
    "\n",
    "$a =\\frac{dv}{dt}$\n",
    "\n",
    "$v =\\frac{ds}{dt}$\n",
    "\n",
    "Another option I found is similiar to the .format function in python.\n",
    "\n",
    "$a =\\def\\specialFrac#1#2{\\frac{d  #1}{d  #2}}\\specialFrac{v}{t}$\n",
    "\n",
    "$v =\\def\\specialFrac#1#2{\\frac{d  #1}{d  #2}}\\specialFrac{s}{t}$\n",
    "\n",
    "Next I want to bring in some greek letters to the mix. I will add in omega, and theta . To use it in the equation just use a backslash and the name of the character (\\omega).\n",
    "\n",
    "$\\omega =\\def\\specialFrac#1#2{\\frac{d  #1}{d  #2}}\\specialFrac{\\theta}{t}$\n",
    "\n",
    "\n"
   ]
  },
  {
   "cell_type": "markdown",
   "metadata": {},
   "source": [
    "# SuperScripts and SubScripts and Spaces\n",
    "\n",
    "To use superscripts use the ^ and subscripts use the _ characters.\n",
    "\n",
    "To put a space into your equation you can use the tilda character(~).\n",
    "\n",
    "$ u_A = \\frac{A}{B}$\n",
    "\n",
    "$ u^A= \\frac{A}{B}$"
   ]
  },
  {
   "cell_type": "markdown",
   "metadata": {
    "collapsed": true
   },
   "source": [
    "Another practice example.\n",
    "$$c = \\sqrt{a^2 + b^2}$$\n",
    "\n",
    "# Code Cells with Latex\n",
    "If your wanting your LaTex to show up in a code cell you need to use the %%latex magic command as seen below with a harder example."
   ]
  },
  {
   "cell_type": "code",
   "execution_count": 12,
   "metadata": {
    "scrolled": true
   },
   "outputs": [
    {
     "data": {
      "text/latex": [
       "$$e^x=\\sum_{i=0}^\\infty \\frac{1}{i!}x^i$$"
      ],
      "text/plain": [
       "<IPython.core.display.Latex object>"
      ]
     },
     "metadata": {},
     "output_type": "display_data"
    }
   ],
   "source": [
    "%%latex\n",
    "$$e^x=\\sum_{i=0}^\\infty \\frac{1}{i!}x^i$$"
   ]
  },
  {
   "cell_type": "markdown",
   "metadata": {},
   "source": [
    "# Quadratic Formula\n",
    "\n",
    "\n",
    "if $ax^2+bx+c=0$, then ${x = \\frac{{ - b \\pm \\sqrt {b^2 - 4ac} }}{{2a}}}$"
   ]
  },
  {
   "cell_type": "markdown",
   "metadata": {},
   "source": [
    "## Color\n",
    "You can add color to your equation using \\color{colorname} ex. \\color{green}.\n",
    "+ $\\color{green} ax^2+bx+c=0$\n",
    "\n",
    "It will only color the first letter if you dont have the whole equation in brackets.\n",
    "+ $\\color{green} {ax^2+bx+c=0}$"
   ]
  },
  {
   "cell_type": "markdown",
   "metadata": {},
   "source": [
    "# Hyperbolic Functions\n",
    "\n",
    "$\\sinh x = \\frac{e^x~ - ~e^{-x}}{2}$\n",
    "\n",
    "$\\cosh x = \\frac{e^x~ + ~e^{-x}}{2}$\n",
    "\n",
    "$\\tanh x = \\frac{\\sinh x}{\\cosh x}$\n",
    "\n"
   ]
  },
  {
   "cell_type": "markdown",
   "metadata": {},
   "source": [
    "# Trigonometric identities\n",
    "\n",
    "+ $\\sin\\theta = \\frac{A}{C}$\n",
    "+ $\\cos\\theta = \\frac{B}{C}$\n",
    "+ $\\tan\\theta = \\frac{A}{B}$"
   ]
  },
  {
   "cell_type": "markdown",
   "metadata": {},
   "source": [
    "# Power-Series Expansions\n",
    "This uses the <code> \\dots</code> command.\n",
    "\n",
    "+ $\\sin x = x - \\frac{x^3}{3!} + \\dots$\n"
   ]
  },
  {
   "cell_type": "markdown",
   "metadata": {},
   "source": [
    "# Derivatives\n",
    "Really just practicing using the <code>\\frac</code> and {} brackets correctly.\n",
    "\n",
    "+ $\\frac{d}{dx}{u^n} = {nu^{n-1}} \\frac{du}{dx}$"
   ]
  },
  {
   "cell_type": "markdown",
   "metadata": {},
   "source": [
    "# Integrals\n",
    "Integrals can be had using the <code> \\smallint</code> command.\n",
    "\n",
    "The not equal sign is made using the <code>\\ne</code> command.\n",
    "\n",
    "+ $\\smallint {x^n}{dx} = \\frac{x^{n+1}}{n+1} + C, n \\ne -1$"
   ]
  },
  {
   "cell_type": "markdown",
   "metadata": {},
   "source": [
    "# Vector Analysis\n",
    "Since matrices and vectors are an important part of data science I decided to add in some of those formulas as well. A vector is a quantity that has magnituded and direction. Ex. A = B + C. In this example A is the resultant vector and B and C are its component vectors."
   ]
  },
  {
   "cell_type": "markdown",
   "metadata": {},
   "source": [
    "This is a unit vector which has a magnitude of one and is dimensionless. I used a \"poor man's bold\" to get the numerator to be bolded using <code>\\pmb </code>.\n",
    "\n",
    "$u_A = \\frac{\\pmb A}{A}$"
   ]
  },
  {
   "cell_type": "markdown",
   "metadata": {},
   "source": [
    "## Cartesian Vector Notation\n",
    "$\\pmb A = A_x{\\pmb i} + A_y{\\pmb j} + A_z{\\pmb k}$\n",
    "\n",
    "The magnitude of $\\pmb A$ is determined from this equation.\n",
    "\n",
    "$ A = \\sqrt{A_x^2 +A_y^2+A_z^2}$"
   ]
  },
  {
   "cell_type": "code",
   "execution_count": null,
   "metadata": {
    "collapsed": true
   },
   "outputs": [],
   "source": []
  }
 ],
 "metadata": {
  "kernelspec": {
   "display_name": "Python 3",
   "language": "python",
   "name": "python3"
  },
  "language_info": {
   "codemirror_mode": {
    "name": "ipython",
    "version": 3
   },
   "file_extension": ".py",
   "mimetype": "text/x-python",
   "name": "python",
   "nbconvert_exporter": "python",
   "pygments_lexer": "ipython3",
   "version": "3.6.2"
  }
 },
 "nbformat": 4,
 "nbformat_minor": 2
}
