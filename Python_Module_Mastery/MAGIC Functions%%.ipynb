{
 "cells": [
  {
   "cell_type": "markdown",
   "metadata": {},
   "source": [
    "<h1>Magic Functions </h1>\n",
    "\n",
    "Hey there!</br>\n",
    "\n",
    "This is a notebook that I made to look into other useful magic functions that I could implement into my jupyter notebooks instead of just the usual <em> %matplotlib </em>. This also is intended as a quick refresh for me in the future.\n",
    "<p>Magics use the modulus operator (percent sign) and there is an important distinction between using one modulus versus two as seen below.</p>\n",
    "\n",
    "<ul>\n",
    "<li>Line magic (%) is used for single line execution.</li>\n",
    "<li>Cell magic (%%) is used for multi-line execution.</li>\n",
    "</ul>\n",
    "<p> A few helpful links can also be found below. </p>\n",
    "\n",
    "+ https://jakevdp.github.io/PythonDataScienceHandbook/01.03-magic-commands.html\n",
    "\n",
    "+ https://www.dataquest.io/blog/jupyter-notebook-tips-tricks-shortcuts/\n",
    "\n",
    "+ https://ipython.org/ipython-doc/3/interactive/magics.html"
   ]
  },
  {
   "cell_type": "markdown",
   "metadata": {},
   "source": [
    "Calling the <em> %lsmagic </em> command returns available line magics for notebooks."
   ]
  },
  {
   "cell_type": "code",
   "execution_count": 1,
   "metadata": {},
   "outputs": [
    {
     "data": {
      "application/json": {
       "cell": {
        "!": "OSMagics",
        "HTML": "Other",
        "SVG": "Other",
        "bash": "Other",
        "capture": "ExecutionMagics",
        "cmd": "Other",
        "debug": "ExecutionMagics",
        "file": "Other",
        "html": "DisplayMagics",
        "javascript": "DisplayMagics",
        "js": "DisplayMagics",
        "latex": "DisplayMagics",
        "markdown": "DisplayMagics",
        "perl": "Other",
        "prun": "ExecutionMagics",
        "pypy": "Other",
        "python": "Other",
        "python2": "Other",
        "python3": "Other",
        "ruby": "Other",
        "script": "ScriptMagics",
        "sh": "Other",
        "svg": "DisplayMagics",
        "sx": "OSMagics",
        "system": "OSMagics",
        "time": "ExecutionMagics",
        "timeit": "ExecutionMagics",
        "writefile": "OSMagics"
       },
       "line": {
        "alias": "OSMagics",
        "alias_magic": "BasicMagics",
        "autocall": "AutoMagics",
        "automagic": "AutoMagics",
        "autosave": "KernelMagics",
        "bookmark": "OSMagics",
        "cd": "OSMagics",
        "clear": "KernelMagics",
        "cls": "KernelMagics",
        "colors": "BasicMagics",
        "config": "ConfigMagics",
        "connect_info": "KernelMagics",
        "copy": "Other",
        "ddir": "Other",
        "debug": "ExecutionMagics",
        "dhist": "OSMagics",
        "dirs": "OSMagics",
        "doctest_mode": "BasicMagics",
        "echo": "Other",
        "ed": "Other",
        "edit": "KernelMagics",
        "env": "OSMagics",
        "gui": "BasicMagics",
        "hist": "Other",
        "history": "HistoryMagics",
        "killbgscripts": "ScriptMagics",
        "ldir": "Other",
        "less": "KernelMagics",
        "load": "CodeMagics",
        "load_ext": "ExtensionMagics",
        "loadpy": "CodeMagics",
        "logoff": "LoggingMagics",
        "logon": "LoggingMagics",
        "logstart": "LoggingMagics",
        "logstate": "LoggingMagics",
        "logstop": "LoggingMagics",
        "ls": "Other",
        "lsmagic": "BasicMagics",
        "macro": "ExecutionMagics",
        "magic": "BasicMagics",
        "matplotlib": "PylabMagics",
        "mkdir": "Other",
        "more": "KernelMagics",
        "notebook": "BasicMagics",
        "page": "BasicMagics",
        "pastebin": "CodeMagics",
        "pdb": "ExecutionMagics",
        "pdef": "NamespaceMagics",
        "pdoc": "NamespaceMagics",
        "pfile": "NamespaceMagics",
        "pinfo": "NamespaceMagics",
        "pinfo2": "NamespaceMagics",
        "pip": "BasicMagics",
        "popd": "OSMagics",
        "pprint": "BasicMagics",
        "precision": "BasicMagics",
        "profile": "BasicMagics",
        "prun": "ExecutionMagics",
        "psearch": "NamespaceMagics",
        "psource": "NamespaceMagics",
        "pushd": "OSMagics",
        "pwd": "OSMagics",
        "pycat": "OSMagics",
        "pylab": "PylabMagics",
        "qtconsole": "KernelMagics",
        "quickref": "BasicMagics",
        "recall": "HistoryMagics",
        "rehashx": "OSMagics",
        "reload_ext": "ExtensionMagics",
        "ren": "Other",
        "rep": "Other",
        "rerun": "HistoryMagics",
        "reset": "NamespaceMagics",
        "reset_selective": "NamespaceMagics",
        "rmdir": "Other",
        "run": "ExecutionMagics",
        "save": "CodeMagics",
        "sc": "OSMagics",
        "set_env": "OSMagics",
        "store": "StoreMagics",
        "sx": "OSMagics",
        "system": "OSMagics",
        "tb": "ExecutionMagics",
        "time": "ExecutionMagics",
        "timeit": "ExecutionMagics",
        "unalias": "OSMagics",
        "unload_ext": "ExtensionMagics",
        "who": "NamespaceMagics",
        "who_ls": "NamespaceMagics",
        "whos": "NamespaceMagics",
        "xdel": "NamespaceMagics",
        "xmode": "BasicMagics"
       }
      },
      "text/plain": [
       "Available line magics:\n",
       "%alias  %alias_magic  %autocall  %automagic  %autosave  %bookmark  %cd  %clear  %cls  %colors  %config  %connect_info  %copy  %ddir  %debug  %dhist  %dirs  %doctest_mode  %echo  %ed  %edit  %env  %gui  %hist  %history  %killbgscripts  %ldir  %less  %load  %load_ext  %loadpy  %logoff  %logon  %logstart  %logstate  %logstop  %ls  %lsmagic  %macro  %magic  %matplotlib  %mkdir  %more  %notebook  %page  %pastebin  %pdb  %pdef  %pdoc  %pfile  %pinfo  %pinfo2  %popd  %pprint  %precision  %profile  %prun  %psearch  %psource  %pushd  %pwd  %pycat  %pylab  %qtconsole  %quickref  %recall  %rehashx  %reload_ext  %ren  %rep  %rerun  %reset  %reset_selective  %rmdir  %run  %save  %sc  %set_env  %store  %sx  %system  %tb  %time  %timeit  %unalias  %unload_ext  %who  %who_ls  %whos  %xdel  %xmode\n",
       "\n",
       "Available cell magics:\n",
       "%%!  %%HTML  %%SVG  %%bash  %%capture  %%cmd  %%debug  %%file  %%html  %%javascript  %%js  %%latex  %%markdown  %%perl  %%prun  %%pypy  %%python  %%python2  %%python3  %%ruby  %%script  %%sh  %%svg  %%sx  %%system  %%time  %%timeit  %%writefile\n",
       "\n",
       "Automagic is ON, % prefix IS NOT needed for line magics."
      ]
     },
     "execution_count": 1,
     "metadata": {},
     "output_type": "execute_result"
    }
   ],
   "source": [
    "#list of available magics\n",
    "%lsmagic"
   ]
  },
  {
   "cell_type": "markdown",
   "metadata": {},
   "source": [
    "---\n",
    "For more thorough details the documentation for these magics can be accessed by using  <em> %magic </em>. "
   ]
  },
  {
   "cell_type": "code",
   "execution_count": 2,
   "metadata": {
    "collapsed": true
   },
   "outputs": [],
   "source": [
    "#Documentation for all magics in %lsmagics\n",
    "%magic"
   ]
  },
  {
   "cell_type": "markdown",
   "metadata": {},
   "source": [
    "I found this \" Automagic is ON, % prefix IS NOT needed for line magics.\" intriguing and decided to test it."
   ]
  },
  {
   "cell_type": "code",
   "execution_count": 3,
   "metadata": {},
   "outputs": [
    {
     "name": "stdout",
     "output_type": "stream",
     "text": [
      "\n",
      "Automagic is OFF, % prefix IS needed for line magics.\n"
     ]
    }
   ],
   "source": [
    "# Turning it off\n",
    "%automagic 0"
   ]
  },
  {
   "cell_type": "code",
   "execution_count": 4,
   "metadata": {},
   "outputs": [
    {
     "name": "stdout",
     "output_type": "stream",
     "text": [
      "\n",
      "Automagic is ON, % prefix IS NOT needed for line magics.\n"
     ]
    }
   ],
   "source": [
    "#Turning it on.\n",
    "%automagic 1"
   ]
  },
  {
   "cell_type": "markdown",
   "metadata": {},
   "source": [
    "**An important note if you add comments to the line magic cell you will get an error."
   ]
  },
  {
   "cell_type": "code",
   "execution_count": 17,
   "metadata": {},
   "outputs": [
    {
     "data": {
      "application/json": {
       "cell": {
        "!": "OSMagics",
        "HTML": "Other",
        "SVG": "Other",
        "bash": "Other",
        "capture": "ExecutionMagics",
        "cmd": "Other",
        "debug": "ExecutionMagics",
        "file": "Other",
        "html": "DisplayMagics",
        "javascript": "DisplayMagics",
        "js": "DisplayMagics",
        "latex": "DisplayMagics",
        "markdown": "DisplayMagics",
        "perl": "Other",
        "prun": "ExecutionMagics",
        "pypy": "Other",
        "python": "Other",
        "python2": "Other",
        "python3": "Other",
        "ruby": "Other",
        "script": "ScriptMagics",
        "sh": "Other",
        "svg": "DisplayMagics",
        "sx": "OSMagics",
        "system": "OSMagics",
        "time": "ExecutionMagics",
        "timeit": "ExecutionMagics",
        "writefile": "OSMagics"
       },
       "line": {
        "alias": "OSMagics",
        "alias_magic": "BasicMagics",
        "autocall": "AutoMagics",
        "automagic": "AutoMagics",
        "autosave": "KernelMagics",
        "bookmark": "OSMagics",
        "cd": "OSMagics",
        "clear": "KernelMagics",
        "cls": "KernelMagics",
        "colors": "BasicMagics",
        "config": "ConfigMagics",
        "connect_info": "KernelMagics",
        "copy": "Other",
        "ddir": "Other",
        "debug": "ExecutionMagics",
        "dhist": "OSMagics",
        "dirs": "OSMagics",
        "doctest_mode": "BasicMagics",
        "echo": "Other",
        "ed": "Other",
        "edit": "KernelMagics",
        "env": "OSMagics",
        "gui": "BasicMagics",
        "hist": "Other",
        "history": "HistoryMagics",
        "killbgscripts": "ScriptMagics",
        "ldir": "Other",
        "less": "KernelMagics",
        "load": "CodeMagics",
        "load_ext": "ExtensionMagics",
        "loadpy": "CodeMagics",
        "logoff": "LoggingMagics",
        "logon": "LoggingMagics",
        "logstart": "LoggingMagics",
        "logstate": "LoggingMagics",
        "logstop": "LoggingMagics",
        "ls": "Other",
        "lsmagic": "BasicMagics",
        "macro": "ExecutionMagics",
        "magic": "BasicMagics",
        "matplotlib": "PylabMagics",
        "mkdir": "Other",
        "more": "KernelMagics",
        "notebook": "BasicMagics",
        "page": "BasicMagics",
        "pastebin": "CodeMagics",
        "pdb": "ExecutionMagics",
        "pdef": "NamespaceMagics",
        "pdoc": "NamespaceMagics",
        "pfile": "NamespaceMagics",
        "pinfo": "NamespaceMagics",
        "pinfo2": "NamespaceMagics",
        "pip": "BasicMagics",
        "popd": "OSMagics",
        "pprint": "BasicMagics",
        "precision": "BasicMagics",
        "profile": "BasicMagics",
        "prun": "ExecutionMagics",
        "psearch": "NamespaceMagics",
        "psource": "NamespaceMagics",
        "pushd": "OSMagics",
        "pwd": "OSMagics",
        "pycat": "OSMagics",
        "pylab": "PylabMagics",
        "qtconsole": "KernelMagics",
        "quickref": "BasicMagics",
        "recall": "HistoryMagics",
        "rehashx": "OSMagics",
        "reload_ext": "ExtensionMagics",
        "ren": "Other",
        "rep": "Other",
        "rerun": "HistoryMagics",
        "reset": "NamespaceMagics",
        "reset_selective": "NamespaceMagics",
        "rmdir": "Other",
        "run": "ExecutionMagics",
        "save": "CodeMagics",
        "sc": "OSMagics",
        "set_env": "OSMagics",
        "store": "StoreMagics",
        "sx": "OSMagics",
        "system": "OSMagics",
        "tb": "ExecutionMagics",
        "time": "ExecutionMagics",
        "timeit": "ExecutionMagics",
        "unalias": "OSMagics",
        "unload_ext": "ExtensionMagics",
        "who": "NamespaceMagics",
        "who_ls": "NamespaceMagics",
        "whos": "NamespaceMagics",
        "xdel": "NamespaceMagics",
        "xmode": "BasicMagics"
       }
      },
      "text/plain": [
       "Available line magics:\n",
       "%alias  %alias_magic  %autocall  %automagic  %autosave  %bookmark  %cd  %clear  %cls  %colors  %config  %connect_info  %copy  %ddir  %debug  %dhist  %dirs  %doctest_mode  %echo  %ed  %edit  %env  %gui  %hist  %history  %killbgscripts  %ldir  %less  %load  %load_ext  %loadpy  %logoff  %logon  %logstart  %logstate  %logstop  %ls  %lsmagic  %macro  %magic  %matplotlib  %mkdir  %more  %notebook  %page  %pastebin  %pdb  %pdef  %pdoc  %pfile  %pinfo  %pinfo2  %popd  %pprint  %precision  %profile  %prun  %psearch  %psource  %pushd  %pwd  %pycat  %pylab  %qtconsole  %quickref  %recall  %rehashx  %reload_ext  %ren  %rep  %rerun  %reset  %reset_selective  %rmdir  %run  %save  %sc  %set_env  %store  %sx  %system  %tb  %time  %timeit  %unalias  %unload_ext  %who  %who_ls  %whos  %xdel  %xmode\n",
       "\n",
       "Available cell magics:\n",
       "%%!  %%HTML  %%SVG  %%bash  %%capture  %%cmd  %%debug  %%file  %%html  %%javascript  %%js  %%latex  %%markdown  %%perl  %%prun  %%pypy  %%python  %%python2  %%python3  %%ruby  %%script  %%sh  %%svg  %%sx  %%system  %%time  %%timeit  %%writefile\n",
       "\n",
       "Automagic is ON, % prefix IS NOT needed for line magics."
      ]
     },
     "execution_count": 17,
     "metadata": {},
     "output_type": "execute_result"
    }
   ],
   "source": [
    "lsmagic"
   ]
  },
  {
   "cell_type": "markdown",
   "metadata": {},
   "source": [
    "***\n",
    "My personal opinion is that unless you are wokring with a team who uses magics a lot a newbie would probably think that these line magics were random variables. If that is the case I would just leave it toggled off."
   ]
  },
  {
   "cell_type": "markdown",
   "metadata": {},
   "source": [
    "<h2>%time and %%timeit </h2>\n",
    "<p> I usually import the time module set up a time() object at the start of a cell and then subtract the difference from the time at the end.\n",
    "</p>"
   ]
  },
  {
   "cell_type": "code",
   "execution_count": 36,
   "metadata": {
    "scrolled": true
   },
   "outputs": [
    {
     "name": "stdout",
     "output_type": "stream",
     "text": [
      "Wall time: 0 ns\n",
      "This is the time magic\n"
     ]
    }
   ],
   "source": [
    "# %time does a single run of the code in your cell.\n",
    "%time x=range(1000)\n",
    "print('This is the time magic')\n"
   ]
  },
  {
   "cell_type": "code",
   "execution_count": null,
   "metadata": {
    "collapsed": true
   },
   "outputs": [],
   "source": [
    "# %%timeit uses the timeit module runs the code 100,000 times and gives back the mean of the top 3\n",
    "%%timeit \n",
    ">>> def function(x):\n",
    "...     return x"
   ]
  },
  {
   "cell_type": "code",
   "execution_count": null,
   "metadata": {
    "collapsed": true
   },
   "outputs": [],
   "source": [
    "function('yellow')"
   ]
  },
  {
   "cell_type": "markdown",
   "metadata": {},
   "source": [
    "<h2>Accessing Global Variables </h2>\n",
    "<p>Something I have missed from working with an IDE(Integrated Development Environment) is being able to see all my instantiated variables in a side panel. The following magics<code> %who, %whos, %who_ls </code> are really nice for this purpose.\n",
    "</p>"
   ]
  },
  {
   "cell_type": "code",
   "execution_count": 37,
   "metadata": {
    "collapsed": true
   },
   "outputs": [],
   "source": [
    "# instantiating some new variables.\n",
    "x = 1\n",
    "y = 'string'\n",
    "z = 0.0003"
   ]
  },
  {
   "cell_type": "code",
   "execution_count": 38,
   "metadata": {},
   "outputs": [
    {
     "name": "stdout",
     "output_type": "stream",
     "text": [
      "basic_addition\t data\t pd\t x\t y\t z\t \n"
     ]
    }
   ],
   "source": [
    "%who\n",
    "# lists out global variables names"
   ]
  },
  {
   "cell_type": "code",
   "execution_count": 39,
   "metadata": {},
   "outputs": [
    {
     "name": "stdout",
     "output_type": "stream",
     "text": [
      "Variable         Type         Data/Info\n",
      "---------------------------------------\n",
      "basic_addition   function     <function basic_addition at 0x0000025A7C95EA60>\n",
      "data             DataFrame           label  pixel0  pix<...>42000 rows x 785 columns]\n",
      "pd               module       <module 'pandas' from 'C:<...>es\\\\pandas\\\\__init__.py'>\n",
      "x                int          1\n",
      "y                str          string\n",
      "z                float        0.0003\n"
     ]
    }
   ],
   "source": [
    "%whos\n",
    "# lists out global variables plus extra detailed information."
   ]
  },
  {
   "cell_type": "code",
   "execution_count": null,
   "metadata": {
    "collapsed": true
   },
   "outputs": [],
   "source": [
    "# by specifing a type with any of the above magics it will only return variables of that type.\n",
    "d = %who_ls str\n",
    "print(\"This is a list object containing only string variables\",d)\n",
    "print(\"This returns variables of type int\") \n",
    "%who int\n"
   ]
  },
  {
   "cell_type": "markdown",
   "metadata": {},
   "source": [
    "<h2> Python Debugger commands </h2>\n",
    "<p> You can use the magic <em> %pdb on</em> but for me I will probably just use <em> %debug </em> when I get a difficult exception after running my code cell. The different available commands can be found in the link below.\n",
    "\n",
    "https://docs.python.org/3.5/library/pdb.html#debugger-commands"
   ]
  },
  {
   "cell_type": "code",
   "execution_count": 20,
   "metadata": {},
   "outputs": [
    {
     "name": "stdout",
     "output_type": "stream",
     "text": [
      "> \u001b[1;32m<ipython-input-16-869d178b894c>\u001b[0m(1)\u001b[0;36m<module>\u001b[1;34m()\u001b[0m\n",
      "\u001b[1;32m----> 1 \u001b[1;33m\u001b[0mlsmagic\u001b[0m\u001b[1;33m\u001b[0m\u001b[0m\n",
      "\u001b[0m\u001b[1;32m      2 \u001b[1;33m\u001b[1;31m#comment\u001b[0m\u001b[1;33m\u001b[0m\u001b[1;33m\u001b[0m\u001b[0m\n",
      "\u001b[0m\n",
      "ipdb> n\n"
     ]
    },
    {
     "ename": "NameError",
     "evalue": "name 'pdb' is not defined",
     "output_type": "error",
     "traceback": [
      "\u001b[1;31m---------------------------------------------------------------------------\u001b[0m",
      "\u001b[1;31mNameError\u001b[0m                                 Traceback (most recent call last)",
      "\u001b[1;32m<ipython-input-20-78a57a09a764>\u001b[0m in \u001b[0;36m<module>\u001b[1;34m()\u001b[0m\n\u001b[0;32m      8\u001b[0m     \u001b[1;32mreturn\u001b[0m \u001b[0manswer\u001b[0m\u001b[1;33m\u001b[0m\u001b[0m\n\u001b[0;32m      9\u001b[0m \u001b[1;33m\u001b[0m\u001b[0m\n\u001b[1;32m---> 10\u001b[1;33m \u001b[0mbasic_addition\u001b[0m\u001b[1;33m(\u001b[0m\u001b[1;36m1\u001b[0m\u001b[1;33m,\u001b[0m\u001b[1;36m2\u001b[0m\u001b[1;33m)\u001b[0m\u001b[1;33m\u001b[0m\u001b[0m\n\u001b[0m",
      "\u001b[1;32m<ipython-input-20-78a57a09a764>\u001b[0m in \u001b[0;36mbasic_addition\u001b[1;34m(int1, int2)\u001b[0m\n\u001b[0;32m      5\u001b[0m \u001b[1;32mdef\u001b[0m \u001b[0mbasic_addition\u001b[0m\u001b[1;33m(\u001b[0m\u001b[0mint1\u001b[0m\u001b[1;33m,\u001b[0m\u001b[0mint2\u001b[0m\u001b[1;33m)\u001b[0m\u001b[1;33m:\u001b[0m\u001b[1;33m\u001b[0m\u001b[0m\n\u001b[0;32m      6\u001b[0m     \u001b[0manswer\u001b[0m \u001b[1;33m=\u001b[0m\u001b[0mint1\u001b[0m \u001b[1;33m+\u001b[0m \u001b[0mint2\u001b[0m\u001b[1;33m\u001b[0m\u001b[0m\n\u001b[1;32m----> 7\u001b[1;33m     \u001b[0mpdb\u001b[0m\u001b[1;33m.\u001b[0m\u001b[0mset_trace\u001b[0m\u001b[1;33m(\u001b[0m\u001b[1;33m)\u001b[0m\u001b[1;33m\u001b[0m\u001b[0m\n\u001b[0m\u001b[0;32m      8\u001b[0m     \u001b[1;32mreturn\u001b[0m \u001b[0manswer\u001b[0m\u001b[1;33m\u001b[0m\u001b[0m\n\u001b[0;32m      9\u001b[0m \u001b[1;33m\u001b[0m\u001b[0m\n",
      "\u001b[1;31mNameError\u001b[0m: name 'pdb' is not defined"
     ]
    }
   ],
   "source": [
    "%debug\n",
    "#use c to stop the debugger,\n",
    "# use n to execute line by line,\n",
    "# use s to step into a function.\n",
    "def basic_addition(int1,int2):\n",
    "    answer =int1 + int2\n",
    "    import pdb;pdb.set_trace()\n",
    "    return answer\n",
    "\n",
    "basic_addition(1,2)"
   ]
  },
  {
   "cell_type": "markdown",
   "metadata": {
    "collapsed": true
   },
   "source": [
    "<h1>%History Magic</h1>\n",
    "<p>Returns all input history from the current session. I found the the optional arguments could be useful as a sort of version control for documenting what you changed during a session (-n,-o,-p, -l, -f FILENAME).\n",
    "<li> A session consists of all notebooks you have opened and worked on.</li></p>"
   ]
  },
  {
   "cell_type": "code",
   "execution_count": null,
   "metadata": {
    "collapsed": true
   },
   "outputs": [],
   "source": [
    "# In a jupyter notebook this will return the cells run time value for example ( [56]:)\n",
    "#print line numbers for each input. This feature is only available if numbered prompts are in use.\n",
    "%history -n\n"
   ]
  },
  {
   "cell_type": "markdown",
   "metadata": {},
   "source": [
    "Here are the optional arguments and what they do several of which are implemented in the next cell.\n",
    "<code>\n",
    "optional arguments:\n",
    "      -n                    print line numbers for each input. This feature is\n",
    "                            only available if numbered prompts are in use.\n",
    "      -o                    also print outputs for each input.\n",
    "      -p                    print classic '>>>' python prompts before each input.\n",
    "                            This is useful for making documentation, and in\n",
    "                            conjunction with -o, for producing doctest-ready\n",
    "                            output.\n",
    "      -t                    print the 'translated' history, as IPython understands\n",
    "                            it. IPython filters your input and converts it all\n",
    "                            into valid Python source before executing it (things\n",
    "                            like magics or aliases are turned into function calls,\n",
    "                            for example). With this option, you'll see the native\n",
    "                            history instead of the user-entered version: '%cd /'\n",
    "                            will be seen as 'get_ipython().magic(\"%cd /\")' instead\n",
    "                            of '%cd /'.\n",
    "      -f FILENAME           FILENAME: instead of printing the output to the\n",
    "                            screen, redirect it to the given file. The file is\n",
    "                            always overwritten, though *when it can*, IPython asks\n",
    "                            for confirmation first. In particular, running the\n",
    "                            command 'history -f FILENAME' from the IPython\n",
    "                            Notebook interface will replace FILENAME even if it\n",
    "                            already exists *without* confirmation.\n",
    "      -g <[PATTERN [PATTERN ...]]>\n",
    "                            treat the arg as a glob pattern to search for in\n",
    "                            (full) history. This includes the saved history\n",
    "                            (almost all commands ever written). The pattern may\n",
    "                            contain '?' to match one unknown character and '*' to\n",
    "                            match any number of unknown characters. Use '%hist -g'\n",
    "                            to show full saved history (may be very long).\n",
    "      -l <[LIMIT]>          get the last n lines from all sessions. Specify n as a\n",
    "                            single arg, or the default is the last 10 lines.\n",
    "</code>"
   ]
  },
  {
   "cell_type": "code",
   "execution_count": null,
   "metadata": {
    "collapsed": true
   },
   "outputs": [],
   "source": [
    "#Will output the line numbers,output,classic python notation '>>>' and limit it to the last 5 cells printing to todayswork.txt.\n",
    "%history -n -o -p -l 5 -f todayswork.txt"
   ]
  },
  {
   "cell_type": "markdown",
   "metadata": {},
   "source": [
    "<h1>%Run Magic</h1>\n",
    "<p>  </p>\n"
   ]
  },
  {
   "cell_type": "code",
   "execution_count": null,
   "metadata": {
    "collapsed": true
   },
   "outputs": [],
   "source": [
    "%run ./io.ipynb"
   ]
  },
  {
   "cell_type": "code",
   "execution_count": null,
   "metadata": {
    "collapsed": true
   },
   "outputs": [],
   "source": [
    "# %load 'www.google.com'\n",
    "www.google.com"
   ]
  },
  {
   "cell_type": "code",
   "execution_count": 21,
   "metadata": {
    "collapsed": true
   },
   "outputs": [],
   "source": [
    "%pycat io.py"
   ]
  },
  {
   "cell_type": "code",
   "execution_count": null,
   "metadata": {
    "collapsed": true
   },
   "outputs": [],
   "source": [
    "%%writefile ./io2.ipynb\n",
    "\n",
    "def basic_addition(int1,int2):\n",
    "    answer =int1 + int2\n",
    "    import pdb; pdb.set_trace()\n",
    "    return answer\n",
    "\n",
    "basic_addition(1,2)"
   ]
  },
  {
   "cell_type": "markdown",
   "metadata": {},
   "source": [
    "<h1>%Load Magic</h1>\n",
    "<p>Maybe you have some functions you have created in a .py file that you use all the time for ETL ect. Using %load with the filename is a fast way to upload code into your notebooks that you are re-using alot.  </p>"
   ]
  },
  {
   "cell_type": "code",
   "execution_count": null,
   "metadata": {
    "collapsed": true
   },
   "outputs": [],
   "source": [
    "#before running\n",
    "%load \"./io.py\""
   ]
  },
  {
   "cell_type": "code",
   "execution_count": null,
   "metadata": {
    "collapsed": true
   },
   "outputs": [],
   "source": [
    "# after running\n",
    "# %load \"./io.py\"\n",
    "def input_output():\n",
    "    \"\"\"\n",
    "    This function reads in text files line by line.\n",
    "    \n",
    "    'r' = read mode.\n",
    "    'w' = open clear contents write.\n",
    "    'a' = open append to existing contents.\n",
    "    'rt' = open in read and text mode.\n",
    "    'wt' = open in write and text mode.\n",
    "    'rb' = open in read and binary.\n",
    "    'wb' = open in write and binary.\n",
    "    \"\"\"\n",
    "    x = str(input(\"Enter file path name.\"))\n",
    "    y = str(input(\"Enter in read argument (r,w,a). \"))\n",
    "    f= open(x, y)\n",
    "    for line in f:\n",
    "        print(line.rstrip())# strips newlines from end of line."
   ]
  },
  {
   "cell_type": "markdown",
   "metadata": {},
   "source": [
    "<h1>%Store Magic</h1>\n",
    "<p>Lightweight persistence of python objects. I usually think of pickling so this was new for me. I was really curious if it could handle a DataFrame Object of decent size.</p>"
   ]
  },
  {
   "cell_type": "code",
   "execution_count": 25,
   "metadata": {
    "collapsed": true
   },
   "outputs": [],
   "source": [
    "import pandas as pd\n",
    "data = pd.read_csv('digits_train.csv')"
   ]
  },
  {
   "cell_type": "code",
   "execution_count": 26,
   "metadata": {},
   "outputs": [
    {
     "data": {
      "text/html": [
       "<div>\n",
       "<style>\n",
       "    .dataframe thead tr:only-child th {\n",
       "        text-align: right;\n",
       "    }\n",
       "\n",
       "    .dataframe thead th {\n",
       "        text-align: left;\n",
       "    }\n",
       "\n",
       "    .dataframe tbody tr th {\n",
       "        vertical-align: top;\n",
       "    }\n",
       "</style>\n",
       "<table border=\"1\" class=\"dataframe\">\n",
       "  <thead>\n",
       "    <tr style=\"text-align: right;\">\n",
       "      <th></th>\n",
       "      <th>label</th>\n",
       "      <th>pixel0</th>\n",
       "      <th>pixel1</th>\n",
       "      <th>pixel2</th>\n",
       "      <th>pixel3</th>\n",
       "      <th>pixel4</th>\n",
       "      <th>pixel5</th>\n",
       "      <th>pixel6</th>\n",
       "      <th>pixel7</th>\n",
       "      <th>pixel8</th>\n",
       "      <th>...</th>\n",
       "      <th>pixel774</th>\n",
       "      <th>pixel775</th>\n",
       "      <th>pixel776</th>\n",
       "      <th>pixel777</th>\n",
       "      <th>pixel778</th>\n",
       "      <th>pixel779</th>\n",
       "      <th>pixel780</th>\n",
       "      <th>pixel781</th>\n",
       "      <th>pixel782</th>\n",
       "      <th>pixel783</th>\n",
       "    </tr>\n",
       "  </thead>\n",
       "  <tbody>\n",
       "    <tr>\n",
       "      <th>0</th>\n",
       "      <td>1</td>\n",
       "      <td>0</td>\n",
       "      <td>0</td>\n",
       "      <td>0</td>\n",
       "      <td>0</td>\n",
       "      <td>0</td>\n",
       "      <td>0</td>\n",
       "      <td>0</td>\n",
       "      <td>0</td>\n",
       "      <td>0</td>\n",
       "      <td>...</td>\n",
       "      <td>0</td>\n",
       "      <td>0</td>\n",
       "      <td>0</td>\n",
       "      <td>0</td>\n",
       "      <td>0</td>\n",
       "      <td>0</td>\n",
       "      <td>0</td>\n",
       "      <td>0</td>\n",
       "      <td>0</td>\n",
       "      <td>0</td>\n",
       "    </tr>\n",
       "    <tr>\n",
       "      <th>1</th>\n",
       "      <td>0</td>\n",
       "      <td>0</td>\n",
       "      <td>0</td>\n",
       "      <td>0</td>\n",
       "      <td>0</td>\n",
       "      <td>0</td>\n",
       "      <td>0</td>\n",
       "      <td>0</td>\n",
       "      <td>0</td>\n",
       "      <td>0</td>\n",
       "      <td>...</td>\n",
       "      <td>0</td>\n",
       "      <td>0</td>\n",
       "      <td>0</td>\n",
       "      <td>0</td>\n",
       "      <td>0</td>\n",
       "      <td>0</td>\n",
       "      <td>0</td>\n",
       "      <td>0</td>\n",
       "      <td>0</td>\n",
       "      <td>0</td>\n",
       "    </tr>\n",
       "    <tr>\n",
       "      <th>2</th>\n",
       "      <td>1</td>\n",
       "      <td>0</td>\n",
       "      <td>0</td>\n",
       "      <td>0</td>\n",
       "      <td>0</td>\n",
       "      <td>0</td>\n",
       "      <td>0</td>\n",
       "      <td>0</td>\n",
       "      <td>0</td>\n",
       "      <td>0</td>\n",
       "      <td>...</td>\n",
       "      <td>0</td>\n",
       "      <td>0</td>\n",
       "      <td>0</td>\n",
       "      <td>0</td>\n",
       "      <td>0</td>\n",
       "      <td>0</td>\n",
       "      <td>0</td>\n",
       "      <td>0</td>\n",
       "      <td>0</td>\n",
       "      <td>0</td>\n",
       "    </tr>\n",
       "    <tr>\n",
       "      <th>3</th>\n",
       "      <td>4</td>\n",
       "      <td>0</td>\n",
       "      <td>0</td>\n",
       "      <td>0</td>\n",
       "      <td>0</td>\n",
       "      <td>0</td>\n",
       "      <td>0</td>\n",
       "      <td>0</td>\n",
       "      <td>0</td>\n",
       "      <td>0</td>\n",
       "      <td>...</td>\n",
       "      <td>0</td>\n",
       "      <td>0</td>\n",
       "      <td>0</td>\n",
       "      <td>0</td>\n",
       "      <td>0</td>\n",
       "      <td>0</td>\n",
       "      <td>0</td>\n",
       "      <td>0</td>\n",
       "      <td>0</td>\n",
       "      <td>0</td>\n",
       "    </tr>\n",
       "    <tr>\n",
       "      <th>4</th>\n",
       "      <td>0</td>\n",
       "      <td>0</td>\n",
       "      <td>0</td>\n",
       "      <td>0</td>\n",
       "      <td>0</td>\n",
       "      <td>0</td>\n",
       "      <td>0</td>\n",
       "      <td>0</td>\n",
       "      <td>0</td>\n",
       "      <td>0</td>\n",
       "      <td>...</td>\n",
       "      <td>0</td>\n",
       "      <td>0</td>\n",
       "      <td>0</td>\n",
       "      <td>0</td>\n",
       "      <td>0</td>\n",
       "      <td>0</td>\n",
       "      <td>0</td>\n",
       "      <td>0</td>\n",
       "      <td>0</td>\n",
       "      <td>0</td>\n",
       "    </tr>\n",
       "  </tbody>\n",
       "</table>\n",
       "<p>5 rows × 785 columns</p>\n",
       "</div>"
      ],
      "text/plain": [
       "   label  pixel0  pixel1  pixel2  pixel3  pixel4  pixel5  pixel6  pixel7  \\\n",
       "0      1       0       0       0       0       0       0       0       0   \n",
       "1      0       0       0       0       0       0       0       0       0   \n",
       "2      1       0       0       0       0       0       0       0       0   \n",
       "3      4       0       0       0       0       0       0       0       0   \n",
       "4      0       0       0       0       0       0       0       0       0   \n",
       "\n",
       "   pixel8    ...     pixel774  pixel775  pixel776  pixel777  pixel778  \\\n",
       "0       0    ...            0         0         0         0         0   \n",
       "1       0    ...            0         0         0         0         0   \n",
       "2       0    ...            0         0         0         0         0   \n",
       "3       0    ...            0         0         0         0         0   \n",
       "4       0    ...            0         0         0         0         0   \n",
       "\n",
       "   pixel779  pixel780  pixel781  pixel782  pixel783  \n",
       "0         0         0         0         0         0  \n",
       "1         0         0         0         0         0  \n",
       "2         0         0         0         0         0  \n",
       "3         0         0         0         0         0  \n",
       "4         0         0         0         0         0  \n",
       "\n",
       "[5 rows x 785 columns]"
      ]
     },
     "execution_count": 26,
     "metadata": {},
     "output_type": "execute_result"
    }
   ],
   "source": [
    "data.head()"
   ]
  },
  {
   "cell_type": "code",
   "execution_count": 44,
   "metadata": {},
   "outputs": [
    {
     "name": "stdout",
     "output_type": "stream",
     "text": [
      "Stored 'data' (DataFrame)\n"
     ]
    }
   ],
   "source": [
    "%store data"
   ]
  },
  {
   "cell_type": "code",
   "execution_count": 41,
   "metadata": {
    "collapsed": true
   },
   "outputs": [],
   "source": [
    "#Read the documentation\n",
    "%store?"
   ]
  },
  {
   "cell_type": "code",
   "execution_count": 45,
   "metadata": {},
   "outputs": [
    {
     "name": "stdout",
     "output_type": "stream",
     "text": [
      "       label  pixel0  pixel1  pixel2  pixel3  pixel4  pixel5  pixel6  pixel7  \\\n",
      "0          1       0       0       0       0       0       0       0       0   \n",
      "1          0       0       0       0       0       0       0       0       0   \n",
      "2          1       0       0       0       0       0       0       0       0   \n",
      "3          4       0       0       0       0       0       0       0       0   \n",
      "4          0       0       0       0       0       0       0       0       0   \n",
      "5          0       0       0       0       0       0       0       0       0   \n",
      "6          7       0       0       0       0       0       0       0       0   \n",
      "7          3       0       0       0       0       0       0       0       0   \n",
      "8          5       0       0       0       0       0       0       0       0   \n",
      "9          3       0       0       0       0       0       0       0       0   \n",
      "10         8       0       0       0       0       0       0       0       0   \n",
      "11         9       0       0       0       0       0       0       0       0   \n",
      "12         1       0       0       0       0       0       0       0       0   \n",
      "13         3       0       0       0       0       0       0       0       0   \n",
      "14         3       0       0       0       0       0       0       0       0   \n",
      "15         1       0       0       0       0       0       0       0       0   \n",
      "16         2       0       0       0       0       0       0       0       0   \n",
      "17         0       0       0       0       0       0       0       0       0   \n",
      "18         7       0       0       0       0       0       0       0       0   \n",
      "19         5       0       0       0       0       0       0       0       0   \n",
      "20         8       0       0       0       0       0       0       0       0   \n",
      "21         6       0       0       0       0       0       0       0       0   \n",
      "22         2       0       0       0       0       0       0       0       0   \n",
      "23         0       0       0       0       0       0       0       0       0   \n",
      "24         2       0       0       0       0       0       0       0       0   \n",
      "25         3       0       0       0       0       0       0       0       0   \n",
      "26         6       0       0       0       0       0       0       0       0   \n",
      "27         9       0       0       0       0       0       0       0       0   \n",
      "28         9       0       0       0       0       0       0       0       0   \n",
      "29         7       0       0       0       0       0       0       0       0   \n",
      "...      ...     ...     ...     ...     ...     ...     ...     ...     ...   \n",
      "41970      2       0       0       0       0       0       0       0       0   \n",
      "41971      3       0       0       0       0       0       0       0       0   \n",
      "41972      4       0       0       0       0       0       0       0       0   \n",
      "41973      4       0       0       0       0       0       0       0       0   \n",
      "41974      3       0       0       0       0       0       0       0       0   \n",
      "41975      9       0       0       0       0       0       0       0       0   \n",
      "41976      2       0       0       0       0       0       0       0       0   \n",
      "41977      4       0       0       0       0       0       0       0       0   \n",
      "41978      4       0       0       0       0       0       0       0       0   \n",
      "41979      4       0       0       0       0       0       0       0       0   \n",
      "41980      7       0       0       0       0       0       0       0       0   \n",
      "41981      2       0       0       0       0       0       0       0       0   \n",
      "41982      8       0       0       0       0       0       0       0       0   \n",
      "41983      7       0       0       0       0       0       0       0       0   \n",
      "41984      3       0       0       0       0       0       0       0       0   \n",
      "41985      3       0       0       0       0       0       0       0       0   \n",
      "41986      0       0       0       0       0       0       0       0       0   \n",
      "41987      5       0       0       0       0       0       0       0       0   \n",
      "41988      0       0       0       0       0       0       0       0       0   \n",
      "41989      5       0       0       0       0       0       0       0       0   \n",
      "41990      3       0       0       0       0       0       0       0       0   \n",
      "41991      1       0       0       0       0       0       0       0       0   \n",
      "41992      9       0       0       0       0       0       0       0       0   \n",
      "41993      6       0       0       0       0       0       0       0       0   \n",
      "41994      4       0       0       0       0       0       0       0       0   \n",
      "41995      0       0       0       0       0       0       0       0       0   \n",
      "41996      1       0       0       0       0       0       0       0       0   \n",
      "41997      7       0       0       0       0       0       0       0       0   \n",
      "41998      6       0       0       0       0       0       0       0       0   \n",
      "41999      9       0       0       0       0       0       0       0       0   \n",
      "\n",
      "       pixel8    ...     pixel774  pixel775  pixel776  pixel777  pixel778  \\\n",
      "0           0    ...            0         0         0         0         0   \n",
      "1           0    ...            0         0         0         0         0   \n",
      "2           0    ...            0         0         0         0         0   \n",
      "3           0    ...            0         0         0         0         0   \n",
      "4           0    ...            0         0         0         0         0   \n",
      "5           0    ...            0         0         0         0         0   \n",
      "6           0    ...            0         0         0         0         0   \n",
      "7           0    ...            0         0         0         0         0   \n",
      "8           0    ...            0         0         0         0         0   \n",
      "9           0    ...            0         0         0         0         0   \n",
      "10          0    ...            0         0         0         0         0   \n",
      "11          0    ...            0         0         0         0         0   \n",
      "12          0    ...            0         0         0         0         0   \n",
      "13          0    ...            0         0         0         0         0   \n",
      "14          0    ...            0         0         0         0         0   \n",
      "15          0    ...            0         0         0         0         0   \n",
      "16          0    ...            0         0         0         0         0   \n",
      "17          0    ...            0         0         0         0         0   \n",
      "18          0    ...            0         0         0         0         0   \n",
      "19          0    ...            0         0         0         0         0   \n",
      "20          0    ...            0         0         0         0         0   \n",
      "21          0    ...            0         0         0         0         0   \n",
      "22          0    ...            0         0         0         0         0   \n",
      "23          0    ...            0         0         0         0         0   \n",
      "24          0    ...            0         0         0         0         0   \n",
      "25          0    ...            0         0         0         0         0   \n",
      "26          0    ...            0         0         0         0         0   \n",
      "27          0    ...            0         0         0         0         0   \n",
      "28          0    ...            0         0         0         0         0   \n",
      "29          0    ...            0         0         0         0         0   \n",
      "...       ...    ...          ...       ...       ...       ...       ...   \n",
      "41970       0    ...            0         0         0         0         0   \n",
      "41971       0    ...            0         0         0         0         0   \n",
      "41972       0    ...            0         0         0         0         0   \n",
      "41973       0    ...            0         0         0         0         0   \n",
      "41974       0    ...            0         0         0         0         0   \n",
      "41975       0    ...            0         0         0         0         0   \n",
      "41976       0    ...            0         0         0         0         0   \n",
      "41977       0    ...            0         0         0         0         0   \n",
      "41978       0    ...            0         0         0         0         0   \n",
      "41979       0    ...            0         0         0         0         0   \n",
      "41980       0    ...           27       253       110         0         0   \n",
      "41981       0    ...            0         0         0         0         0   \n",
      "41982       0    ...            0         0         0         0         0   \n",
      "41983       0    ...            0         0         0         0         0   \n",
      "41984       0    ...            0         0         0         0         0   \n",
      "41985       0    ...            0         0         0         0         0   \n",
      "41986       0    ...            0         0         0         0         0   \n",
      "41987       0    ...            0         0         0         0         0   \n",
      "41988       0    ...            0         0         0         0         0   \n",
      "41989       0    ...            0         0         0         0         0   \n",
      "41990       0    ...            0         0         0         0         0   \n",
      "41991       0    ...            0         0         0         0         0   \n",
      "41992       0    ...            0         0         0         0         0   \n",
      "41993       0    ...            0         0         0         0         0   \n",
      "41994       0    ...            0         0         0         0         0   \n",
      "41995       0    ...            0         0         0         0         0   \n",
      "41996       0    ...            0         0         0         0         0   \n",
      "41997       0    ...            0         0         0         0         0   \n",
      "41998       0    ...            0         0         0         0         0   \n",
      "41999       0    ...            0         0         0         0         0   \n",
      "\n",
      "       pixel779  pixel780  pixel781  pixel782  pixel783  \n",
      "0             0         0         0         0         0  \n",
      "1             0         0         0         0         0  \n",
      "2             0         0         0         0         0  \n",
      "3             0         0         0         0         0  \n",
      "4             0         0         0         0         0  \n",
      "5             0         0         0         0         0  \n",
      "6             0         0         0         0         0  \n",
      "7             0         0         0         0         0  \n",
      "8             0         0         0         0         0  \n",
      "9             0         0         0         0         0  \n",
      "10            0         0         0         0         0  \n",
      "11            0         0         0         0         0  \n",
      "12            0         0         0         0         0  \n",
      "13            0         0         0         0         0  \n",
      "14            0         0         0         0         0  \n",
      "15            0         0         0         0         0  \n",
      "16            0         0         0         0         0  \n",
      "17            0         0         0         0         0  \n",
      "18            0         0         0         0         0  \n",
      "19            0         0         0         0         0  \n",
      "20            0         0         0         0         0  \n",
      "21            0         0         0         0         0  \n",
      "22            0         0         0         0         0  \n",
      "23            0         0         0         0         0  \n",
      "24            0         0         0         0         0  \n",
      "25            0         0         0         0         0  \n",
      "26            0         0         0         0         0  \n",
      "27            0         0         0         0         0  \n",
      "28            0         0         0         0         0  \n",
      "29            0         0         0         0         0  \n",
      "...         ...       ...       ...       ...       ...  \n",
      "41970         0         0         0         0         0  \n",
      "41971         0         0         0         0         0  \n",
      "41972         0         0         0         0         0  \n",
      "41973         0         0         0         0         0  \n",
      "41974         0         0         0         0         0  \n",
      "41975         0         0         0         0         0  \n",
      "41976         0         0         0         0         0  \n",
      "41977         0         0         0         0         0  \n",
      "41978         0         0         0         0         0  \n",
      "41979         0         0         0         0         0  \n",
      "41980         0         0         0         0         0  \n",
      "41981         0         0         0         0         0  \n",
      "41982         0         0         0         0         0  \n",
      "41983         0         0         0         0         0  \n",
      "41984         0         0         0         0         0  \n",
      "41985         0         0         0         0         0  \n",
      "41986         0         0         0         0         0  \n",
      "41987         0         0         0         0         0  \n",
      "41988         0         0         0         0         0  \n",
      "41989         0         0         0         0         0  \n",
      "41990         0         0         0         0         0  \n",
      "41991         0         0         0         0         0  \n",
      "41992         0         0         0         0         0  \n",
      "41993         0         0         0         0         0  \n",
      "41994         0         0         0         0         0  \n",
      "41995         0         0         0         0         0  \n",
      "41996         0         0         0         0         0  \n",
      "41997         0         0         0         0         0  \n",
      "41998         0         0         0         0         0  \n",
      "41999         0         0         0         0         0  \n",
      "\n",
      "[42000 rows x 785 columns]\n"
     ]
    }
   ],
   "source": [
    "#This cell and some code documentation below are what you need to retrieve the object in a \n",
    "# another jupyter notebook.\n",
    "%store -r data\n",
    "data = data\n",
    "print(data)"
   ]
  },
  {
   "cell_type": "markdown",
   "metadata": {},
   "source": [
    "From the documentation a couple use cases.\n",
    "* ``%store``          - Show list of all variables and their current values\n",
    "* ``%store spam``     - Store the *current* value of the variable spam to disk\n",
    "* ``%store -d spam``  - Remove the variable and its value from storage\n",
    "* ``%store -z``       - Remove all variables from storage\n",
    "* ``%store -r``       - Refresh all variables from store (overwrite current vals)\n",
    "                        \n",
    "* ``%store -r spam bar`` - Refresh specified variables from store (delete current val)\n",
    "                           \n",
    "* ``%store foo >a.txt``  - Store value of foo to new file a.txt\n",
    "* ``%store foo >>a.txt`` - Append value of foo to file a.txt"
   ]
  },
  {
   "cell_type": "code",
   "execution_count": 46,
   "metadata": {},
   "outputs": [
    {
     "name": "stdout",
     "output_type": "stream",
     "text": [
      "Writing 'data' (DataFrame) to file 'digitstest.csv'.\n"
     ]
    }
   ],
   "source": [
    "# Out of curosity will make a new csv file instead of just text?\n",
    "# it will but you would need to do a lot of formatting. Not worth your time\n",
    "# just stick to pandas to_csv\n",
    "%store data >digitstest.csv\n"
   ]
  },
  {
   "cell_type": "code",
   "execution_count": 42,
   "metadata": {
    "collapsed": true
   },
   "outputs": [],
   "source": [
    "#delete data\n",
    "%store -d data"
   ]
  },
  {
   "cell_type": "code",
   "execution_count": 43,
   "metadata": {},
   "outputs": [
    {
     "name": "stdout",
     "output_type": "stream",
     "text": [
      "Stored variables and their in-db values:\n"
     ]
    }
   ],
   "source": [
    "#check and see if it worked\n",
    "%store"
   ]
  },
  {
   "cell_type": "markdown",
   "metadata": {},
   "source": [
    "<h1>%ls *.  and %mkdir</h1>\n",
    "<p>Useful shell type commands to see into your current working directory and make new folders if necessary.  </p>"
   ]
  },
  {
   "cell_type": "code",
   "execution_count": 50,
   "metadata": {},
   "outputs": [
    {
     "data": {
      "text/plain": [
       "'C:\\\\Users\\\\Jared\\\\Desktop'"
      ]
     },
     "execution_count": 50,
     "metadata": {},
     "output_type": "execute_result"
    }
   ],
   "source": [
    "pwd"
   ]
  },
  {
   "cell_type": "code",
   "execution_count": null,
   "metadata": {},
   "outputs": [],
   "source": [
    "#Will return a list of all ipynb in your current project working directory.\n",
    "# can change to other file types like *.csv,*.txt ect ect.\n",
    "%ls *.ipynb"
   ]
  },
  {
   "cell_type": "code",
   "execution_count": 49,
   "metadata": {},
   "outputs": [],
   "source": [
    "#Makes a new folder where ever your project working directory is located.\n",
    "%mkdir newdirectory\n"
   ]
  },
  {
   "cell_type": "code",
   "execution_count": null,
   "metadata": {
    "collapsed": true
   },
   "outputs": [],
   "source": []
  }
 ],
 "metadata": {
  "kernelspec": {
   "display_name": "Python 3",
   "language": "python",
   "name": "python3"
  },
  "language_info": {
   "codemirror_mode": {
    "name": "ipython",
    "version": 3
   },
   "file_extension": ".py",
   "mimetype": "text/x-python",
   "name": "python",
   "nbconvert_exporter": "python",
   "pygments_lexer": "ipython3",
   "version": "3.6.2"
  }
 },
 "nbformat": 4,
 "nbformat_minor": 2
}
