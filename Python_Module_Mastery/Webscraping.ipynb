{
 "cells": [
  {
   "cell_type": "markdown",
   "metadata": {},
   "source": [
    "Items used during the workshop:\n",
    "https://tinyurl.com/photographer-density-in-the-us # Python notebook from the workshop.\n",
    "https://www.crummy.com/software/BeautifulSoup/bs4/doc/ # Beautiful Soup Documentation.\n",
    "https://elitedatascience.com/python-web-scraping-libraries # Different Webscraping libraries in Python.\n"
   ]
  },
  {
   "cell_type": "markdown",
   "metadata": {},
   "source": [
    "Environment setup"
   ]
  },
  {
   "cell_type": "code",
   "execution_count": null,
   "metadata": {
    "collapsed": true
   },
   "outputs": [],
   "source": [
    "# Import pertinent packages\n",
    "import requests                                              # use to retrieve data from the web\n",
    "from bs4 import BeautifulSoup                                # use to convert raw HTML into a useable programming object\n",
    "import time, re                                              # use time to calculate elapsed time code takes to use\n",
    "                                                             # use re for some natural language processing\n",
    "import pandas as pd                                          # use pandas for data manipulation\n",
    "from plotly.offline import init_notebook_mode, iplot         # use plotly for sweet visuals"
   ]
  },
  {
   "cell_type": "markdown",
   "metadata": {},
   "source": [
    "Create urls for each state"
   ]
  },
  {
   "cell_type": "code",
   "execution_count": null,
   "metadata": {
    "collapsed": true
   },
   "outputs": [],
   "source": [
    "# This the main url for the photography directory project site\n",
    "url = 'https://www.photographydirectoryproject.com/professional-photographers/usa/'\n",
    "\n",
    "# Make a list of all 50 United States\n",
    "states = ['Alabama', 'Alaska', 'Arizona', 'Arkansas', 'California', 'Colorado', 'Connecticut', 'Delaware', 'Florida', 'Georgia',\n",
    "          'Hawaii', 'Idaho', 'Illinois', 'Indiana', 'Iowa', 'Kansas', 'Kentucky', 'Louisiana', 'Maine', 'Maryland',\n",
    "          'Massachusetts', 'Michigan', 'Minnesota', 'Mississippi', 'Missouri', 'Montana', 'Nebraska', 'Nevada', 'New Hampshire',\n",
    "          'New Jersey', 'New Mexico', 'New York', 'North Carolina', 'North Dakota', 'Ohio', 'Oklahoma', 'Oregon', 'Pennsylvania',\n",
    "          'Rhode Island', 'South Carolina', 'South Dakota', 'Tennessee', 'Texas', 'Utah', 'Vermont', 'Virginia', 'Washington',\n",
    "          'West Virginia', 'Wisconsin', 'Wyoming']\n",
    "\n",
    "# Make sure there are 50\n",
    "len(states)"
   ]
  },
  {
   "cell_type": "markdown",
   "metadata": {},
   "source": [
    "Count number of photographers for the 50 United States"
   ]
  },
  {
   "cell_type": "code",
   "execution_count": null,
   "metadata": {
    "collapsed": true
   },
   "outputs": [],
   "source": [
    "# Make a list of all 50 unique urls for the 50 United States\n",
    "states_links = [url+state.lower()+'/' if len(state)==1 else url+state.replace(' ', '-').lower()+'/' for state in states]\n",
    "\n",
    "# Make sure it worked\n",
    "states_links[:5]"
   ]
  },
  {
   "cell_type": "markdown",
   "metadata": {},
   "source": [
    "Visualize data in a table"
   ]
  },
  {
   "cell_type": "code",
   "execution_count": null,
   "metadata": {
    "collapsed": true
   },
   "outputs": [],
   "source": [
    "# Initialize a dictionary to append data to\n",
    "photographers_by_state = {}\n",
    "\n",
    "# Start a timer\n",
    "s = time.time()\n",
    "\n",
    "# Loop through each unique url, request the HTML, turn HTML into a useful programming object,\n",
    "# parse through and get the number of photographers listed,\n",
    "# then append this knowledge to our dictionary from above.\n",
    "# If that doesn't work, this means there are 0 photographers listed\n",
    "# for that state on this website.\n",
    "for num, unique_url in enumerate(states_links):\n",
    "    try:\n",
    "        html = requests.get(unique_url)\n",
    "        soup = BeautifulSoup(html.content, 'lxml')\n",
    "        amount = re.findall('<span class=\"ia-sorting__found\">Listings found: (.+)</span>', str(soup))\n",
    "        photographers_by_state[states[num]] = int(amount[0])\n",
    "    except:\n",
    "        photographers_by_state[states[num]] = 0\n",
    "        \n",
    "# Print how long it took for this code to execute\n",
    "print('It took {:.2f} seconds to run this code.'.format(time.time()-s))"
   ]
  },
  {
   "cell_type": "markdown",
   "metadata": {},
   "source": [
    "Get each 50 United State's code and make a new column in table"
   ]
  },
  {
   "cell_type": "code",
   "execution_count": null,
   "metadata": {
    "collapsed": true
   },
   "outputs": [],
   "source": [
    "# Turn dictionary into a table\n",
    "photographers_table = pd.DataFrame(list(photographers_by_state.items()), columns=['state', 'total'])\n",
    "\n",
    "# Make sure the table was made correctly\n",
    "photographers_table.head()"
   ]
  },
  {
   "cell_type": "code",
   "execution_count": null,
   "metadata": {
    "collapsed": true
   },
   "outputs": [],
   "source": [
    "# Get a random CSV file of United State data I found online \n",
    "temperary_table = pd.read_csv('https://raw.githubusercontent.com/plotly/datasets/master/2011_us_ag_exports.csv')\n",
    "\n",
    "# Take the United State codes column and attach it to our photographer table\n",
    "photographers_table['code'] = temperary_table['code']\n",
    "\n",
    "# Make sure the column was attached correctly\n",
    "photographers_table.head()"
   ]
  },
  {
   "cell_type": "markdown",
   "metadata": {},
   "source": [
    "Visualize data in a graphic"
   ]
  },
  {
   "cell_type": "code",
   "execution_count": null,
   "metadata": {
    "collapsed": true
   },
   "outputs": [],
   "source": [
    "init_notebook_mode()\n",
    "\n",
    "scale = [[0.0, 'rgb(242,240,247)'], [0.2, 'rgb(218,218,235)'], [0.4, 'rgb(188,189,220)'],\\\n",
    "            [0.6, 'rgb(158,154,200)'], [0.8, 'rgb(117,107,177)'], [1.0, 'rgb(84,39,143)']]\n",
    "\n",
    "data = [dict(type='choropleth', colorscale=scale, autocolorscale=False, locations=photographers_table['code'],\n",
    "             z=photographers_table['total'].astype(float), locationmode='USA-states', text=photographers_table['state'],\n",
    "             marker=dict(line=dict(color='rgb(255,255,255)', width=2)),\n",
    "             colorbar=dict(title=\"Total Photographers\"))]\n",
    "\n",
    "layout = dict(title='Photographer Density in the United States as of 15 Mar 2018<br>(Hover for breakdown)',\n",
    "              geo=dict(scope='usa', projection=dict(type='albers usa'), showlakes=True, lakecolor='rgb(255, 255, 255)'))\n",
    "\n",
    "fig = dict(data=data, layout=layout)\n",
    "iplot(fig)\n",
    "\n"
   ]
  }
 ],
 "metadata": {
  "kernelspec": {
   "display_name": "Python 3",
   "language": "python",
   "name": "python3"
  },
  "language_info": {
   "codemirror_mode": {
    "name": "ipython",
    "version": 3
   },
   "file_extension": ".py",
   "mimetype": "text/x-python",
   "name": "python",
   "nbconvert_exporter": "python",
   "pygments_lexer": "ipython3",
   "version": "3.6.2"
  }
 },
 "nbformat": 4,
 "nbformat_minor": 2
}
