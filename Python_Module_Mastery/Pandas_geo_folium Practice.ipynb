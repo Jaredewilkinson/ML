{
 "cells": [
  {
   "cell_type": "markdown",
   "metadata": {},
   "source": [
    "# I/O"
   ]
  },
  {
   "cell_type": "code",
   "execution_count": 12,
   "metadata": {},
   "outputs": [
    {
     "name": "stdout",
     "output_type": "stream",
     "text": [
      "The history saving thread hit an unexpected error (OperationalError('database or disk is full',)).History will not be written to the database.\n"
     ]
    }
   ],
   "source": [
    "from os import path\n",
    "fname = path.expanduser(r'C:/Users/Jared/Desktop/Ex_Files_Data_Science_Python/Exercise Files/Ch04/04_02/track.csv')"
   ]
  },
  {
   "cell_type": "code",
   "execution_count": 13,
   "metadata": {},
   "outputs": [
    {
     "data": {
      "text/plain": [
       "'C:/Users/Jared/Desktop/Ex_Files_Data_Science_Python/Exercise Files/Ch04/04_02/track.csv'"
      ]
     },
     "execution_count": 13,
     "metadata": {},
     "output_type": "execute_result"
    }
   ],
   "source": [
    "fname"
   ]
  },
  {
   "cell_type": "code",
   "execution_count": 14,
   "metadata": {},
   "outputs": [
    {
     "name": "stdout",
     "output_type": "stream",
     "text": [
      " Volume in drive C is BOOTCAMP\n",
      " Volume Serial Number is 041B-A4F3\n",
      "\n",
      " Directory of C:\\Users\\Jared\\Desktop\\ML\\Python_Module_Mastery\n",
      "\n"
     ]
    },
    {
     "name": "stderr",
     "output_type": "stream",
     "text": [
      "File Not Found\n"
     ]
    }
   ],
   "source": [
    "%ls *.csv"
   ]
  },
  {
   "cell_type": "code",
   "execution_count": 15,
   "metadata": {},
   "outputs": [
    {
     "data": {
      "text/plain": [
       "43844"
      ]
     },
     "execution_count": 15,
     "metadata": {},
     "output_type": "execute_result"
    }
   ],
   "source": [
    "path.getsize(fname)"
   ]
  },
  {
   "cell_type": "code",
   "execution_count": 17,
   "metadata": {},
   "outputs": [
    {
     "data": {
      "text/plain": [
       "42.81640625"
      ]
     },
     "execution_count": 17,
     "metadata": {},
     "output_type": "execute_result"
    }
   ],
   "source": [
    "path.getsize(fname)/ (1<<10)"
   ]
  },
  {
   "cell_type": "code",
   "execution_count": 24,
   "metadata": {},
   "outputs": [
    {
     "name": "stdout",
     "output_type": "stream",
     "text": [
      "time,lat,lng,height\n",
      "2015-08-20 03:48:07.235,35.015021,32.519585,136.1999969482422\n",
      "2015-08-20 03:48:24.734,35.014954,32.519606,126.5999984741211\n",
      "2015-08-20 03:48:25.660,35.014871,32.519612,123.0\n",
      "2015-08-20 03:48:26.819,35.014824,32.519654,120.5\n",
      "2015-08-20 03:48:27.828,35.014776,32.519689,118.9000015258789\n",
      "2015-08-20 03:48:29.720,35.014704,32.519691,119.9000015258789\n",
      "2015-08-20 03:48:30.669,35.014657,32.519734,120.9000015258789\n",
      "2015-08-20 03:48:33.793,35.014563,32.519719,121.69999694824219\n",
      "2015-08-20 03:48:34.869,35.014549,32.519694,121.19999694824219\n",
      "2015-08-20 03:48:37.708,35.014515,32.519625,121.69999694824219\n"
     ]
    }
   ],
   "source": [
    "with open(fname) as fp:\n",
    "    for lnum, line in enumerate (fp):\n",
    "        if lnum> 10:\n",
    "            break\n",
    "        print(line[:-1])"
   ]
  },
  {
   "cell_type": "code",
   "execution_count": 25,
   "metadata": {},
   "outputs": [
    {
     "name": "stdout",
     "output_type": "stream",
     "text": [
      "741\n"
     ]
    }
   ],
   "source": [
    "with open(fname) as fp:\n",
    "    print(sum(1 for line in fp))"
   ]
  },
  {
   "cell_type": "code",
   "execution_count": 26,
   "metadata": {
    "collapsed": true
   },
   "outputs": [],
   "source": [
    "import pandas as pd\n"
   ]
  },
  {
   "cell_type": "code",
   "execution_count": 27,
   "metadata": {
    "collapsed": true
   },
   "outputs": [],
   "source": [
    "df = pd.read_csv(fname)"
   ]
  },
  {
   "cell_type": "code",
   "execution_count": 28,
   "metadata": {},
   "outputs": [
    {
     "data": {
      "text/plain": [
       "740"
      ]
     },
     "execution_count": 28,
     "metadata": {},
     "output_type": "execute_result"
    }
   ],
   "source": [
    "len(df)"
   ]
  },
  {
   "cell_type": "code",
   "execution_count": 29,
   "metadata": {},
   "outputs": [
    {
     "data": {
      "text/plain": [
       "Index(['time', 'lat', 'lng', 'height'], dtype='object')"
      ]
     },
     "execution_count": 29,
     "metadata": {},
     "output_type": "execute_result"
    }
   ],
   "source": [
    "df.columns"
   ]
  },
  {
   "cell_type": "code",
   "execution_count": 31,
   "metadata": {},
   "outputs": [
    {
     "name": "stdout",
     "output_type": "stream",
     "text": [
      "<class 'pandas.core.frame.DataFrame'>\n",
      "RangeIndex: 740 entries, 0 to 739\n",
      "Data columns (total 4 columns):\n",
      "time      740 non-null object\n",
      "lat       740 non-null float64\n",
      "lng       740 non-null float64\n",
      "height    740 non-null float64\n",
      "dtypes: float64(3), object(1)\n",
      "memory usage: 23.2+ KB\n"
     ]
    }
   ],
   "source": [
    "df.info()"
   ]
  },
  {
   "cell_type": "code",
   "execution_count": 32,
   "metadata": {},
   "outputs": [
    {
     "data": {
      "text/html": [
       "<div>\n",
       "<style>\n",
       "    .dataframe thead tr:only-child th {\n",
       "        text-align: right;\n",
       "    }\n",
       "\n",
       "    .dataframe thead th {\n",
       "        text-align: left;\n",
       "    }\n",
       "\n",
       "    .dataframe tbody tr th {\n",
       "        vertical-align: top;\n",
       "    }\n",
       "</style>\n",
       "<table border=\"1\" class=\"dataframe\">\n",
       "  <thead>\n",
       "    <tr style=\"text-align: right;\">\n",
       "      <th></th>\n",
       "      <th>time</th>\n",
       "      <th>lat</th>\n",
       "      <th>lng</th>\n",
       "      <th>height</th>\n",
       "    </tr>\n",
       "  </thead>\n",
       "  <tbody>\n",
       "    <tr>\n",
       "      <th>0</th>\n",
       "      <td>2015-08-20 03:48:07.235</td>\n",
       "      <td>35.015021</td>\n",
       "      <td>32.519585</td>\n",
       "      <td>136.199997</td>\n",
       "    </tr>\n",
       "    <tr>\n",
       "      <th>1</th>\n",
       "      <td>2015-08-20 03:48:24.734</td>\n",
       "      <td>35.014954</td>\n",
       "      <td>32.519606</td>\n",
       "      <td>126.599998</td>\n",
       "    </tr>\n",
       "    <tr>\n",
       "      <th>2</th>\n",
       "      <td>2015-08-20 03:48:25.660</td>\n",
       "      <td>35.014871</td>\n",
       "      <td>32.519612</td>\n",
       "      <td>123.000000</td>\n",
       "    </tr>\n",
       "    <tr>\n",
       "      <th>3</th>\n",
       "      <td>2015-08-20 03:48:26.819</td>\n",
       "      <td>35.014824</td>\n",
       "      <td>32.519654</td>\n",
       "      <td>120.500000</td>\n",
       "    </tr>\n",
       "    <tr>\n",
       "      <th>4</th>\n",
       "      <td>2015-08-20 03:48:27.828</td>\n",
       "      <td>35.014776</td>\n",
       "      <td>32.519689</td>\n",
       "      <td>118.900002</td>\n",
       "    </tr>\n",
       "  </tbody>\n",
       "</table>\n",
       "</div>"
      ],
      "text/plain": [
       "                      time        lat        lng      height\n",
       "0  2015-08-20 03:48:07.235  35.015021  32.519585  136.199997\n",
       "1  2015-08-20 03:48:24.734  35.014954  32.519606  126.599998\n",
       "2  2015-08-20 03:48:25.660  35.014871  32.519612  123.000000\n",
       "3  2015-08-20 03:48:26.819  35.014824  32.519654  120.500000\n",
       "4  2015-08-20 03:48:27.828  35.014776  32.519689  118.900002"
      ]
     },
     "execution_count": 32,
     "metadata": {},
     "output_type": "execute_result"
    }
   ],
   "source": [
    "df.head(5)"
   ]
  },
  {
   "cell_type": "code",
   "execution_count": 33,
   "metadata": {},
   "outputs": [
    {
     "data": {
      "text/plain": [
       "time       object\n",
       "lat       float64\n",
       "lng       float64\n",
       "height    float64\n",
       "dtype: object"
      ]
     },
     "execution_count": 33,
     "metadata": {},
     "output_type": "execute_result"
    }
   ],
   "source": [
    "df.dtypes"
   ]
  },
  {
   "cell_type": "code",
   "execution_count": 34,
   "metadata": {
    "collapsed": true
   },
   "outputs": [],
   "source": [
    "df = pd.read_csv(fname, parse_dates =['time'])"
   ]
  },
  {
   "cell_type": "code",
   "execution_count": 35,
   "metadata": {},
   "outputs": [
    {
     "data": {
      "text/plain": [
       "time      datetime64[ns]\n",
       "lat              float64\n",
       "lng              float64\n",
       "height           float64\n",
       "dtype: object"
      ]
     },
     "execution_count": 35,
     "metadata": {},
     "output_type": "execute_result"
    }
   ],
   "source": [
    "df.dtypes"
   ]
  },
  {
   "cell_type": "code",
   "execution_count": 36,
   "metadata": {
    "collapsed": true
   },
   "outputs": [
    {
     "data": {
      "text/plain": [
       "0      35.015021\n",
       "1      35.014954\n",
       "2      35.014871\n",
       "3      35.014824\n",
       "4      35.014776\n",
       "5      35.014704\n",
       "6      35.014657\n",
       "7      35.014563\n",
       "8      35.014549\n",
       "9      35.014515\n",
       "10     35.014505\n",
       "11     35.014481\n",
       "12     35.014472\n",
       "13     35.014439\n",
       "14     35.014432\n",
       "15     35.014414\n",
       "16     35.014400\n",
       "17     35.014372\n",
       "18     35.014365\n",
       "19     35.014337\n",
       "20     35.014331\n",
       "21     35.014303\n",
       "22     35.014306\n",
       "23     35.014340\n",
       "24     35.013531\n",
       "25     35.013606\n",
       "26     35.013630\n",
       "27     35.013705\n",
       "28     35.013730\n",
       "29     35.013809\n",
       "         ...    \n",
       "710    35.015705\n",
       "711    35.015640\n",
       "712    35.015617\n",
       "713    35.015551\n",
       "714    35.015533\n",
       "715    35.015468\n",
       "716    35.015444\n",
       "717    35.015369\n",
       "718    35.015343\n",
       "719    35.015264\n",
       "720    35.015238\n",
       "721    35.015157\n",
       "722    35.015129\n",
       "723    35.015048\n",
       "724    35.015023\n",
       "725    35.014943\n",
       "726    35.014916\n",
       "727    35.014835\n",
       "728    35.014810\n",
       "729    35.014737\n",
       "730    35.014709\n",
       "731    35.014617\n",
       "732    35.014584\n",
       "733    35.014518\n",
       "734    35.014484\n",
       "735    35.014387\n",
       "736    35.014355\n",
       "737    35.014279\n",
       "738    35.014264\n",
       "739    35.014212\n",
       "Name: lat, Length: 740, dtype: float64"
      ]
     },
     "execution_count": 36,
     "metadata": {},
     "output_type": "execute_result"
    }
   ],
   "source": [
    "df.lat"
   ]
  },
  {
   "cell_type": "code",
   "execution_count": 37,
   "metadata": {
    "collapsed": true
   },
   "outputs": [
    {
     "data": {
      "text/plain": [
       "0      35.015021\n",
       "1      35.014954\n",
       "2      35.014871\n",
       "3      35.014824\n",
       "4      35.014776\n",
       "5      35.014704\n",
       "6      35.014657\n",
       "7      35.014563\n",
       "8      35.014549\n",
       "9      35.014515\n",
       "10     35.014505\n",
       "11     35.014481\n",
       "12     35.014472\n",
       "13     35.014439\n",
       "14     35.014432\n",
       "15     35.014414\n",
       "16     35.014400\n",
       "17     35.014372\n",
       "18     35.014365\n",
       "19     35.014337\n",
       "20     35.014331\n",
       "21     35.014303\n",
       "22     35.014306\n",
       "23     35.014340\n",
       "24     35.013531\n",
       "25     35.013606\n",
       "26     35.013630\n",
       "27     35.013705\n",
       "28     35.013730\n",
       "29     35.013809\n",
       "         ...    \n",
       "710    35.015705\n",
       "711    35.015640\n",
       "712    35.015617\n",
       "713    35.015551\n",
       "714    35.015533\n",
       "715    35.015468\n",
       "716    35.015444\n",
       "717    35.015369\n",
       "718    35.015343\n",
       "719    35.015264\n",
       "720    35.015238\n",
       "721    35.015157\n",
       "722    35.015129\n",
       "723    35.015048\n",
       "724    35.015023\n",
       "725    35.014943\n",
       "726    35.014916\n",
       "727    35.014835\n",
       "728    35.014810\n",
       "729    35.014737\n",
       "730    35.014709\n",
       "731    35.014617\n",
       "732    35.014584\n",
       "733    35.014518\n",
       "734    35.014484\n",
       "735    35.014387\n",
       "736    35.014355\n",
       "737    35.014279\n",
       "738    35.014264\n",
       "739    35.014212\n",
       "Name: lat, Length: 740, dtype: float64"
      ]
     },
     "execution_count": 37,
     "metadata": {},
     "output_type": "execute_result"
    }
   ],
   "source": [
    "df['lat']"
   ]
  },
  {
   "cell_type": "code",
   "execution_count": 39,
   "metadata": {},
   "outputs": [
    {
     "data": {
      "text/html": [
       "<div>\n",
       "<style>\n",
       "    .dataframe thead tr:only-child th {\n",
       "        text-align: right;\n",
       "    }\n",
       "\n",
       "    .dataframe thead th {\n",
       "        text-align: left;\n",
       "    }\n",
       "\n",
       "    .dataframe tbody tr th {\n",
       "        vertical-align: top;\n",
       "    }\n",
       "</style>\n",
       "<table border=\"1\" class=\"dataframe\">\n",
       "  <thead>\n",
       "    <tr style=\"text-align: right;\">\n",
       "      <th></th>\n",
       "      <th>lat</th>\n",
       "      <th>lng</th>\n",
       "    </tr>\n",
       "  </thead>\n",
       "  <tbody>\n",
       "    <tr>\n",
       "      <th>0</th>\n",
       "      <td>35.015021</td>\n",
       "      <td>32.519585</td>\n",
       "    </tr>\n",
       "    <tr>\n",
       "      <th>1</th>\n",
       "      <td>35.014954</td>\n",
       "      <td>32.519606</td>\n",
       "    </tr>\n",
       "    <tr>\n",
       "      <th>2</th>\n",
       "      <td>35.014871</td>\n",
       "      <td>32.519612</td>\n",
       "    </tr>\n",
       "    <tr>\n",
       "      <th>3</th>\n",
       "      <td>35.014824</td>\n",
       "      <td>32.519654</td>\n",
       "    </tr>\n",
       "    <tr>\n",
       "      <th>4</th>\n",
       "      <td>35.014776</td>\n",
       "      <td>32.519689</td>\n",
       "    </tr>\n",
       "    <tr>\n",
       "      <th>5</th>\n",
       "      <td>35.014704</td>\n",
       "      <td>32.519691</td>\n",
       "    </tr>\n",
       "    <tr>\n",
       "      <th>6</th>\n",
       "      <td>35.014657</td>\n",
       "      <td>32.519734</td>\n",
       "    </tr>\n",
       "    <tr>\n",
       "      <th>7</th>\n",
       "      <td>35.014563</td>\n",
       "      <td>32.519719</td>\n",
       "    </tr>\n",
       "    <tr>\n",
       "      <th>8</th>\n",
       "      <td>35.014549</td>\n",
       "      <td>32.519694</td>\n",
       "    </tr>\n",
       "    <tr>\n",
       "      <th>9</th>\n",
       "      <td>35.014515</td>\n",
       "      <td>32.519625</td>\n",
       "    </tr>\n",
       "    <tr>\n",
       "      <th>10</th>\n",
       "      <td>35.014505</td>\n",
       "      <td>32.519599</td>\n",
       "    </tr>\n",
       "    <tr>\n",
       "      <th>11</th>\n",
       "      <td>35.014481</td>\n",
       "      <td>32.519514</td>\n",
       "    </tr>\n",
       "    <tr>\n",
       "      <th>12</th>\n",
       "      <td>35.014472</td>\n",
       "      <td>32.519486</td>\n",
       "    </tr>\n",
       "    <tr>\n",
       "      <th>13</th>\n",
       "      <td>35.014439</td>\n",
       "      <td>32.519405</td>\n",
       "    </tr>\n",
       "    <tr>\n",
       "      <th>14</th>\n",
       "      <td>35.014432</td>\n",
       "      <td>32.519379</td>\n",
       "    </tr>\n",
       "    <tr>\n",
       "      <th>15</th>\n",
       "      <td>35.014414</td>\n",
       "      <td>32.519309</td>\n",
       "    </tr>\n",
       "    <tr>\n",
       "      <th>16</th>\n",
       "      <td>35.014400</td>\n",
       "      <td>32.519287</td>\n",
       "    </tr>\n",
       "    <tr>\n",
       "      <th>17</th>\n",
       "      <td>35.014372</td>\n",
       "      <td>32.519211</td>\n",
       "    </tr>\n",
       "    <tr>\n",
       "      <th>18</th>\n",
       "      <td>35.014365</td>\n",
       "      <td>32.519187</td>\n",
       "    </tr>\n",
       "    <tr>\n",
       "      <th>19</th>\n",
       "      <td>35.014337</td>\n",
       "      <td>32.519106</td>\n",
       "    </tr>\n",
       "    <tr>\n",
       "      <th>20</th>\n",
       "      <td>35.014331</td>\n",
       "      <td>32.519084</td>\n",
       "    </tr>\n",
       "    <tr>\n",
       "      <th>21</th>\n",
       "      <td>35.014303</td>\n",
       "      <td>32.519009</td>\n",
       "    </tr>\n",
       "    <tr>\n",
       "      <th>22</th>\n",
       "      <td>35.014306</td>\n",
       "      <td>32.518989</td>\n",
       "    </tr>\n",
       "    <tr>\n",
       "      <th>23</th>\n",
       "      <td>35.014340</td>\n",
       "      <td>32.518916</td>\n",
       "    </tr>\n",
       "    <tr>\n",
       "      <th>24</th>\n",
       "      <td>35.013531</td>\n",
       "      <td>32.517636</td>\n",
       "    </tr>\n",
       "    <tr>\n",
       "      <th>25</th>\n",
       "      <td>35.013606</td>\n",
       "      <td>32.517589</td>\n",
       "    </tr>\n",
       "    <tr>\n",
       "      <th>26</th>\n",
       "      <td>35.013630</td>\n",
       "      <td>32.517574</td>\n",
       "    </tr>\n",
       "    <tr>\n",
       "      <th>27</th>\n",
       "      <td>35.013705</td>\n",
       "      <td>32.517529</td>\n",
       "    </tr>\n",
       "    <tr>\n",
       "      <th>28</th>\n",
       "      <td>35.013730</td>\n",
       "      <td>32.517512</td>\n",
       "    </tr>\n",
       "    <tr>\n",
       "      <th>29</th>\n",
       "      <td>35.013809</td>\n",
       "      <td>32.517459</td>\n",
       "    </tr>\n",
       "    <tr>\n",
       "      <th>...</th>\n",
       "      <td>...</td>\n",
       "      <td>...</td>\n",
       "    </tr>\n",
       "    <tr>\n",
       "      <th>710</th>\n",
       "      <td>35.015705</td>\n",
       "      <td>32.516157</td>\n",
       "    </tr>\n",
       "    <tr>\n",
       "      <th>711</th>\n",
       "      <td>35.015640</td>\n",
       "      <td>32.516211</td>\n",
       "    </tr>\n",
       "    <tr>\n",
       "      <th>712</th>\n",
       "      <td>35.015617</td>\n",
       "      <td>32.516225</td>\n",
       "    </tr>\n",
       "    <tr>\n",
       "      <th>713</th>\n",
       "      <td>35.015551</td>\n",
       "      <td>32.516278</td>\n",
       "    </tr>\n",
       "    <tr>\n",
       "      <th>714</th>\n",
       "      <td>35.015533</td>\n",
       "      <td>32.516301</td>\n",
       "    </tr>\n",
       "    <tr>\n",
       "      <th>715</th>\n",
       "      <td>35.015468</td>\n",
       "      <td>32.516361</td>\n",
       "    </tr>\n",
       "    <tr>\n",
       "      <th>716</th>\n",
       "      <td>35.015444</td>\n",
       "      <td>32.516380</td>\n",
       "    </tr>\n",
       "    <tr>\n",
       "      <th>717</th>\n",
       "      <td>35.015369</td>\n",
       "      <td>32.516442</td>\n",
       "    </tr>\n",
       "    <tr>\n",
       "      <th>718</th>\n",
       "      <td>35.015343</td>\n",
       "      <td>32.516462</td>\n",
       "    </tr>\n",
       "    <tr>\n",
       "      <th>719</th>\n",
       "      <td>35.015264</td>\n",
       "      <td>32.516517</td>\n",
       "    </tr>\n",
       "    <tr>\n",
       "      <th>720</th>\n",
       "      <td>35.015238</td>\n",
       "      <td>32.516537</td>\n",
       "    </tr>\n",
       "    <tr>\n",
       "      <th>721</th>\n",
       "      <td>35.015157</td>\n",
       "      <td>32.516592</td>\n",
       "    </tr>\n",
       "    <tr>\n",
       "      <th>722</th>\n",
       "      <td>35.015129</td>\n",
       "      <td>32.516610</td>\n",
       "    </tr>\n",
       "    <tr>\n",
       "      <th>723</th>\n",
       "      <td>35.015048</td>\n",
       "      <td>32.516665</td>\n",
       "    </tr>\n",
       "    <tr>\n",
       "      <th>724</th>\n",
       "      <td>35.015023</td>\n",
       "      <td>32.516683</td>\n",
       "    </tr>\n",
       "    <tr>\n",
       "      <th>725</th>\n",
       "      <td>35.014943</td>\n",
       "      <td>32.516736</td>\n",
       "    </tr>\n",
       "    <tr>\n",
       "      <th>726</th>\n",
       "      <td>35.014916</td>\n",
       "      <td>32.516754</td>\n",
       "    </tr>\n",
       "    <tr>\n",
       "      <th>727</th>\n",
       "      <td>35.014835</td>\n",
       "      <td>32.516800</td>\n",
       "    </tr>\n",
       "    <tr>\n",
       "      <th>728</th>\n",
       "      <td>35.014810</td>\n",
       "      <td>32.516818</td>\n",
       "    </tr>\n",
       "    <tr>\n",
       "      <th>729</th>\n",
       "      <td>35.014737</td>\n",
       "      <td>32.516873</td>\n",
       "    </tr>\n",
       "    <tr>\n",
       "      <th>730</th>\n",
       "      <td>35.014709</td>\n",
       "      <td>32.516889</td>\n",
       "    </tr>\n",
       "    <tr>\n",
       "      <th>731</th>\n",
       "      <td>35.014617</td>\n",
       "      <td>32.516933</td>\n",
       "    </tr>\n",
       "    <tr>\n",
       "      <th>732</th>\n",
       "      <td>35.014584</td>\n",
       "      <td>32.516945</td>\n",
       "    </tr>\n",
       "    <tr>\n",
       "      <th>733</th>\n",
       "      <td>35.014518</td>\n",
       "      <td>32.516971</td>\n",
       "    </tr>\n",
       "    <tr>\n",
       "      <th>734</th>\n",
       "      <td>35.014484</td>\n",
       "      <td>32.516984</td>\n",
       "    </tr>\n",
       "    <tr>\n",
       "      <th>735</th>\n",
       "      <td>35.014387</td>\n",
       "      <td>32.517020</td>\n",
       "    </tr>\n",
       "    <tr>\n",
       "      <th>736</th>\n",
       "      <td>35.014355</td>\n",
       "      <td>32.517035</td>\n",
       "    </tr>\n",
       "    <tr>\n",
       "      <th>737</th>\n",
       "      <td>35.014279</td>\n",
       "      <td>32.517087</td>\n",
       "    </tr>\n",
       "    <tr>\n",
       "      <th>738</th>\n",
       "      <td>35.014264</td>\n",
       "      <td>32.517098</td>\n",
       "    </tr>\n",
       "    <tr>\n",
       "      <th>739</th>\n",
       "      <td>35.014212</td>\n",
       "      <td>32.517142</td>\n",
       "    </tr>\n",
       "  </tbody>\n",
       "</table>\n",
       "<p>740 rows × 2 columns</p>\n",
       "</div>"
      ],
      "text/plain": [
       "           lat        lng\n",
       "0    35.015021  32.519585\n",
       "1    35.014954  32.519606\n",
       "2    35.014871  32.519612\n",
       "3    35.014824  32.519654\n",
       "4    35.014776  32.519689\n",
       "5    35.014704  32.519691\n",
       "6    35.014657  32.519734\n",
       "7    35.014563  32.519719\n",
       "8    35.014549  32.519694\n",
       "9    35.014515  32.519625\n",
       "10   35.014505  32.519599\n",
       "11   35.014481  32.519514\n",
       "12   35.014472  32.519486\n",
       "13   35.014439  32.519405\n",
       "14   35.014432  32.519379\n",
       "15   35.014414  32.519309\n",
       "16   35.014400  32.519287\n",
       "17   35.014372  32.519211\n",
       "18   35.014365  32.519187\n",
       "19   35.014337  32.519106\n",
       "20   35.014331  32.519084\n",
       "21   35.014303  32.519009\n",
       "22   35.014306  32.518989\n",
       "23   35.014340  32.518916\n",
       "24   35.013531  32.517636\n",
       "25   35.013606  32.517589\n",
       "26   35.013630  32.517574\n",
       "27   35.013705  32.517529\n",
       "28   35.013730  32.517512\n",
       "29   35.013809  32.517459\n",
       "..         ...        ...\n",
       "710  35.015705  32.516157\n",
       "711  35.015640  32.516211\n",
       "712  35.015617  32.516225\n",
       "713  35.015551  32.516278\n",
       "714  35.015533  32.516301\n",
       "715  35.015468  32.516361\n",
       "716  35.015444  32.516380\n",
       "717  35.015369  32.516442\n",
       "718  35.015343  32.516462\n",
       "719  35.015264  32.516517\n",
       "720  35.015238  32.516537\n",
       "721  35.015157  32.516592\n",
       "722  35.015129  32.516610\n",
       "723  35.015048  32.516665\n",
       "724  35.015023  32.516683\n",
       "725  35.014943  32.516736\n",
       "726  35.014916  32.516754\n",
       "727  35.014835  32.516800\n",
       "728  35.014810  32.516818\n",
       "729  35.014737  32.516873\n",
       "730  35.014709  32.516889\n",
       "731  35.014617  32.516933\n",
       "732  35.014584  32.516945\n",
       "733  35.014518  32.516971\n",
       "734  35.014484  32.516984\n",
       "735  35.014387  32.517020\n",
       "736  35.014355  32.517035\n",
       "737  35.014279  32.517087\n",
       "738  35.014264  32.517098\n",
       "739  35.014212  32.517142\n",
       "\n",
       "[740 rows x 2 columns]"
      ]
     },
     "execution_count": 39,
     "metadata": {},
     "output_type": "execute_result"
    }
   ],
   "source": [
    "df[['lat','lng']]"
   ]
  },
  {
   "cell_type": "code",
   "execution_count": 40,
   "metadata": {},
   "outputs": [
    {
     "data": {
      "text/plain": [
       "35.015021000000004"
      ]
     },
     "execution_count": 40,
     "metadata": {},
     "output_type": "execute_result"
    }
   ],
   "source": [
    "df['lat'][0]"
   ]
  },
  {
   "cell_type": "code",
   "execution_count": 41,
   "metadata": {},
   "outputs": [
    {
     "data": {
      "text/plain": [
       "time      2015-08-20 03:48:07.235000\n",
       "lat                           35.015\n",
       "lng                          32.5196\n",
       "height                         136.2\n",
       "Name: 0, dtype: object"
      ]
     },
     "execution_count": 41,
     "metadata": {},
     "output_type": "execute_result"
    }
   ],
   "source": [
    "df.loc[0]"
   ]
  },
  {
   "cell_type": "code",
   "execution_count": 42,
   "metadata": {},
   "outputs": [
    {
     "data": {
      "text/html": [
       "<div>\n",
       "<style>\n",
       "    .dataframe thead tr:only-child th {\n",
       "        text-align: right;\n",
       "    }\n",
       "\n",
       "    .dataframe thead th {\n",
       "        text-align: left;\n",
       "    }\n",
       "\n",
       "    .dataframe tbody tr th {\n",
       "        vertical-align: top;\n",
       "    }\n",
       "</style>\n",
       "<table border=\"1\" class=\"dataframe\">\n",
       "  <thead>\n",
       "    <tr style=\"text-align: right;\">\n",
       "      <th></th>\n",
       "      <th>time</th>\n",
       "      <th>lat</th>\n",
       "      <th>lng</th>\n",
       "      <th>height</th>\n",
       "    </tr>\n",
       "  </thead>\n",
       "  <tbody>\n",
       "    <tr>\n",
       "      <th>2</th>\n",
       "      <td>2015-08-20 03:48:25.660</td>\n",
       "      <td>35.014871</td>\n",
       "      <td>32.519612</td>\n",
       "      <td>123.000000</td>\n",
       "    </tr>\n",
       "    <tr>\n",
       "      <th>3</th>\n",
       "      <td>2015-08-20 03:48:26.819</td>\n",
       "      <td>35.014824</td>\n",
       "      <td>32.519654</td>\n",
       "      <td>120.500000</td>\n",
       "    </tr>\n",
       "    <tr>\n",
       "      <th>4</th>\n",
       "      <td>2015-08-20 03:48:27.828</td>\n",
       "      <td>35.014776</td>\n",
       "      <td>32.519689</td>\n",
       "      <td>118.900002</td>\n",
       "    </tr>\n",
       "    <tr>\n",
       "      <th>5</th>\n",
       "      <td>2015-08-20 03:48:29.720</td>\n",
       "      <td>35.014704</td>\n",
       "      <td>32.519691</td>\n",
       "      <td>119.900002</td>\n",
       "    </tr>\n",
       "    <tr>\n",
       "      <th>6</th>\n",
       "      <td>2015-08-20 03:48:30.669</td>\n",
       "      <td>35.014657</td>\n",
       "      <td>32.519734</td>\n",
       "      <td>120.900002</td>\n",
       "    </tr>\n",
       "    <tr>\n",
       "      <th>7</th>\n",
       "      <td>2015-08-20 03:48:33.793</td>\n",
       "      <td>35.014563</td>\n",
       "      <td>32.519719</td>\n",
       "      <td>121.699997</td>\n",
       "    </tr>\n",
       "  </tbody>\n",
       "</table>\n",
       "</div>"
      ],
      "text/plain": [
       "                     time        lat        lng      height\n",
       "2 2015-08-20 03:48:25.660  35.014871  32.519612  123.000000\n",
       "3 2015-08-20 03:48:26.819  35.014824  32.519654  120.500000\n",
       "4 2015-08-20 03:48:27.828  35.014776  32.519689  118.900002\n",
       "5 2015-08-20 03:48:29.720  35.014704  32.519691  119.900002\n",
       "6 2015-08-20 03:48:30.669  35.014657  32.519734  120.900002\n",
       "7 2015-08-20 03:48:33.793  35.014563  32.519719  121.699997"
      ]
     },
     "execution_count": 42,
     "metadata": {},
     "output_type": "execute_result"
    }
   ],
   "source": [
    "df.loc[2:7]"
   ]
  },
  {
   "cell_type": "code",
   "execution_count": 43,
   "metadata": {},
   "outputs": [
    {
     "data": {
      "text/html": [
       "<div>\n",
       "<style>\n",
       "    .dataframe thead tr:only-child th {\n",
       "        text-align: right;\n",
       "    }\n",
       "\n",
       "    .dataframe thead th {\n",
       "        text-align: left;\n",
       "    }\n",
       "\n",
       "    .dataframe tbody tr th {\n",
       "        vertical-align: top;\n",
       "    }\n",
       "</style>\n",
       "<table border=\"1\" class=\"dataframe\">\n",
       "  <thead>\n",
       "    <tr style=\"text-align: right;\">\n",
       "      <th></th>\n",
       "      <th>lat</th>\n",
       "      <th>lng</th>\n",
       "    </tr>\n",
       "  </thead>\n",
       "  <tbody>\n",
       "    <tr>\n",
       "      <th>2</th>\n",
       "      <td>35.014871</td>\n",
       "      <td>32.519612</td>\n",
       "    </tr>\n",
       "    <tr>\n",
       "      <th>3</th>\n",
       "      <td>35.014824</td>\n",
       "      <td>32.519654</td>\n",
       "    </tr>\n",
       "    <tr>\n",
       "      <th>4</th>\n",
       "      <td>35.014776</td>\n",
       "      <td>32.519689</td>\n",
       "    </tr>\n",
       "    <tr>\n",
       "      <th>5</th>\n",
       "      <td>35.014704</td>\n",
       "      <td>32.519691</td>\n",
       "    </tr>\n",
       "    <tr>\n",
       "      <th>6</th>\n",
       "      <td>35.014657</td>\n",
       "      <td>32.519734</td>\n",
       "    </tr>\n",
       "  </tbody>\n",
       "</table>\n",
       "</div>"
      ],
      "text/plain": [
       "         lat        lng\n",
       "2  35.014871  32.519612\n",
       "3  35.014824  32.519654\n",
       "4  35.014776  32.519689\n",
       "5  35.014704  32.519691\n",
       "6  35.014657  32.519734"
      ]
     },
     "execution_count": 43,
     "metadata": {},
     "output_type": "execute_result"
    }
   ],
   "source": [
    "df[['lat','lng']][2:7]"
   ]
  },
  {
   "cell_type": "code",
   "execution_count": 44,
   "metadata": {},
   "outputs": [
    {
     "data": {
      "text/plain": [
       "RangeIndex(start=0, stop=740, step=1)"
      ]
     },
     "execution_count": 44,
     "metadata": {},
     "output_type": "execute_result"
    }
   ],
   "source": [
    "df.index"
   ]
  },
  {
   "cell_type": "code",
   "execution_count": 45,
   "metadata": {
    "collapsed": true
   },
   "outputs": [],
   "source": [
    "import numpy as np"
   ]
  },
  {
   "cell_type": "code",
   "execution_count": 47,
   "metadata": {},
   "outputs": [
    {
     "data": {
      "text/html": [
       "<div>\n",
       "<style>\n",
       "    .dataframe thead tr:only-child th {\n",
       "        text-align: right;\n",
       "    }\n",
       "\n",
       "    .dataframe thead th {\n",
       "        text-align: left;\n",
       "    }\n",
       "\n",
       "    .dataframe tbody tr th {\n",
       "        vertical-align: top;\n",
       "    }\n",
       "</style>\n",
       "<table border=\"1\" class=\"dataframe\">\n",
       "  <thead>\n",
       "    <tr style=\"text-align: right;\">\n",
       "      <th></th>\n",
       "      <th>x</th>\n",
       "      <th>y</th>\n",
       "    </tr>\n",
       "  </thead>\n",
       "  <tbody>\n",
       "    <tr>\n",
       "      <th>a</th>\n",
       "      <td>0</td>\n",
       "      <td>1</td>\n",
       "    </tr>\n",
       "    <tr>\n",
       "      <th>b</th>\n",
       "      <td>2</td>\n",
       "      <td>3</td>\n",
       "    </tr>\n",
       "    <tr>\n",
       "      <th>c</th>\n",
       "      <td>4</td>\n",
       "      <td>5</td>\n",
       "    </tr>\n",
       "    <tr>\n",
       "      <th>d</th>\n",
       "      <td>6</td>\n",
       "      <td>7</td>\n",
       "    </tr>\n",
       "    <tr>\n",
       "      <th>e</th>\n",
       "      <td>8</td>\n",
       "      <td>9</td>\n",
       "    </tr>\n",
       "  </tbody>\n",
       "</table>\n",
       "</div>"
      ],
      "text/plain": [
       "   x  y\n",
       "a  0  1\n",
       "b  2  3\n",
       "c  4  5\n",
       "d  6  7\n",
       "e  8  9"
      ]
     },
     "execution_count": 47,
     "metadata": {},
     "output_type": "execute_result"
    }
   ],
   "source": [
    "df1 = pd.DataFrame(np.arange(10).reshape((5,2)), columns = ['x','y'], index =['a','b','c','d','e'])\n",
    "df1"
   ]
  },
  {
   "cell_type": "code",
   "execution_count": 50,
   "metadata": {},
   "outputs": [
    {
     "data": {
      "text/plain": [
       "x    0\n",
       "y    1\n",
       "Name: a, dtype: int32"
      ]
     },
     "execution_count": 50,
     "metadata": {},
     "output_type": "execute_result"
    }
   ],
   "source": [
    "df1.loc['a']"
   ]
  },
  {
   "cell_type": "code",
   "execution_count": 52,
   "metadata": {},
   "outputs": [
    {
     "data": {
      "text/html": [
       "<div>\n",
       "<style>\n",
       "    .dataframe thead tr:only-child th {\n",
       "        text-align: right;\n",
       "    }\n",
       "\n",
       "    .dataframe thead th {\n",
       "        text-align: left;\n",
       "    }\n",
       "\n",
       "    .dataframe tbody tr th {\n",
       "        vertical-align: top;\n",
       "    }\n",
       "</style>\n",
       "<table border=\"1\" class=\"dataframe\">\n",
       "  <thead>\n",
       "    <tr style=\"text-align: right;\">\n",
       "      <th></th>\n",
       "      <th>x</th>\n",
       "      <th>y</th>\n",
       "    </tr>\n",
       "  </thead>\n",
       "  <tbody>\n",
       "    <tr>\n",
       "      <th>b</th>\n",
       "      <td>2</td>\n",
       "      <td>3</td>\n",
       "    </tr>\n",
       "    <tr>\n",
       "      <th>c</th>\n",
       "      <td>4</td>\n",
       "      <td>5</td>\n",
       "    </tr>\n",
       "    <tr>\n",
       "      <th>d</th>\n",
       "      <td>6</td>\n",
       "      <td>7</td>\n",
       "    </tr>\n",
       "  </tbody>\n",
       "</table>\n",
       "</div>"
      ],
      "text/plain": [
       "   x  y\n",
       "b  2  3\n",
       "c  4  5\n",
       "d  6  7"
      ]
     },
     "execution_count": 52,
     "metadata": {},
     "output_type": "execute_result"
    }
   ],
   "source": [
    "df1.loc['b':'d']"
   ]
  },
  {
   "cell_type": "code",
   "execution_count": 53,
   "metadata": {
    "collapsed": true
   },
   "outputs": [],
   "source": [
    "df.index =df['time']"
   ]
  },
  {
   "cell_type": "code",
   "execution_count": 54,
   "metadata": {},
   "outputs": [
    {
     "data": {
      "text/plain": [
       "DatetimeIndex(['2015-08-20 03:48:07.235000', '2015-08-20 03:48:24.734000',\n",
       "               '2015-08-20 03:48:25.660000', '2015-08-20 03:48:26.819000',\n",
       "               '2015-08-20 03:48:27.828000', '2015-08-20 03:48:29.720000',\n",
       "               '2015-08-20 03:48:30.669000', '2015-08-20 03:48:33.793000',\n",
       "               '2015-08-20 03:48:34.869000', '2015-08-20 03:48:37.708000',\n",
       "               ...\n",
       "               '2015-08-20 04:20:18.844000', '2015-08-20 04:20:21.996000',\n",
       "               '2015-08-20 04:20:22.897000', '2015-08-20 04:20:24.905000',\n",
       "               '2015-08-20 04:20:25.835000', '2015-08-20 04:20:28.982000',\n",
       "               '2015-08-20 04:20:29.923000', '2015-08-20 04:20:32.863000',\n",
       "               '2015-08-20 04:20:33.994000', '2015-08-20 04:20:42.329000'],\n",
       "              dtype='datetime64[ns]', name='time', length=740, freq=None)"
      ]
     },
     "execution_count": 54,
     "metadata": {},
     "output_type": "execute_result"
    }
   ],
   "source": [
    "df.index"
   ]
  },
  {
   "cell_type": "code",
   "execution_count": 55,
   "metadata": {},
   "outputs": [
    {
     "data": {
      "text/html": [
       "<div>\n",
       "<style>\n",
       "    .dataframe thead tr:only-child th {\n",
       "        text-align: right;\n",
       "    }\n",
       "\n",
       "    .dataframe thead th {\n",
       "        text-align: left;\n",
       "    }\n",
       "\n",
       "    .dataframe tbody tr th {\n",
       "        vertical-align: top;\n",
       "    }\n",
       "</style>\n",
       "<table border=\"1\" class=\"dataframe\">\n",
       "  <thead>\n",
       "    <tr style=\"text-align: right;\">\n",
       "      <th></th>\n",
       "      <th>time</th>\n",
       "      <th>lat</th>\n",
       "      <th>lng</th>\n",
       "      <th>height</th>\n",
       "    </tr>\n",
       "    <tr>\n",
       "      <th>time</th>\n",
       "      <th></th>\n",
       "      <th></th>\n",
       "      <th></th>\n",
       "      <th></th>\n",
       "    </tr>\n",
       "  </thead>\n",
       "  <tbody>\n",
       "    <tr>\n",
       "      <th>2015-08-20 03:48:07.235</th>\n",
       "      <td>2015-08-20 03:48:07.235</td>\n",
       "      <td>35.015021</td>\n",
       "      <td>32.519585</td>\n",
       "      <td>136.199997</td>\n",
       "    </tr>\n",
       "    <tr>\n",
       "      <th>2015-08-20 03:48:24.734</th>\n",
       "      <td>2015-08-20 03:48:24.734</td>\n",
       "      <td>35.014954</td>\n",
       "      <td>32.519606</td>\n",
       "      <td>126.599998</td>\n",
       "    </tr>\n",
       "    <tr>\n",
       "      <th>2015-08-20 03:48:25.660</th>\n",
       "      <td>2015-08-20 03:48:25.660</td>\n",
       "      <td>35.014871</td>\n",
       "      <td>32.519612</td>\n",
       "      <td>123.000000</td>\n",
       "    </tr>\n",
       "    <tr>\n",
       "      <th>2015-08-20 03:48:26.819</th>\n",
       "      <td>2015-08-20 03:48:26.819</td>\n",
       "      <td>35.014824</td>\n",
       "      <td>32.519654</td>\n",
       "      <td>120.500000</td>\n",
       "    </tr>\n",
       "    <tr>\n",
       "      <th>2015-08-20 03:48:27.828</th>\n",
       "      <td>2015-08-20 03:48:27.828</td>\n",
       "      <td>35.014776</td>\n",
       "      <td>32.519689</td>\n",
       "      <td>118.900002</td>\n",
       "    </tr>\n",
       "    <tr>\n",
       "      <th>2015-08-20 03:48:29.720</th>\n",
       "      <td>2015-08-20 03:48:29.720</td>\n",
       "      <td>35.014704</td>\n",
       "      <td>32.519691</td>\n",
       "      <td>119.900002</td>\n",
       "    </tr>\n",
       "    <tr>\n",
       "      <th>2015-08-20 03:48:30.669</th>\n",
       "      <td>2015-08-20 03:48:30.669</td>\n",
       "      <td>35.014657</td>\n",
       "      <td>32.519734</td>\n",
       "      <td>120.900002</td>\n",
       "    </tr>\n",
       "    <tr>\n",
       "      <th>2015-08-20 03:48:33.793</th>\n",
       "      <td>2015-08-20 03:48:33.793</td>\n",
       "      <td>35.014563</td>\n",
       "      <td>32.519719</td>\n",
       "      <td>121.699997</td>\n",
       "    </tr>\n",
       "    <tr>\n",
       "      <th>2015-08-20 03:48:34.869</th>\n",
       "      <td>2015-08-20 03:48:34.869</td>\n",
       "      <td>35.014549</td>\n",
       "      <td>32.519694</td>\n",
       "      <td>121.199997</td>\n",
       "    </tr>\n",
       "    <tr>\n",
       "      <th>2015-08-20 03:48:37.708</th>\n",
       "      <td>2015-08-20 03:48:37.708</td>\n",
       "      <td>35.014515</td>\n",
       "      <td>32.519625</td>\n",
       "      <td>121.699997</td>\n",
       "    </tr>\n",
       "    <tr>\n",
       "      <th>2015-08-20 03:48:38.839</th>\n",
       "      <td>2015-08-20 03:48:38.839</td>\n",
       "      <td>35.014505</td>\n",
       "      <td>32.519599</td>\n",
       "      <td>121.800003</td>\n",
       "    </tr>\n",
       "    <tr>\n",
       "      <th>2015-08-20 03:48:41.980</th>\n",
       "      <td>2015-08-20 03:48:41.980</td>\n",
       "      <td>35.014481</td>\n",
       "      <td>32.519514</td>\n",
       "      <td>122.599998</td>\n",
       "    </tr>\n",
       "    <tr>\n",
       "      <th>2015-08-20 03:48:42.725</th>\n",
       "      <td>2015-08-20 03:48:42.725</td>\n",
       "      <td>35.014472</td>\n",
       "      <td>32.519486</td>\n",
       "      <td>123.000000</td>\n",
       "    </tr>\n",
       "    <tr>\n",
       "      <th>2015-08-20 03:48:45.896</th>\n",
       "      <td>2015-08-20 03:48:45.896</td>\n",
       "      <td>35.014439</td>\n",
       "      <td>32.519405</td>\n",
       "      <td>122.699997</td>\n",
       "    </tr>\n",
       "    <tr>\n",
       "      <th>2015-08-20 03:48:46.662</th>\n",
       "      <td>2015-08-20 03:48:46.662</td>\n",
       "      <td>35.014432</td>\n",
       "      <td>32.519379</td>\n",
       "      <td>122.699997</td>\n",
       "    </tr>\n",
       "    <tr>\n",
       "      <th>2015-08-20 03:48:49.829</th>\n",
       "      <td>2015-08-20 03:48:49.829</td>\n",
       "      <td>35.014414</td>\n",
       "      <td>32.519309</td>\n",
       "      <td>122.699997</td>\n",
       "    </tr>\n",
       "    <tr>\n",
       "      <th>2015-08-20 03:48:50.665</th>\n",
       "      <td>2015-08-20 03:48:50.665</td>\n",
       "      <td>35.014400</td>\n",
       "      <td>32.519287</td>\n",
       "      <td>123.300003</td>\n",
       "    </tr>\n",
       "    <tr>\n",
       "      <th>2015-08-20 03:48:53.692</th>\n",
       "      <td>2015-08-20 03:48:53.692</td>\n",
       "      <td>35.014372</td>\n",
       "      <td>32.519211</td>\n",
       "      <td>122.300003</td>\n",
       "    </tr>\n",
       "    <tr>\n",
       "      <th>2015-08-20 03:48:54.662</th>\n",
       "      <td>2015-08-20 03:48:54.662</td>\n",
       "      <td>35.014365</td>\n",
       "      <td>32.519187</td>\n",
       "      <td>122.599998</td>\n",
       "    </tr>\n",
       "    <tr>\n",
       "      <th>2015-08-20 03:48:58.869</th>\n",
       "      <td>2015-08-20 03:48:58.869</td>\n",
       "      <td>35.014337</td>\n",
       "      <td>32.519106</td>\n",
       "      <td>122.000000</td>\n",
       "    </tr>\n",
       "    <tr>\n",
       "      <th>2015-08-20 03:48:59.663</th>\n",
       "      <td>2015-08-20 03:48:59.663</td>\n",
       "      <td>35.014331</td>\n",
       "      <td>32.519084</td>\n",
       "      <td>121.800003</td>\n",
       "    </tr>\n",
       "    <tr>\n",
       "      <th>2015-08-20 03:49:03.861</th>\n",
       "      <td>2015-08-20 03:49:03.861</td>\n",
       "      <td>35.014303</td>\n",
       "      <td>32.519009</td>\n",
       "      <td>122.900002</td>\n",
       "    </tr>\n",
       "    <tr>\n",
       "      <th>2015-08-20 03:49:04.663</th>\n",
       "      <td>2015-08-20 03:49:04.663</td>\n",
       "      <td>35.014306</td>\n",
       "      <td>32.518989</td>\n",
       "      <td>122.900002</td>\n",
       "    </tr>\n",
       "    <tr>\n",
       "      <th>2015-08-20 03:49:07.742</th>\n",
       "      <td>2015-08-20 03:49:07.742</td>\n",
       "      <td>35.014340</td>\n",
       "      <td>32.518916</td>\n",
       "      <td>123.099998</td>\n",
       "    </tr>\n",
       "    <tr>\n",
       "      <th>2015-08-20 03:50:13.679</th>\n",
       "      <td>2015-08-20 03:50:13.679</td>\n",
       "      <td>35.013531</td>\n",
       "      <td>32.517636</td>\n",
       "      <td>115.199997</td>\n",
       "    </tr>\n",
       "    <tr>\n",
       "      <th>2015-08-20 03:50:16.767</th>\n",
       "      <td>2015-08-20 03:50:16.767</td>\n",
       "      <td>35.013606</td>\n",
       "      <td>32.517589</td>\n",
       "      <td>114.300003</td>\n",
       "    </tr>\n",
       "    <tr>\n",
       "      <th>2015-08-20 03:50:17.719</th>\n",
       "      <td>2015-08-20 03:50:17.719</td>\n",
       "      <td>35.013630</td>\n",
       "      <td>32.517574</td>\n",
       "      <td>114.199997</td>\n",
       "    </tr>\n",
       "    <tr>\n",
       "      <th>2015-08-20 03:50:20.748</th>\n",
       "      <td>2015-08-20 03:50:20.748</td>\n",
       "      <td>35.013705</td>\n",
       "      <td>32.517529</td>\n",
       "      <td>113.800003</td>\n",
       "    </tr>\n",
       "    <tr>\n",
       "      <th>2015-08-20 03:50:21.681</th>\n",
       "      <td>2015-08-20 03:50:21.681</td>\n",
       "      <td>35.013730</td>\n",
       "      <td>32.517512</td>\n",
       "      <td>114.199997</td>\n",
       "    </tr>\n",
       "    <tr>\n",
       "      <th>2015-08-20 03:50:24.735</th>\n",
       "      <td>2015-08-20 03:50:24.735</td>\n",
       "      <td>35.013809</td>\n",
       "      <td>32.517459</td>\n",
       "      <td>114.000000</td>\n",
       "    </tr>\n",
       "    <tr>\n",
       "      <th>...</th>\n",
       "      <td>...</td>\n",
       "      <td>...</td>\n",
       "      <td>...</td>\n",
       "      <td>...</td>\n",
       "    </tr>\n",
       "    <tr>\n",
       "      <th>2015-08-20 04:19:38.820</th>\n",
       "      <td>2015-08-20 04:19:38.820</td>\n",
       "      <td>35.015705</td>\n",
       "      <td>32.516157</td>\n",
       "      <td>116.500000</td>\n",
       "    </tr>\n",
       "    <tr>\n",
       "      <th>2015-08-20 04:19:41.881</th>\n",
       "      <td>2015-08-20 04:19:41.881</td>\n",
       "      <td>35.015640</td>\n",
       "      <td>32.516211</td>\n",
       "      <td>115.400002</td>\n",
       "    </tr>\n",
       "    <tr>\n",
       "      <th>2015-08-20 04:19:42.825</th>\n",
       "      <td>2015-08-20 04:19:42.825</td>\n",
       "      <td>35.015617</td>\n",
       "      <td>32.516225</td>\n",
       "      <td>114.099998</td>\n",
       "    </tr>\n",
       "    <tr>\n",
       "      <th>2015-08-20 04:19:45.963</th>\n",
       "      <td>2015-08-20 04:19:45.963</td>\n",
       "      <td>35.015551</td>\n",
       "      <td>32.516278</td>\n",
       "      <td>113.500000</td>\n",
       "    </tr>\n",
       "    <tr>\n",
       "      <th>2015-08-20 04:19:46.890</th>\n",
       "      <td>2015-08-20 04:19:46.890</td>\n",
       "      <td>35.015533</td>\n",
       "      <td>32.516301</td>\n",
       "      <td>112.500000</td>\n",
       "    </tr>\n",
       "    <tr>\n",
       "      <th>2015-08-20 04:19:49.987</th>\n",
       "      <td>2015-08-20 04:19:49.987</td>\n",
       "      <td>35.015468</td>\n",
       "      <td>32.516361</td>\n",
       "      <td>112.000000</td>\n",
       "    </tr>\n",
       "    <tr>\n",
       "      <th>2015-08-20 04:19:50.878</th>\n",
       "      <td>2015-08-20 04:19:50.878</td>\n",
       "      <td>35.015444</td>\n",
       "      <td>32.516380</td>\n",
       "      <td>112.699997</td>\n",
       "    </tr>\n",
       "    <tr>\n",
       "      <th>2015-08-20 04:19:53.937</th>\n",
       "      <td>2015-08-20 04:19:53.937</td>\n",
       "      <td>35.015369</td>\n",
       "      <td>32.516442</td>\n",
       "      <td>112.500000</td>\n",
       "    </tr>\n",
       "    <tr>\n",
       "      <th>2015-08-20 04:19:54.896</th>\n",
       "      <td>2015-08-20 04:19:54.896</td>\n",
       "      <td>35.015343</td>\n",
       "      <td>32.516462</td>\n",
       "      <td>112.599998</td>\n",
       "    </tr>\n",
       "    <tr>\n",
       "      <th>2015-08-20 04:19:58.048</th>\n",
       "      <td>2015-08-20 04:19:58.048</td>\n",
       "      <td>35.015264</td>\n",
       "      <td>32.516517</td>\n",
       "      <td>112.300003</td>\n",
       "    </tr>\n",
       "    <tr>\n",
       "      <th>2015-08-20 04:19:58.898</th>\n",
       "      <td>2015-08-20 04:19:58.898</td>\n",
       "      <td>35.015238</td>\n",
       "      <td>32.516537</td>\n",
       "      <td>112.099998</td>\n",
       "    </tr>\n",
       "    <tr>\n",
       "      <th>2015-08-20 04:20:01.965</th>\n",
       "      <td>2015-08-20 04:20:01.965</td>\n",
       "      <td>35.015157</td>\n",
       "      <td>32.516592</td>\n",
       "      <td>110.099998</td>\n",
       "    </tr>\n",
       "    <tr>\n",
       "      <th>2015-08-20 04:20:02.886</th>\n",
       "      <td>2015-08-20 04:20:02.886</td>\n",
       "      <td>35.015129</td>\n",
       "      <td>32.516610</td>\n",
       "      <td>109.800003</td>\n",
       "    </tr>\n",
       "    <tr>\n",
       "      <th>2015-08-20 04:20:05.959</th>\n",
       "      <td>2015-08-20 04:20:05.959</td>\n",
       "      <td>35.015048</td>\n",
       "      <td>32.516665</td>\n",
       "      <td>107.699997</td>\n",
       "    </tr>\n",
       "    <tr>\n",
       "      <th>2015-08-20 04:20:06.823</th>\n",
       "      <td>2015-08-20 04:20:06.823</td>\n",
       "      <td>35.015023</td>\n",
       "      <td>32.516683</td>\n",
       "      <td>107.500000</td>\n",
       "    </tr>\n",
       "    <tr>\n",
       "      <th>2015-08-20 04:20:09.926</th>\n",
       "      <td>2015-08-20 04:20:09.926</td>\n",
       "      <td>35.014943</td>\n",
       "      <td>32.516736</td>\n",
       "      <td>107.599998</td>\n",
       "    </tr>\n",
       "    <tr>\n",
       "      <th>2015-08-20 04:20:10.824</th>\n",
       "      <td>2015-08-20 04:20:10.824</td>\n",
       "      <td>35.014916</td>\n",
       "      <td>32.516754</td>\n",
       "      <td>107.099998</td>\n",
       "    </tr>\n",
       "    <tr>\n",
       "      <th>2015-08-20 04:20:14.040</th>\n",
       "      <td>2015-08-20 04:20:14.040</td>\n",
       "      <td>35.014835</td>\n",
       "      <td>32.516800</td>\n",
       "      <td>106.099998</td>\n",
       "    </tr>\n",
       "    <tr>\n",
       "      <th>2015-08-20 04:20:14.888</th>\n",
       "      <td>2015-08-20 04:20:14.888</td>\n",
       "      <td>35.014810</td>\n",
       "      <td>32.516818</td>\n",
       "      <td>105.199997</td>\n",
       "    </tr>\n",
       "    <tr>\n",
       "      <th>2015-08-20 04:20:17.897</th>\n",
       "      <td>2015-08-20 04:20:17.897</td>\n",
       "      <td>35.014737</td>\n",
       "      <td>32.516873</td>\n",
       "      <td>106.400002</td>\n",
       "    </tr>\n",
       "    <tr>\n",
       "      <th>2015-08-20 04:20:18.844</th>\n",
       "      <td>2015-08-20 04:20:18.844</td>\n",
       "      <td>35.014709</td>\n",
       "      <td>32.516889</td>\n",
       "      <td>106.400002</td>\n",
       "    </tr>\n",
       "    <tr>\n",
       "      <th>2015-08-20 04:20:21.996</th>\n",
       "      <td>2015-08-20 04:20:21.996</td>\n",
       "      <td>35.014617</td>\n",
       "      <td>32.516933</td>\n",
       "      <td>103.500000</td>\n",
       "    </tr>\n",
       "    <tr>\n",
       "      <th>2015-08-20 04:20:22.897</th>\n",
       "      <td>2015-08-20 04:20:22.897</td>\n",
       "      <td>35.014584</td>\n",
       "      <td>32.516945</td>\n",
       "      <td>103.099998</td>\n",
       "    </tr>\n",
       "    <tr>\n",
       "      <th>2015-08-20 04:20:24.905</th>\n",
       "      <td>2015-08-20 04:20:24.905</td>\n",
       "      <td>35.014518</td>\n",
       "      <td>32.516971</td>\n",
       "      <td>103.800003</td>\n",
       "    </tr>\n",
       "    <tr>\n",
       "      <th>2015-08-20 04:20:25.835</th>\n",
       "      <td>2015-08-20 04:20:25.835</td>\n",
       "      <td>35.014484</td>\n",
       "      <td>32.516984</td>\n",
       "      <td>104.199997</td>\n",
       "    </tr>\n",
       "    <tr>\n",
       "      <th>2015-08-20 04:20:28.982</th>\n",
       "      <td>2015-08-20 04:20:28.982</td>\n",
       "      <td>35.014387</td>\n",
       "      <td>32.517020</td>\n",
       "      <td>104.800003</td>\n",
       "    </tr>\n",
       "    <tr>\n",
       "      <th>2015-08-20 04:20:29.923</th>\n",
       "      <td>2015-08-20 04:20:29.923</td>\n",
       "      <td>35.014355</td>\n",
       "      <td>32.517035</td>\n",
       "      <td>105.199997</td>\n",
       "    </tr>\n",
       "    <tr>\n",
       "      <th>2015-08-20 04:20:32.863</th>\n",
       "      <td>2015-08-20 04:20:32.863</td>\n",
       "      <td>35.014279</td>\n",
       "      <td>32.517087</td>\n",
       "      <td>102.900002</td>\n",
       "    </tr>\n",
       "    <tr>\n",
       "      <th>2015-08-20 04:20:33.994</th>\n",
       "      <td>2015-08-20 04:20:33.994</td>\n",
       "      <td>35.014264</td>\n",
       "      <td>32.517098</td>\n",
       "      <td>102.400002</td>\n",
       "    </tr>\n",
       "    <tr>\n",
       "      <th>2015-08-20 04:20:42.329</th>\n",
       "      <td>2015-08-20 04:20:42.329</td>\n",
       "      <td>35.014212</td>\n",
       "      <td>32.517142</td>\n",
       "      <td>103.400002</td>\n",
       "    </tr>\n",
       "  </tbody>\n",
       "</table>\n",
       "<p>740 rows × 4 columns</p>\n",
       "</div>"
      ],
      "text/plain": [
       "                                           time        lat        lng  \\\n",
       "time                                                                    \n",
       "2015-08-20 03:48:07.235 2015-08-20 03:48:07.235  35.015021  32.519585   \n",
       "2015-08-20 03:48:24.734 2015-08-20 03:48:24.734  35.014954  32.519606   \n",
       "2015-08-20 03:48:25.660 2015-08-20 03:48:25.660  35.014871  32.519612   \n",
       "2015-08-20 03:48:26.819 2015-08-20 03:48:26.819  35.014824  32.519654   \n",
       "2015-08-20 03:48:27.828 2015-08-20 03:48:27.828  35.014776  32.519689   \n",
       "2015-08-20 03:48:29.720 2015-08-20 03:48:29.720  35.014704  32.519691   \n",
       "2015-08-20 03:48:30.669 2015-08-20 03:48:30.669  35.014657  32.519734   \n",
       "2015-08-20 03:48:33.793 2015-08-20 03:48:33.793  35.014563  32.519719   \n",
       "2015-08-20 03:48:34.869 2015-08-20 03:48:34.869  35.014549  32.519694   \n",
       "2015-08-20 03:48:37.708 2015-08-20 03:48:37.708  35.014515  32.519625   \n",
       "2015-08-20 03:48:38.839 2015-08-20 03:48:38.839  35.014505  32.519599   \n",
       "2015-08-20 03:48:41.980 2015-08-20 03:48:41.980  35.014481  32.519514   \n",
       "2015-08-20 03:48:42.725 2015-08-20 03:48:42.725  35.014472  32.519486   \n",
       "2015-08-20 03:48:45.896 2015-08-20 03:48:45.896  35.014439  32.519405   \n",
       "2015-08-20 03:48:46.662 2015-08-20 03:48:46.662  35.014432  32.519379   \n",
       "2015-08-20 03:48:49.829 2015-08-20 03:48:49.829  35.014414  32.519309   \n",
       "2015-08-20 03:48:50.665 2015-08-20 03:48:50.665  35.014400  32.519287   \n",
       "2015-08-20 03:48:53.692 2015-08-20 03:48:53.692  35.014372  32.519211   \n",
       "2015-08-20 03:48:54.662 2015-08-20 03:48:54.662  35.014365  32.519187   \n",
       "2015-08-20 03:48:58.869 2015-08-20 03:48:58.869  35.014337  32.519106   \n",
       "2015-08-20 03:48:59.663 2015-08-20 03:48:59.663  35.014331  32.519084   \n",
       "2015-08-20 03:49:03.861 2015-08-20 03:49:03.861  35.014303  32.519009   \n",
       "2015-08-20 03:49:04.663 2015-08-20 03:49:04.663  35.014306  32.518989   \n",
       "2015-08-20 03:49:07.742 2015-08-20 03:49:07.742  35.014340  32.518916   \n",
       "2015-08-20 03:50:13.679 2015-08-20 03:50:13.679  35.013531  32.517636   \n",
       "2015-08-20 03:50:16.767 2015-08-20 03:50:16.767  35.013606  32.517589   \n",
       "2015-08-20 03:50:17.719 2015-08-20 03:50:17.719  35.013630  32.517574   \n",
       "2015-08-20 03:50:20.748 2015-08-20 03:50:20.748  35.013705  32.517529   \n",
       "2015-08-20 03:50:21.681 2015-08-20 03:50:21.681  35.013730  32.517512   \n",
       "2015-08-20 03:50:24.735 2015-08-20 03:50:24.735  35.013809  32.517459   \n",
       "...                                         ...        ...        ...   \n",
       "2015-08-20 04:19:38.820 2015-08-20 04:19:38.820  35.015705  32.516157   \n",
       "2015-08-20 04:19:41.881 2015-08-20 04:19:41.881  35.015640  32.516211   \n",
       "2015-08-20 04:19:42.825 2015-08-20 04:19:42.825  35.015617  32.516225   \n",
       "2015-08-20 04:19:45.963 2015-08-20 04:19:45.963  35.015551  32.516278   \n",
       "2015-08-20 04:19:46.890 2015-08-20 04:19:46.890  35.015533  32.516301   \n",
       "2015-08-20 04:19:49.987 2015-08-20 04:19:49.987  35.015468  32.516361   \n",
       "2015-08-20 04:19:50.878 2015-08-20 04:19:50.878  35.015444  32.516380   \n",
       "2015-08-20 04:19:53.937 2015-08-20 04:19:53.937  35.015369  32.516442   \n",
       "2015-08-20 04:19:54.896 2015-08-20 04:19:54.896  35.015343  32.516462   \n",
       "2015-08-20 04:19:58.048 2015-08-20 04:19:58.048  35.015264  32.516517   \n",
       "2015-08-20 04:19:58.898 2015-08-20 04:19:58.898  35.015238  32.516537   \n",
       "2015-08-20 04:20:01.965 2015-08-20 04:20:01.965  35.015157  32.516592   \n",
       "2015-08-20 04:20:02.886 2015-08-20 04:20:02.886  35.015129  32.516610   \n",
       "2015-08-20 04:20:05.959 2015-08-20 04:20:05.959  35.015048  32.516665   \n",
       "2015-08-20 04:20:06.823 2015-08-20 04:20:06.823  35.015023  32.516683   \n",
       "2015-08-20 04:20:09.926 2015-08-20 04:20:09.926  35.014943  32.516736   \n",
       "2015-08-20 04:20:10.824 2015-08-20 04:20:10.824  35.014916  32.516754   \n",
       "2015-08-20 04:20:14.040 2015-08-20 04:20:14.040  35.014835  32.516800   \n",
       "2015-08-20 04:20:14.888 2015-08-20 04:20:14.888  35.014810  32.516818   \n",
       "2015-08-20 04:20:17.897 2015-08-20 04:20:17.897  35.014737  32.516873   \n",
       "2015-08-20 04:20:18.844 2015-08-20 04:20:18.844  35.014709  32.516889   \n",
       "2015-08-20 04:20:21.996 2015-08-20 04:20:21.996  35.014617  32.516933   \n",
       "2015-08-20 04:20:22.897 2015-08-20 04:20:22.897  35.014584  32.516945   \n",
       "2015-08-20 04:20:24.905 2015-08-20 04:20:24.905  35.014518  32.516971   \n",
       "2015-08-20 04:20:25.835 2015-08-20 04:20:25.835  35.014484  32.516984   \n",
       "2015-08-20 04:20:28.982 2015-08-20 04:20:28.982  35.014387  32.517020   \n",
       "2015-08-20 04:20:29.923 2015-08-20 04:20:29.923  35.014355  32.517035   \n",
       "2015-08-20 04:20:32.863 2015-08-20 04:20:32.863  35.014279  32.517087   \n",
       "2015-08-20 04:20:33.994 2015-08-20 04:20:33.994  35.014264  32.517098   \n",
       "2015-08-20 04:20:42.329 2015-08-20 04:20:42.329  35.014212  32.517142   \n",
       "\n",
       "                             height  \n",
       "time                                 \n",
       "2015-08-20 03:48:07.235  136.199997  \n",
       "2015-08-20 03:48:24.734  126.599998  \n",
       "2015-08-20 03:48:25.660  123.000000  \n",
       "2015-08-20 03:48:26.819  120.500000  \n",
       "2015-08-20 03:48:27.828  118.900002  \n",
       "2015-08-20 03:48:29.720  119.900002  \n",
       "2015-08-20 03:48:30.669  120.900002  \n",
       "2015-08-20 03:48:33.793  121.699997  \n",
       "2015-08-20 03:48:34.869  121.199997  \n",
       "2015-08-20 03:48:37.708  121.699997  \n",
       "2015-08-20 03:48:38.839  121.800003  \n",
       "2015-08-20 03:48:41.980  122.599998  \n",
       "2015-08-20 03:48:42.725  123.000000  \n",
       "2015-08-20 03:48:45.896  122.699997  \n",
       "2015-08-20 03:48:46.662  122.699997  \n",
       "2015-08-20 03:48:49.829  122.699997  \n",
       "2015-08-20 03:48:50.665  123.300003  \n",
       "2015-08-20 03:48:53.692  122.300003  \n",
       "2015-08-20 03:48:54.662  122.599998  \n",
       "2015-08-20 03:48:58.869  122.000000  \n",
       "2015-08-20 03:48:59.663  121.800003  \n",
       "2015-08-20 03:49:03.861  122.900002  \n",
       "2015-08-20 03:49:04.663  122.900002  \n",
       "2015-08-20 03:49:07.742  123.099998  \n",
       "2015-08-20 03:50:13.679  115.199997  \n",
       "2015-08-20 03:50:16.767  114.300003  \n",
       "2015-08-20 03:50:17.719  114.199997  \n",
       "2015-08-20 03:50:20.748  113.800003  \n",
       "2015-08-20 03:50:21.681  114.199997  \n",
       "2015-08-20 03:50:24.735  114.000000  \n",
       "...                             ...  \n",
       "2015-08-20 04:19:38.820  116.500000  \n",
       "2015-08-20 04:19:41.881  115.400002  \n",
       "2015-08-20 04:19:42.825  114.099998  \n",
       "2015-08-20 04:19:45.963  113.500000  \n",
       "2015-08-20 04:19:46.890  112.500000  \n",
       "2015-08-20 04:19:49.987  112.000000  \n",
       "2015-08-20 04:19:50.878  112.699997  \n",
       "2015-08-20 04:19:53.937  112.500000  \n",
       "2015-08-20 04:19:54.896  112.599998  \n",
       "2015-08-20 04:19:58.048  112.300003  \n",
       "2015-08-20 04:19:58.898  112.099998  \n",
       "2015-08-20 04:20:01.965  110.099998  \n",
       "2015-08-20 04:20:02.886  109.800003  \n",
       "2015-08-20 04:20:05.959  107.699997  \n",
       "2015-08-20 04:20:06.823  107.500000  \n",
       "2015-08-20 04:20:09.926  107.599998  \n",
       "2015-08-20 04:20:10.824  107.099998  \n",
       "2015-08-20 04:20:14.040  106.099998  \n",
       "2015-08-20 04:20:14.888  105.199997  \n",
       "2015-08-20 04:20:17.897  106.400002  \n",
       "2015-08-20 04:20:18.844  106.400002  \n",
       "2015-08-20 04:20:21.996  103.500000  \n",
       "2015-08-20 04:20:22.897  103.099998  \n",
       "2015-08-20 04:20:24.905  103.800003  \n",
       "2015-08-20 04:20:25.835  104.199997  \n",
       "2015-08-20 04:20:28.982  104.800003  \n",
       "2015-08-20 04:20:29.923  105.199997  \n",
       "2015-08-20 04:20:32.863  102.900002  \n",
       "2015-08-20 04:20:33.994  102.400002  \n",
       "2015-08-20 04:20:42.329  103.400002  \n",
       "\n",
       "[740 rows x 4 columns]"
      ]
     },
     "execution_count": 55,
     "metadata": {},
     "output_type": "execute_result"
    }
   ],
   "source": [
    "df.loc['2015-08-20']"
   ]
  },
  {
   "cell_type": "code",
   "execution_count": 56,
   "metadata": {
    "collapsed": true
   },
   "outputs": [
    {
     "data": {
      "text/html": [
       "<div>\n",
       "<style>\n",
       "    .dataframe thead tr:only-child th {\n",
       "        text-align: right;\n",
       "    }\n",
       "\n",
       "    .dataframe thead th {\n",
       "        text-align: left;\n",
       "    }\n",
       "\n",
       "    .dataframe tbody tr th {\n",
       "        vertical-align: top;\n",
       "    }\n",
       "</style>\n",
       "<table border=\"1\" class=\"dataframe\">\n",
       "  <thead>\n",
       "    <tr style=\"text-align: right;\">\n",
       "      <th></th>\n",
       "      <th>time</th>\n",
       "      <th>lat</th>\n",
       "      <th>lng</th>\n",
       "      <th>height</th>\n",
       "    </tr>\n",
       "    <tr>\n",
       "      <th>time</th>\n",
       "      <th></th>\n",
       "      <th></th>\n",
       "      <th></th>\n",
       "      <th></th>\n",
       "    </tr>\n",
       "  </thead>\n",
       "  <tbody>\n",
       "    <tr>\n",
       "      <th>2015-08-20 03:48:07.235</th>\n",
       "      <td>2015-08-20 03:48:07.235</td>\n",
       "      <td>35.015021</td>\n",
       "      <td>32.519585</td>\n",
       "      <td>136.199997</td>\n",
       "    </tr>\n",
       "    <tr>\n",
       "      <th>2015-08-20 03:48:24.734</th>\n",
       "      <td>2015-08-20 03:48:24.734</td>\n",
       "      <td>35.014954</td>\n",
       "      <td>32.519606</td>\n",
       "      <td>126.599998</td>\n",
       "    </tr>\n",
       "    <tr>\n",
       "      <th>2015-08-20 03:48:25.660</th>\n",
       "      <td>2015-08-20 03:48:25.660</td>\n",
       "      <td>35.014871</td>\n",
       "      <td>32.519612</td>\n",
       "      <td>123.000000</td>\n",
       "    </tr>\n",
       "    <tr>\n",
       "      <th>2015-08-20 03:48:26.819</th>\n",
       "      <td>2015-08-20 03:48:26.819</td>\n",
       "      <td>35.014824</td>\n",
       "      <td>32.519654</td>\n",
       "      <td>120.500000</td>\n",
       "    </tr>\n",
       "    <tr>\n",
       "      <th>2015-08-20 03:48:27.828</th>\n",
       "      <td>2015-08-20 03:48:27.828</td>\n",
       "      <td>35.014776</td>\n",
       "      <td>32.519689</td>\n",
       "      <td>118.900002</td>\n",
       "    </tr>\n",
       "    <tr>\n",
       "      <th>2015-08-20 03:48:29.720</th>\n",
       "      <td>2015-08-20 03:48:29.720</td>\n",
       "      <td>35.014704</td>\n",
       "      <td>32.519691</td>\n",
       "      <td>119.900002</td>\n",
       "    </tr>\n",
       "    <tr>\n",
       "      <th>2015-08-20 03:48:30.669</th>\n",
       "      <td>2015-08-20 03:48:30.669</td>\n",
       "      <td>35.014657</td>\n",
       "      <td>32.519734</td>\n",
       "      <td>120.900002</td>\n",
       "    </tr>\n",
       "    <tr>\n",
       "      <th>2015-08-20 03:48:33.793</th>\n",
       "      <td>2015-08-20 03:48:33.793</td>\n",
       "      <td>35.014563</td>\n",
       "      <td>32.519719</td>\n",
       "      <td>121.699997</td>\n",
       "    </tr>\n",
       "    <tr>\n",
       "      <th>2015-08-20 03:48:34.869</th>\n",
       "      <td>2015-08-20 03:48:34.869</td>\n",
       "      <td>35.014549</td>\n",
       "      <td>32.519694</td>\n",
       "      <td>121.199997</td>\n",
       "    </tr>\n",
       "    <tr>\n",
       "      <th>2015-08-20 03:48:37.708</th>\n",
       "      <td>2015-08-20 03:48:37.708</td>\n",
       "      <td>35.014515</td>\n",
       "      <td>32.519625</td>\n",
       "      <td>121.699997</td>\n",
       "    </tr>\n",
       "    <tr>\n",
       "      <th>2015-08-20 03:48:38.839</th>\n",
       "      <td>2015-08-20 03:48:38.839</td>\n",
       "      <td>35.014505</td>\n",
       "      <td>32.519599</td>\n",
       "      <td>121.800003</td>\n",
       "    </tr>\n",
       "    <tr>\n",
       "      <th>2015-08-20 03:48:41.980</th>\n",
       "      <td>2015-08-20 03:48:41.980</td>\n",
       "      <td>35.014481</td>\n",
       "      <td>32.519514</td>\n",
       "      <td>122.599998</td>\n",
       "    </tr>\n",
       "    <tr>\n",
       "      <th>2015-08-20 03:48:42.725</th>\n",
       "      <td>2015-08-20 03:48:42.725</td>\n",
       "      <td>35.014472</td>\n",
       "      <td>32.519486</td>\n",
       "      <td>123.000000</td>\n",
       "    </tr>\n",
       "    <tr>\n",
       "      <th>2015-08-20 03:48:45.896</th>\n",
       "      <td>2015-08-20 03:48:45.896</td>\n",
       "      <td>35.014439</td>\n",
       "      <td>32.519405</td>\n",
       "      <td>122.699997</td>\n",
       "    </tr>\n",
       "    <tr>\n",
       "      <th>2015-08-20 03:48:46.662</th>\n",
       "      <td>2015-08-20 03:48:46.662</td>\n",
       "      <td>35.014432</td>\n",
       "      <td>32.519379</td>\n",
       "      <td>122.699997</td>\n",
       "    </tr>\n",
       "    <tr>\n",
       "      <th>2015-08-20 03:48:49.829</th>\n",
       "      <td>2015-08-20 03:48:49.829</td>\n",
       "      <td>35.014414</td>\n",
       "      <td>32.519309</td>\n",
       "      <td>122.699997</td>\n",
       "    </tr>\n",
       "    <tr>\n",
       "      <th>2015-08-20 03:48:50.665</th>\n",
       "      <td>2015-08-20 03:48:50.665</td>\n",
       "      <td>35.014400</td>\n",
       "      <td>32.519287</td>\n",
       "      <td>123.300003</td>\n",
       "    </tr>\n",
       "    <tr>\n",
       "      <th>2015-08-20 03:48:53.692</th>\n",
       "      <td>2015-08-20 03:48:53.692</td>\n",
       "      <td>35.014372</td>\n",
       "      <td>32.519211</td>\n",
       "      <td>122.300003</td>\n",
       "    </tr>\n",
       "    <tr>\n",
       "      <th>2015-08-20 03:48:54.662</th>\n",
       "      <td>2015-08-20 03:48:54.662</td>\n",
       "      <td>35.014365</td>\n",
       "      <td>32.519187</td>\n",
       "      <td>122.599998</td>\n",
       "    </tr>\n",
       "    <tr>\n",
       "      <th>2015-08-20 03:48:58.869</th>\n",
       "      <td>2015-08-20 03:48:58.869</td>\n",
       "      <td>35.014337</td>\n",
       "      <td>32.519106</td>\n",
       "      <td>122.000000</td>\n",
       "    </tr>\n",
       "    <tr>\n",
       "      <th>2015-08-20 03:48:59.663</th>\n",
       "      <td>2015-08-20 03:48:59.663</td>\n",
       "      <td>35.014331</td>\n",
       "      <td>32.519084</td>\n",
       "      <td>121.800003</td>\n",
       "    </tr>\n",
       "  </tbody>\n",
       "</table>\n",
       "</div>"
      ],
      "text/plain": [
       "                                           time        lat        lng  \\\n",
       "time                                                                    \n",
       "2015-08-20 03:48:07.235 2015-08-20 03:48:07.235  35.015021  32.519585   \n",
       "2015-08-20 03:48:24.734 2015-08-20 03:48:24.734  35.014954  32.519606   \n",
       "2015-08-20 03:48:25.660 2015-08-20 03:48:25.660  35.014871  32.519612   \n",
       "2015-08-20 03:48:26.819 2015-08-20 03:48:26.819  35.014824  32.519654   \n",
       "2015-08-20 03:48:27.828 2015-08-20 03:48:27.828  35.014776  32.519689   \n",
       "2015-08-20 03:48:29.720 2015-08-20 03:48:29.720  35.014704  32.519691   \n",
       "2015-08-20 03:48:30.669 2015-08-20 03:48:30.669  35.014657  32.519734   \n",
       "2015-08-20 03:48:33.793 2015-08-20 03:48:33.793  35.014563  32.519719   \n",
       "2015-08-20 03:48:34.869 2015-08-20 03:48:34.869  35.014549  32.519694   \n",
       "2015-08-20 03:48:37.708 2015-08-20 03:48:37.708  35.014515  32.519625   \n",
       "2015-08-20 03:48:38.839 2015-08-20 03:48:38.839  35.014505  32.519599   \n",
       "2015-08-20 03:48:41.980 2015-08-20 03:48:41.980  35.014481  32.519514   \n",
       "2015-08-20 03:48:42.725 2015-08-20 03:48:42.725  35.014472  32.519486   \n",
       "2015-08-20 03:48:45.896 2015-08-20 03:48:45.896  35.014439  32.519405   \n",
       "2015-08-20 03:48:46.662 2015-08-20 03:48:46.662  35.014432  32.519379   \n",
       "2015-08-20 03:48:49.829 2015-08-20 03:48:49.829  35.014414  32.519309   \n",
       "2015-08-20 03:48:50.665 2015-08-20 03:48:50.665  35.014400  32.519287   \n",
       "2015-08-20 03:48:53.692 2015-08-20 03:48:53.692  35.014372  32.519211   \n",
       "2015-08-20 03:48:54.662 2015-08-20 03:48:54.662  35.014365  32.519187   \n",
       "2015-08-20 03:48:58.869 2015-08-20 03:48:58.869  35.014337  32.519106   \n",
       "2015-08-20 03:48:59.663 2015-08-20 03:48:59.663  35.014331  32.519084   \n",
       "\n",
       "                             height  \n",
       "time                                 \n",
       "2015-08-20 03:48:07.235  136.199997  \n",
       "2015-08-20 03:48:24.734  126.599998  \n",
       "2015-08-20 03:48:25.660  123.000000  \n",
       "2015-08-20 03:48:26.819  120.500000  \n",
       "2015-08-20 03:48:27.828  118.900002  \n",
       "2015-08-20 03:48:29.720  119.900002  \n",
       "2015-08-20 03:48:30.669  120.900002  \n",
       "2015-08-20 03:48:33.793  121.699997  \n",
       "2015-08-20 03:48:34.869  121.199997  \n",
       "2015-08-20 03:48:37.708  121.699997  \n",
       "2015-08-20 03:48:38.839  121.800003  \n",
       "2015-08-20 03:48:41.980  122.599998  \n",
       "2015-08-20 03:48:42.725  123.000000  \n",
       "2015-08-20 03:48:45.896  122.699997  \n",
       "2015-08-20 03:48:46.662  122.699997  \n",
       "2015-08-20 03:48:49.829  122.699997  \n",
       "2015-08-20 03:48:50.665  123.300003  \n",
       "2015-08-20 03:48:53.692  122.300003  \n",
       "2015-08-20 03:48:54.662  122.599998  \n",
       "2015-08-20 03:48:58.869  122.000000  \n",
       "2015-08-20 03:48:59.663  121.800003  "
      ]
     },
     "execution_count": 56,
     "metadata": {},
     "output_type": "execute_result"
    }
   ],
   "source": [
    "df.loc['2015-08-20 03:48']"
   ]
  },
  {
   "cell_type": "code",
   "execution_count": 57,
   "metadata": {
    "collapsed": true
   },
   "outputs": [],
   "source": [
    "import pytz"
   ]
  },
  {
   "cell_type": "code",
   "execution_count": 58,
   "metadata": {
    "collapsed": true
   },
   "outputs": [],
   "source": [
    "ts = df.index[0]"
   ]
  },
  {
   "cell_type": "code",
   "execution_count": 59,
   "metadata": {},
   "outputs": [
    {
     "data": {
      "text/plain": [
       "Timestamp('2015-08-20 03:48:07.235000+0000', tz='UTC')"
      ]
     },
     "execution_count": 59,
     "metadata": {},
     "output_type": "execute_result"
    }
   ],
   "source": [
    "ts.tz_localize(pytz.UTC)"
   ]
  },
  {
   "cell_type": "code",
   "execution_count": 60,
   "metadata": {},
   "outputs": [
    {
     "data": {
      "text/plain": [
       "Timestamp('2015-08-20 04:48:07.235000+0100', tz='Europe/London')"
      ]
     },
     "execution_count": 60,
     "metadata": {},
     "output_type": "execute_result"
    }
   ],
   "source": [
    "ts.tz_localize(pytz.UTC).tz_convert(pytz.timezone('Europe/London'))"
   ]
  },
  {
   "cell_type": "code",
   "execution_count": 63,
   "metadata": {},
   "outputs": [],
   "source": [
    "df.index = df.index.tz_localize(pytz.UTC).tz_convert(pytz.timezone('Europe/London'))"
   ]
  },
  {
   "cell_type": "code",
   "execution_count": 64,
   "metadata": {},
   "outputs": [
    {
     "data": {
      "text/plain": [
       "DatetimeIndex(['2015-08-20 04:48:07.235000+01:00',\n",
       "               '2015-08-20 04:48:24.734000+01:00',\n",
       "               '2015-08-20 04:48:25.660000+01:00',\n",
       "               '2015-08-20 04:48:26.819000+01:00',\n",
       "               '2015-08-20 04:48:27.828000+01:00',\n",
       "               '2015-08-20 04:48:29.720000+01:00',\n",
       "               '2015-08-20 04:48:30.669000+01:00',\n",
       "               '2015-08-20 04:48:33.793000+01:00',\n",
       "               '2015-08-20 04:48:34.869000+01:00',\n",
       "               '2015-08-20 04:48:37.708000+01:00'],\n",
       "              dtype='datetime64[ns, Europe/London]', name='time', freq=None)"
      ]
     },
     "execution_count": 64,
     "metadata": {},
     "output_type": "execute_result"
    }
   ],
   "source": [
    "df.index[:10]"
   ]
  },
  {
   "cell_type": "code",
   "execution_count": 65,
   "metadata": {},
   "outputs": [
    {
     "data": {
      "text/plain": [
       "'C:\\\\Users\\\\Jared\\\\Desktop\\\\ML\\\\Python_Module_Mastery'"
      ]
     },
     "execution_count": 65,
     "metadata": {},
     "output_type": "execute_result"
    }
   ],
   "source": [
    "%pwd"
   ]
  },
  {
   "cell_type": "code",
   "execution_count": 70,
   "metadata": {
    "collapsed": true
   },
   "outputs": [],
   "source": [
    "import geo"
   ]
  },
  {
   "cell_type": "code",
   "execution_count": 66,
   "metadata": {},
   "outputs": [
    {
     "data": {
      "text/plain": [
       "['',\n",
       " 'C:\\\\Users\\\\Jared\\\\Anaconda3\\\\python36.zip',\n",
       " 'C:\\\\Users\\\\Jared\\\\Anaconda3\\\\DLLs',\n",
       " 'C:\\\\Users\\\\Jared\\\\Anaconda3\\\\lib',\n",
       " 'C:\\\\Users\\\\Jared\\\\Anaconda3',\n",
       " 'C:\\\\Users\\\\Jared\\\\Anaconda3\\\\lib\\\\site-packages',\n",
       " 'C:\\\\Users\\\\Jared\\\\Anaconda3\\\\lib\\\\site-packages\\\\Babel-2.5.0-py3.6.egg',\n",
       " 'C:\\\\Users\\\\Jared\\\\Anaconda3\\\\lib\\\\site-packages\\\\win32',\n",
       " 'C:\\\\Users\\\\Jared\\\\Anaconda3\\\\lib\\\\site-packages\\\\win32\\\\lib',\n",
       " 'C:\\\\Users\\\\Jared\\\\Anaconda3\\\\lib\\\\site-packages\\\\Pythonwin',\n",
       " 'C:\\\\Users\\\\Jared\\\\Anaconda3\\\\lib\\\\site-packages\\\\IPython\\\\extensions',\n",
       " 'C:\\\\Users\\\\Jared\\\\.ipython']"
      ]
     },
     "execution_count": 66,
     "metadata": {},
     "output_type": "execute_result"
    }
   ],
   "source": [
    "import sys\n",
    "sys.path"
   ]
  },
  {
   "cell_type": "code",
   "execution_count": 67,
   "metadata": {},
   "outputs": [
    {
     "name": "stderr",
     "output_type": "stream",
     "text": [
      "ERROR:root:File `'geo.py'` not found.\n"
     ]
    }
   ],
   "source": [
    "%run geo.py"
   ]
  },
  {
   "cell_type": "code",
   "execution_count": 71,
   "metadata": {},
   "outputs": [],
   "source": [
    "??geo"
   ]
  },
  {
   "cell_type": "code",
   "execution_count": 74,
   "metadata": {},
   "outputs": [],
   "source": [
    "from geo import circle_dist"
   ]
  },
  {
   "cell_type": "code",
   "execution_count": 72,
   "metadata": {
    "collapsed": true
   },
   "outputs": [],
   "source": [
    "lat1, lng1 = df.iloc[0].lat, df.iloc[0].lng\n",
    "lat2, lng2 = df.iloc[1].lat, df.iloc[1].lng"
   ]
  },
  {
   "cell_type": "code",
   "execution_count": 75,
   "metadata": {},
   "outputs": [
    {
     "data": {
      "text/plain": [
       "0.0076939315353441087"
      ]
     },
     "execution_count": 75,
     "metadata": {},
     "output_type": "execute_result"
    }
   ],
   "source": [
    "# in Kilometers\n",
    "circle_dist(lat1,lng1,lat2,lng2)"
   ]
  },
  {
   "cell_type": "code",
   "execution_count": 76,
   "metadata": {
    "collapsed": true
   },
   "outputs": [],
   "source": [
    "#shift method\n",
    "s = pd.Series(np.arange(5))"
   ]
  },
  {
   "cell_type": "code",
   "execution_count": 77,
   "metadata": {},
   "outputs": [
    {
     "data": {
      "text/plain": [
       "0    0\n",
       "1    1\n",
       "2    2\n",
       "3    3\n",
       "4    4\n",
       "dtype: int32"
      ]
     },
     "execution_count": 77,
     "metadata": {},
     "output_type": "execute_result"
    }
   ],
   "source": [
    "s"
   ]
  },
  {
   "cell_type": "code",
   "execution_count": 78,
   "metadata": {},
   "outputs": [
    {
     "data": {
      "text/plain": [
       "0    NaN\n",
       "1    0.0\n",
       "2    1.0\n",
       "3    2.0\n",
       "4    3.0\n",
       "dtype: float64"
      ]
     },
     "execution_count": 78,
     "metadata": {},
     "output_type": "execute_result"
    }
   ],
   "source": [
    "s.shift()"
   ]
  },
  {
   "cell_type": "code",
   "execution_count": 79,
   "metadata": {},
   "outputs": [
    {
     "data": {
      "text/plain": [
       "0    1.0\n",
       "1    2.0\n",
       "2    3.0\n",
       "3    4.0\n",
       "4    NaN\n",
       "dtype: float64"
      ]
     },
     "execution_count": 79,
     "metadata": {},
     "output_type": "execute_result"
    }
   ],
   "source": [
    "s.shift(-1)"
   ]
  },
  {
   "cell_type": "code",
   "execution_count": 80,
   "metadata": {
    "collapsed": true
   },
   "outputs": [],
   "source": [
    "dist = circle_dist(df['lat'],df['lng'],df['lat'].shift(),df['lng'].shift())"
   ]
  },
  {
   "cell_type": "code",
   "execution_count": 82,
   "metadata": {},
   "outputs": [
    {
     "data": {
      "text/plain": [
       "time\n",
       "2015-08-20 04:48:07.235000+01:00         NaN\n",
       "2015-08-20 04:48:24.734000+01:00    0.007694\n",
       "2015-08-20 04:48:25.660000+01:00    0.009248\n",
       "2015-08-20 04:48:26.819000+01:00    0.006479\n",
       "2015-08-20 04:48:27.828000+01:00    0.006219\n",
       "2015-08-20 04:48:29.720000+01:00    0.008010\n",
       "2015-08-20 04:48:30.669000+01:00    0.006533\n",
       "2015-08-20 04:48:33.793000+01:00    0.010545\n",
       "2015-08-20 04:48:34.869000+01:00    0.002759\n",
       "2015-08-20 04:48:37.708000+01:00    0.007336\n",
       "dtype: float64"
      ]
     },
     "execution_count": 82,
     "metadata": {},
     "output_type": "execute_result"
    }
   ],
   "source": [
    "dist[:10]"
   ]
  },
  {
   "cell_type": "code",
   "execution_count": 83,
   "metadata": {},
   "outputs": [
    {
     "data": {
      "text/plain": [
       "4.68813596843257"
      ]
     },
     "execution_count": 83,
     "metadata": {},
     "output_type": "execute_result"
    }
   ],
   "source": [
    "dist.sum()"
   ]
  },
  {
   "cell_type": "code",
   "execution_count": 84,
   "metadata": {
    "collapsed": true
   },
   "outputs": [],
   "source": [
    "dt=df['time']-df['time'].shift()"
   ]
  },
  {
   "cell_type": "code",
   "execution_count": 85,
   "metadata": {},
   "outputs": [
    {
     "data": {
      "text/plain": [
       "time\n",
       "2015-08-20 04:48:07.235000+01:00               NaT\n",
       "2015-08-20 04:48:24.734000+01:00   00:00:17.499000\n",
       "2015-08-20 04:48:25.660000+01:00   00:00:00.926000\n",
       "2015-08-20 04:48:26.819000+01:00   00:00:01.159000\n",
       "2015-08-20 04:48:27.828000+01:00   00:00:01.009000\n",
       "2015-08-20 04:48:29.720000+01:00   00:00:01.892000\n",
       "2015-08-20 04:48:30.669000+01:00   00:00:00.949000\n",
       "2015-08-20 04:48:33.793000+01:00   00:00:03.124000\n",
       "2015-08-20 04:48:34.869000+01:00   00:00:01.076000\n",
       "2015-08-20 04:48:37.708000+01:00   00:00:02.839000\n",
       "Name: time, dtype: timedelta64[ns]"
      ]
     },
     "execution_count": 85,
     "metadata": {},
     "output_type": "execute_result"
    }
   ],
   "source": [
    "dt[:10]"
   ]
  },
  {
   "cell_type": "code",
   "execution_count": 86,
   "metadata": {},
   "outputs": [
    {
     "data": {
      "text/plain": [
       "Timedelta('0 days 00:32:35.094000')"
      ]
     },
     "execution_count": 86,
     "metadata": {},
     "output_type": "execute_result"
    }
   ],
   "source": [
    "dt.sum()"
   ]
  },
  {
   "cell_type": "code",
   "execution_count": 87,
   "metadata": {
    "collapsed": true
   },
   "outputs": [
    {
     "ename": "TypeError",
     "evalue": "ufunc true_divide cannot use operands with types dtype('float64') and dtype('<m8[ns]')",
     "output_type": "error",
     "traceback": [
      "\u001b[1;31m---------------------------------------------------------------------------\u001b[0m",
      "\u001b[1;31mTypeError\u001b[0m                                 Traceback (most recent call last)",
      "\u001b[1;32m~\\Anaconda3\\lib\\site-packages\\pandas\\core\\ops.py\u001b[0m in \u001b[0;36mna_op\u001b[1;34m(x, y)\u001b[0m\n\u001b[0;32m    657\u001b[0m             result = expressions.evaluate(op, str_rep, x, y,\n\u001b[1;32m--> 658\u001b[1;33m                                           raise_on_error=True, **eval_kwargs)\n\u001b[0m\u001b[0;32m    659\u001b[0m         \u001b[1;32mexcept\u001b[0m \u001b[0mTypeError\u001b[0m\u001b[1;33m:\u001b[0m\u001b[1;33m\u001b[0m\u001b[0m\n",
      "\u001b[1;32m~\\Anaconda3\\lib\\site-packages\\pandas\\core\\computation\\expressions.py\u001b[0m in \u001b[0;36mevaluate\u001b[1;34m(op, op_str, a, b, raise_on_error, use_numexpr, **eval_kwargs)\u001b[0m\n\u001b[0;32m    210\u001b[0m         return _evaluate(op, op_str, a, b, raise_on_error=raise_on_error,\n\u001b[1;32m--> 211\u001b[1;33m                          **eval_kwargs)\n\u001b[0m\u001b[0;32m    212\u001b[0m     \u001b[1;32mreturn\u001b[0m \u001b[0m_evaluate_standard\u001b[0m\u001b[1;33m(\u001b[0m\u001b[0mop\u001b[0m\u001b[1;33m,\u001b[0m \u001b[0mop_str\u001b[0m\u001b[1;33m,\u001b[0m \u001b[0ma\u001b[0m\u001b[1;33m,\u001b[0m \u001b[0mb\u001b[0m\u001b[1;33m,\u001b[0m \u001b[0mraise_on_error\u001b[0m\u001b[1;33m=\u001b[0m\u001b[0mraise_on_error\u001b[0m\u001b[1;33m)\u001b[0m\u001b[1;33m\u001b[0m\u001b[0m\n",
      "\u001b[1;32m~\\Anaconda3\\lib\\site-packages\\pandas\\core\\computation\\expressions.py\u001b[0m in \u001b[0;36m_evaluate_numexpr\u001b[1;34m(op, op_str, a, b, raise_on_error, truediv, reversed, **eval_kwargs)\u001b[0m\n\u001b[0;32m    121\u001b[0m     \u001b[1;32mif\u001b[0m \u001b[0mresult\u001b[0m \u001b[1;32mis\u001b[0m \u001b[1;32mNone\u001b[0m\u001b[1;33m:\u001b[0m\u001b[1;33m\u001b[0m\u001b[0m\n\u001b[1;32m--> 122\u001b[1;33m         \u001b[0mresult\u001b[0m \u001b[1;33m=\u001b[0m \u001b[0m_evaluate_standard\u001b[0m\u001b[1;33m(\u001b[0m\u001b[0mop\u001b[0m\u001b[1;33m,\u001b[0m \u001b[0mop_str\u001b[0m\u001b[1;33m,\u001b[0m \u001b[0ma\u001b[0m\u001b[1;33m,\u001b[0m \u001b[0mb\u001b[0m\u001b[1;33m,\u001b[0m \u001b[0mraise_on_error\u001b[0m\u001b[1;33m)\u001b[0m\u001b[1;33m\u001b[0m\u001b[0m\n\u001b[0m\u001b[0;32m    123\u001b[0m \u001b[1;33m\u001b[0m\u001b[0m\n",
      "\u001b[1;32m~\\Anaconda3\\lib\\site-packages\\pandas\\core\\computation\\expressions.py\u001b[0m in \u001b[0;36m_evaluate_standard\u001b[1;34m(op, op_str, a, b, raise_on_error, **eval_kwargs)\u001b[0m\n\u001b[0;32m     63\u001b[0m     \u001b[1;32mwith\u001b[0m \u001b[0mnp\u001b[0m\u001b[1;33m.\u001b[0m\u001b[0merrstate\u001b[0m\u001b[1;33m(\u001b[0m\u001b[0mall\u001b[0m\u001b[1;33m=\u001b[0m\u001b[1;34m'ignore'\u001b[0m\u001b[1;33m)\u001b[0m\u001b[1;33m:\u001b[0m\u001b[1;33m\u001b[0m\u001b[0m\n\u001b[1;32m---> 64\u001b[1;33m         \u001b[1;32mreturn\u001b[0m \u001b[0mop\u001b[0m\u001b[1;33m(\u001b[0m\u001b[0ma\u001b[0m\u001b[1;33m,\u001b[0m \u001b[0mb\u001b[0m\u001b[1;33m)\u001b[0m\u001b[1;33m\u001b[0m\u001b[0m\n\u001b[0m\u001b[0;32m     65\u001b[0m \u001b[1;33m\u001b[0m\u001b[0m\n",
      "\u001b[1;31mTypeError\u001b[0m: ufunc true_divide cannot use operands with types dtype('float64') and dtype('<m8[ns]')",
      "\nDuring handling of the above exception, another exception occurred:\n",
      "\u001b[1;31mTypeError\u001b[0m                                 Traceback (most recent call last)",
      "\u001b[1;32m<ipython-input-87-bb8d40530586>\u001b[0m in \u001b[0;36m<module>\u001b[1;34m()\u001b[0m\n\u001b[1;32m----> 1\u001b[1;33m \u001b[0mdist\u001b[0m\u001b[1;33m/\u001b[0m\u001b[0mdt\u001b[0m\u001b[1;33m\u001b[0m\u001b[0m\n\u001b[0m",
      "\u001b[1;32m~\\Anaconda3\\lib\\site-packages\\pandas\\core\\ops.py\u001b[0m in \u001b[0;36mwrapper\u001b[1;34m(left, right, name, na_op)\u001b[0m\n\u001b[0;32m    719\u001b[0m                 \u001b[0mlvalues\u001b[0m \u001b[1;33m=\u001b[0m \u001b[0mlvalues\u001b[0m\u001b[1;33m.\u001b[0m\u001b[0mvalues\u001b[0m\u001b[1;33m\u001b[0m\u001b[0m\n\u001b[0;32m    720\u001b[0m \u001b[1;33m\u001b[0m\u001b[0m\n\u001b[1;32m--> 721\u001b[1;33m         \u001b[0mresult\u001b[0m \u001b[1;33m=\u001b[0m \u001b[0mwrap_results\u001b[0m\u001b[1;33m(\u001b[0m\u001b[0msafe_na_op\u001b[0m\u001b[1;33m(\u001b[0m\u001b[0mlvalues\u001b[0m\u001b[1;33m,\u001b[0m \u001b[0mrvalues\u001b[0m\u001b[1;33m)\u001b[0m\u001b[1;33m)\u001b[0m\u001b[1;33m\u001b[0m\u001b[0m\n\u001b[0m\u001b[0;32m    722\u001b[0m         return construct_result(\n\u001b[0;32m    723\u001b[0m             \u001b[0mleft\u001b[0m\u001b[1;33m,\u001b[0m\u001b[1;33m\u001b[0m\u001b[0m\n",
      "\u001b[1;32m~\\Anaconda3\\lib\\site-packages\\pandas\\core\\ops.py\u001b[0m in \u001b[0;36msafe_na_op\u001b[1;34m(lvalues, rvalues)\u001b[0m\n\u001b[0;32m    680\u001b[0m         \u001b[1;32mtry\u001b[0m\u001b[1;33m:\u001b[0m\u001b[1;33m\u001b[0m\u001b[0m\n\u001b[0;32m    681\u001b[0m             \u001b[1;32mwith\u001b[0m \u001b[0mnp\u001b[0m\u001b[1;33m.\u001b[0m\u001b[0merrstate\u001b[0m\u001b[1;33m(\u001b[0m\u001b[0mall\u001b[0m\u001b[1;33m=\u001b[0m\u001b[1;34m'ignore'\u001b[0m\u001b[1;33m)\u001b[0m\u001b[1;33m:\u001b[0m\u001b[1;33m\u001b[0m\u001b[0m\n\u001b[1;32m--> 682\u001b[1;33m                 \u001b[1;32mreturn\u001b[0m \u001b[0mna_op\u001b[0m\u001b[1;33m(\u001b[0m\u001b[0mlvalues\u001b[0m\u001b[1;33m,\u001b[0m \u001b[0mrvalues\u001b[0m\u001b[1;33m)\u001b[0m\u001b[1;33m\u001b[0m\u001b[0m\n\u001b[0m\u001b[0;32m    683\u001b[0m         \u001b[1;32mexcept\u001b[0m \u001b[0mException\u001b[0m\u001b[1;33m:\u001b[0m\u001b[1;33m\u001b[0m\u001b[0m\n\u001b[0;32m    684\u001b[0m             \u001b[1;32mif\u001b[0m \u001b[0misinstance\u001b[0m\u001b[1;33m(\u001b[0m\u001b[0mrvalues\u001b[0m\u001b[1;33m,\u001b[0m \u001b[0mABCSeries\u001b[0m\u001b[1;33m)\u001b[0m\u001b[1;33m:\u001b[0m\u001b[1;33m\u001b[0m\u001b[0m\n",
      "\u001b[1;32m~\\Anaconda3\\lib\\site-packages\\pandas\\core\\ops.py\u001b[0m in \u001b[0;36mna_op\u001b[1;34m(x, y)\u001b[0m\n\u001b[0;32m    662\u001b[0m                 \u001b[0mresult\u001b[0m \u001b[1;33m=\u001b[0m \u001b[0mnp\u001b[0m\u001b[1;33m.\u001b[0m\u001b[0mempty\u001b[0m\u001b[1;33m(\u001b[0m\u001b[0mx\u001b[0m\u001b[1;33m.\u001b[0m\u001b[0msize\u001b[0m\u001b[1;33m,\u001b[0m \u001b[0mdtype\u001b[0m\u001b[1;33m=\u001b[0m\u001b[0mdtype\u001b[0m\u001b[1;33m)\u001b[0m\u001b[1;33m\u001b[0m\u001b[0m\n\u001b[0;32m    663\u001b[0m                 \u001b[0mmask\u001b[0m \u001b[1;33m=\u001b[0m \u001b[0mnotnull\u001b[0m\u001b[1;33m(\u001b[0m\u001b[0mx\u001b[0m\u001b[1;33m)\u001b[0m \u001b[1;33m&\u001b[0m \u001b[0mnotnull\u001b[0m\u001b[1;33m(\u001b[0m\u001b[0my\u001b[0m\u001b[1;33m)\u001b[0m\u001b[1;33m\u001b[0m\u001b[0m\n\u001b[1;32m--> 664\u001b[1;33m                 \u001b[0mresult\u001b[0m\u001b[1;33m[\u001b[0m\u001b[0mmask\u001b[0m\u001b[1;33m]\u001b[0m \u001b[1;33m=\u001b[0m \u001b[0mop\u001b[0m\u001b[1;33m(\u001b[0m\u001b[0mx\u001b[0m\u001b[1;33m[\u001b[0m\u001b[0mmask\u001b[0m\u001b[1;33m]\u001b[0m\u001b[1;33m,\u001b[0m \u001b[0m_values_from_object\u001b[0m\u001b[1;33m(\u001b[0m\u001b[0my\u001b[0m\u001b[1;33m[\u001b[0m\u001b[0mmask\u001b[0m\u001b[1;33m]\u001b[0m\u001b[1;33m)\u001b[0m\u001b[1;33m)\u001b[0m\u001b[1;33m\u001b[0m\u001b[0m\n\u001b[0m\u001b[0;32m    665\u001b[0m             \u001b[1;32melif\u001b[0m \u001b[0misinstance\u001b[0m\u001b[1;33m(\u001b[0m\u001b[0mx\u001b[0m\u001b[1;33m,\u001b[0m \u001b[0mnp\u001b[0m\u001b[1;33m.\u001b[0m\u001b[0mndarray\u001b[0m\u001b[1;33m)\u001b[0m\u001b[1;33m:\u001b[0m\u001b[1;33m\u001b[0m\u001b[0m\n\u001b[0;32m    666\u001b[0m                 \u001b[0mresult\u001b[0m \u001b[1;33m=\u001b[0m \u001b[0mnp\u001b[0m\u001b[1;33m.\u001b[0m\u001b[0mempty\u001b[0m\u001b[1;33m(\u001b[0m\u001b[0mlen\u001b[0m\u001b[1;33m(\u001b[0m\u001b[0mx\u001b[0m\u001b[1;33m)\u001b[0m\u001b[1;33m,\u001b[0m \u001b[0mdtype\u001b[0m\u001b[1;33m=\u001b[0m\u001b[0mx\u001b[0m\u001b[1;33m.\u001b[0m\u001b[0mdtype\u001b[0m\u001b[1;33m)\u001b[0m\u001b[1;33m\u001b[0m\u001b[0m\n",
      "\u001b[1;31mTypeError\u001b[0m: ufunc true_divide cannot use operands with types dtype('float64') and dtype('<m8[ns]')"
     ]
    }
   ],
   "source": [
    "dist/dt"
   ]
  },
  {
   "cell_type": "code",
   "execution_count": 89,
   "metadata": {},
   "outputs": [
    {
     "data": {
      "text/plain": [
       "17.499000000000002"
      ]
     },
     "execution_count": 89,
     "metadata": {},
     "output_type": "execute_result"
    }
   ],
   "source": [
    "dt[1].total_seconds()"
   ]
  },
  {
   "cell_type": "code",
   "execution_count": 90,
   "metadata": {},
   "outputs": [
    {
     "data": {
      "text/plain": [
       "0.0048608333333333333"
      ]
     },
     "execution_count": 90,
     "metadata": {},
     "output_type": "execute_result"
    }
   ],
   "source": [
    "dt[1]/ np.timedelta64(1,'h')"
   ]
  },
  {
   "cell_type": "code",
   "execution_count": 91,
   "metadata": {},
   "outputs": [
    {
     "data": {
      "text/plain": [
       "0.004860833333333334"
      ]
     },
     "execution_count": 91,
     "metadata": {},
     "output_type": "execute_result"
    }
   ],
   "source": [
    "dt[1].total_seconds()/3600"
   ]
  },
  {
   "cell_type": "code",
   "execution_count": 92,
   "metadata": {
    "collapsed": true
   },
   "outputs": [],
   "source": [
    "speed = dist/(dt/np.timedelta64(1,'h'))"
   ]
  },
  {
   "cell_type": "code",
   "execution_count": 93,
   "metadata": {},
   "outputs": [
    {
     "data": {
      "text/plain": [
       "time\n",
       "2015-08-20 04:48:07.235000+01:00          NaN\n",
       "2015-08-20 04:48:24.734000+01:00     1.582842\n",
       "2015-08-20 04:48:25.660000+01:00    35.954340\n",
       "2015-08-20 04:48:26.819000+01:00    20.123165\n",
       "2015-08-20 04:48:27.828000+01:00    22.187213\n",
       "2015-08-20 04:48:29.720000+01:00    15.241680\n",
       "2015-08-20 04:48:30.669000+01:00    24.783839\n",
       "2015-08-20 04:48:33.793000+01:00    12.151207\n",
       "2015-08-20 04:48:34.869000+01:00     9.230505\n",
       "2015-08-20 04:48:37.708000+01:00     9.302060\n",
       "dtype: float64"
      ]
     },
     "execution_count": 93,
     "metadata": {},
     "output_type": "execute_result"
    }
   ],
   "source": [
    "speed[0:10]"
   ]
  },
  {
   "cell_type": "code",
   "execution_count": 94,
   "metadata": {
    "collapsed": true
   },
   "outputs": [],
   "source": [
    "df['dist']=dist\n",
    "df['dt']=dt"
   ]
  },
  {
   "cell_type": "code",
   "execution_count": 95,
   "metadata": {
    "collapsed": true
   },
   "outputs": [],
   "source": [
    "df1m = df.resample('1min').sum()"
   ]
  },
  {
   "cell_type": "code",
   "execution_count": 96,
   "metadata": {},
   "outputs": [
    {
     "data": {
      "text/plain": [
       "DatetimeIndex(['2015-08-20 04:48:00+01:00', '2015-08-20 04:49:00+01:00',\n",
       "               '2015-08-20 04:50:00+01:00', '2015-08-20 04:51:00+01:00',\n",
       "               '2015-08-20 04:52:00+01:00', '2015-08-20 04:53:00+01:00',\n",
       "               '2015-08-20 04:54:00+01:00', '2015-08-20 04:55:00+01:00',\n",
       "               '2015-08-20 04:56:00+01:00', '2015-08-20 04:57:00+01:00',\n",
       "               '2015-08-20 04:58:00+01:00', '2015-08-20 04:59:00+01:00',\n",
       "               '2015-08-20 05:00:00+01:00', '2015-08-20 05:01:00+01:00',\n",
       "               '2015-08-20 05:02:00+01:00', '2015-08-20 05:03:00+01:00',\n",
       "               '2015-08-20 05:04:00+01:00', '2015-08-20 05:05:00+01:00',\n",
       "               '2015-08-20 05:06:00+01:00', '2015-08-20 05:07:00+01:00',\n",
       "               '2015-08-20 05:08:00+01:00', '2015-08-20 05:09:00+01:00',\n",
       "               '2015-08-20 05:10:00+01:00', '2015-08-20 05:11:00+01:00',\n",
       "               '2015-08-20 05:12:00+01:00', '2015-08-20 05:13:00+01:00',\n",
       "               '2015-08-20 05:14:00+01:00', '2015-08-20 05:15:00+01:00',\n",
       "               '2015-08-20 05:16:00+01:00', '2015-08-20 05:17:00+01:00',\n",
       "               '2015-08-20 05:18:00+01:00', '2015-08-20 05:19:00+01:00',\n",
       "               '2015-08-20 05:20:00+01:00'],\n",
       "              dtype='datetime64[ns, Europe/London]', name='time', freq='T')"
      ]
     },
     "execution_count": 96,
     "metadata": {},
     "output_type": "execute_result"
    }
   ],
   "source": [
    "#Look up offset Aliases\n",
    "#freq ='T' the capital T means Minutes\n",
    "df1m.index"
   ]
  },
  {
   "cell_type": "code",
   "execution_count": 97,
   "metadata": {
    "collapsed": true
   },
   "outputs": [
    {
     "ename": "KeyError",
     "evalue": "'dt'",
     "output_type": "error",
     "traceback": [
      "\u001b[1;31m---------------------------------------------------------------------------\u001b[0m",
      "\u001b[1;31mKeyError\u001b[0m                                  Traceback (most recent call last)",
      "\u001b[1;32m~\\Anaconda3\\lib\\site-packages\\pandas\\core\\indexes\\base.py\u001b[0m in \u001b[0;36mget_loc\u001b[1;34m(self, key, method, tolerance)\u001b[0m\n\u001b[0;32m   2441\u001b[0m             \u001b[1;32mtry\u001b[0m\u001b[1;33m:\u001b[0m\u001b[1;33m\u001b[0m\u001b[0m\n\u001b[1;32m-> 2442\u001b[1;33m                 \u001b[1;32mreturn\u001b[0m \u001b[0mself\u001b[0m\u001b[1;33m.\u001b[0m\u001b[0m_engine\u001b[0m\u001b[1;33m.\u001b[0m\u001b[0mget_loc\u001b[0m\u001b[1;33m(\u001b[0m\u001b[0mkey\u001b[0m\u001b[1;33m)\u001b[0m\u001b[1;33m\u001b[0m\u001b[0m\n\u001b[0m\u001b[0;32m   2443\u001b[0m             \u001b[1;32mexcept\u001b[0m \u001b[0mKeyError\u001b[0m\u001b[1;33m:\u001b[0m\u001b[1;33m\u001b[0m\u001b[0m\n",
      "\u001b[1;32mpandas\\_libs\\index.pyx\u001b[0m in \u001b[0;36mpandas._libs.index.IndexEngine.get_loc\u001b[1;34m()\u001b[0m\n",
      "\u001b[1;32mpandas\\_libs\\index.pyx\u001b[0m in \u001b[0;36mpandas._libs.index.IndexEngine.get_loc\u001b[1;34m()\u001b[0m\n",
      "\u001b[1;32mpandas\\_libs\\hashtable_class_helper.pxi\u001b[0m in \u001b[0;36mpandas._libs.hashtable.PyObjectHashTable.get_item\u001b[1;34m()\u001b[0m\n",
      "\u001b[1;32mpandas\\_libs\\hashtable_class_helper.pxi\u001b[0m in \u001b[0;36mpandas._libs.hashtable.PyObjectHashTable.get_item\u001b[1;34m()\u001b[0m\n",
      "\u001b[1;31mKeyError\u001b[0m: 'dt'",
      "\nDuring handling of the above exception, another exception occurred:\n",
      "\u001b[1;31mKeyError\u001b[0m                                  Traceback (most recent call last)",
      "\u001b[1;32m<ipython-input-97-82246dd29de7>\u001b[0m in \u001b[0;36m<module>\u001b[1;34m()\u001b[0m\n\u001b[1;32m----> 1\u001b[1;33m \u001b[0mspeed\u001b[0m \u001b[1;33m=\u001b[0m \u001b[0mdf1m\u001b[0m\u001b[1;33m[\u001b[0m\u001b[1;34m'dist'\u001b[0m\u001b[1;33m]\u001b[0m\u001b[1;33m/\u001b[0m\u001b[0mdf1m\u001b[0m\u001b[1;33m[\u001b[0m\u001b[1;34m'dt'\u001b[0m\u001b[1;33m]\u001b[0m\u001b[1;33m/\u001b[0m \u001b[0mnp\u001b[0m\u001b[1;33m.\u001b[0m\u001b[0mtimedelta64\u001b[0m\u001b[1;33m(\u001b[0m\u001b[1;33m)\u001b[0m\u001b[1;33m\u001b[0m\u001b[0m\n\u001b[0m",
      "\u001b[1;32m~\\Anaconda3\\lib\\site-packages\\pandas\\core\\frame.py\u001b[0m in \u001b[0;36m__getitem__\u001b[1;34m(self, key)\u001b[0m\n\u001b[0;32m   1962\u001b[0m             \u001b[1;32mreturn\u001b[0m \u001b[0mself\u001b[0m\u001b[1;33m.\u001b[0m\u001b[0m_getitem_multilevel\u001b[0m\u001b[1;33m(\u001b[0m\u001b[0mkey\u001b[0m\u001b[1;33m)\u001b[0m\u001b[1;33m\u001b[0m\u001b[0m\n\u001b[0;32m   1963\u001b[0m         \u001b[1;32melse\u001b[0m\u001b[1;33m:\u001b[0m\u001b[1;33m\u001b[0m\u001b[0m\n\u001b[1;32m-> 1964\u001b[1;33m             \u001b[1;32mreturn\u001b[0m \u001b[0mself\u001b[0m\u001b[1;33m.\u001b[0m\u001b[0m_getitem_column\u001b[0m\u001b[1;33m(\u001b[0m\u001b[0mkey\u001b[0m\u001b[1;33m)\u001b[0m\u001b[1;33m\u001b[0m\u001b[0m\n\u001b[0m\u001b[0;32m   1965\u001b[0m \u001b[1;33m\u001b[0m\u001b[0m\n\u001b[0;32m   1966\u001b[0m     \u001b[1;32mdef\u001b[0m \u001b[0m_getitem_column\u001b[0m\u001b[1;33m(\u001b[0m\u001b[0mself\u001b[0m\u001b[1;33m,\u001b[0m \u001b[0mkey\u001b[0m\u001b[1;33m)\u001b[0m\u001b[1;33m:\u001b[0m\u001b[1;33m\u001b[0m\u001b[0m\n",
      "\u001b[1;32m~\\Anaconda3\\lib\\site-packages\\pandas\\core\\frame.py\u001b[0m in \u001b[0;36m_getitem_column\u001b[1;34m(self, key)\u001b[0m\n\u001b[0;32m   1969\u001b[0m         \u001b[1;31m# get column\u001b[0m\u001b[1;33m\u001b[0m\u001b[1;33m\u001b[0m\u001b[0m\n\u001b[0;32m   1970\u001b[0m         \u001b[1;32mif\u001b[0m \u001b[0mself\u001b[0m\u001b[1;33m.\u001b[0m\u001b[0mcolumns\u001b[0m\u001b[1;33m.\u001b[0m\u001b[0mis_unique\u001b[0m\u001b[1;33m:\u001b[0m\u001b[1;33m\u001b[0m\u001b[0m\n\u001b[1;32m-> 1971\u001b[1;33m             \u001b[1;32mreturn\u001b[0m \u001b[0mself\u001b[0m\u001b[1;33m.\u001b[0m\u001b[0m_get_item_cache\u001b[0m\u001b[1;33m(\u001b[0m\u001b[0mkey\u001b[0m\u001b[1;33m)\u001b[0m\u001b[1;33m\u001b[0m\u001b[0m\n\u001b[0m\u001b[0;32m   1972\u001b[0m \u001b[1;33m\u001b[0m\u001b[0m\n\u001b[0;32m   1973\u001b[0m         \u001b[1;31m# duplicate columns & possible reduce dimensionality\u001b[0m\u001b[1;33m\u001b[0m\u001b[1;33m\u001b[0m\u001b[0m\n",
      "\u001b[1;32m~\\Anaconda3\\lib\\site-packages\\pandas\\core\\generic.py\u001b[0m in \u001b[0;36m_get_item_cache\u001b[1;34m(self, item)\u001b[0m\n\u001b[0;32m   1643\u001b[0m         \u001b[0mres\u001b[0m \u001b[1;33m=\u001b[0m \u001b[0mcache\u001b[0m\u001b[1;33m.\u001b[0m\u001b[0mget\u001b[0m\u001b[1;33m(\u001b[0m\u001b[0mitem\u001b[0m\u001b[1;33m)\u001b[0m\u001b[1;33m\u001b[0m\u001b[0m\n\u001b[0;32m   1644\u001b[0m         \u001b[1;32mif\u001b[0m \u001b[0mres\u001b[0m \u001b[1;32mis\u001b[0m \u001b[1;32mNone\u001b[0m\u001b[1;33m:\u001b[0m\u001b[1;33m\u001b[0m\u001b[0m\n\u001b[1;32m-> 1645\u001b[1;33m             \u001b[0mvalues\u001b[0m \u001b[1;33m=\u001b[0m \u001b[0mself\u001b[0m\u001b[1;33m.\u001b[0m\u001b[0m_data\u001b[0m\u001b[1;33m.\u001b[0m\u001b[0mget\u001b[0m\u001b[1;33m(\u001b[0m\u001b[0mitem\u001b[0m\u001b[1;33m)\u001b[0m\u001b[1;33m\u001b[0m\u001b[0m\n\u001b[0m\u001b[0;32m   1646\u001b[0m             \u001b[0mres\u001b[0m \u001b[1;33m=\u001b[0m \u001b[0mself\u001b[0m\u001b[1;33m.\u001b[0m\u001b[0m_box_item_values\u001b[0m\u001b[1;33m(\u001b[0m\u001b[0mitem\u001b[0m\u001b[1;33m,\u001b[0m \u001b[0mvalues\u001b[0m\u001b[1;33m)\u001b[0m\u001b[1;33m\u001b[0m\u001b[0m\n\u001b[0;32m   1647\u001b[0m             \u001b[0mcache\u001b[0m\u001b[1;33m[\u001b[0m\u001b[0mitem\u001b[0m\u001b[1;33m]\u001b[0m \u001b[1;33m=\u001b[0m \u001b[0mres\u001b[0m\u001b[1;33m\u001b[0m\u001b[0m\n",
      "\u001b[1;32m~\\Anaconda3\\lib\\site-packages\\pandas\\core\\internals.py\u001b[0m in \u001b[0;36mget\u001b[1;34m(self, item, fastpath)\u001b[0m\n\u001b[0;32m   3588\u001b[0m \u001b[1;33m\u001b[0m\u001b[0m\n\u001b[0;32m   3589\u001b[0m             \u001b[1;32mif\u001b[0m \u001b[1;32mnot\u001b[0m \u001b[0misnull\u001b[0m\u001b[1;33m(\u001b[0m\u001b[0mitem\u001b[0m\u001b[1;33m)\u001b[0m\u001b[1;33m:\u001b[0m\u001b[1;33m\u001b[0m\u001b[0m\n\u001b[1;32m-> 3590\u001b[1;33m                 \u001b[0mloc\u001b[0m \u001b[1;33m=\u001b[0m \u001b[0mself\u001b[0m\u001b[1;33m.\u001b[0m\u001b[0mitems\u001b[0m\u001b[1;33m.\u001b[0m\u001b[0mget_loc\u001b[0m\u001b[1;33m(\u001b[0m\u001b[0mitem\u001b[0m\u001b[1;33m)\u001b[0m\u001b[1;33m\u001b[0m\u001b[0m\n\u001b[0m\u001b[0;32m   3591\u001b[0m             \u001b[1;32melse\u001b[0m\u001b[1;33m:\u001b[0m\u001b[1;33m\u001b[0m\u001b[0m\n\u001b[0;32m   3592\u001b[0m                 \u001b[0mindexer\u001b[0m \u001b[1;33m=\u001b[0m \u001b[0mnp\u001b[0m\u001b[1;33m.\u001b[0m\u001b[0marange\u001b[0m\u001b[1;33m(\u001b[0m\u001b[0mlen\u001b[0m\u001b[1;33m(\u001b[0m\u001b[0mself\u001b[0m\u001b[1;33m.\u001b[0m\u001b[0mitems\u001b[0m\u001b[1;33m)\u001b[0m\u001b[1;33m)\u001b[0m\u001b[1;33m[\u001b[0m\u001b[0misnull\u001b[0m\u001b[1;33m(\u001b[0m\u001b[0mself\u001b[0m\u001b[1;33m.\u001b[0m\u001b[0mitems\u001b[0m\u001b[1;33m)\u001b[0m\u001b[1;33m]\u001b[0m\u001b[1;33m\u001b[0m\u001b[0m\n",
      "\u001b[1;32m~\\Anaconda3\\lib\\site-packages\\pandas\\core\\indexes\\base.py\u001b[0m in \u001b[0;36mget_loc\u001b[1;34m(self, key, method, tolerance)\u001b[0m\n\u001b[0;32m   2442\u001b[0m                 \u001b[1;32mreturn\u001b[0m \u001b[0mself\u001b[0m\u001b[1;33m.\u001b[0m\u001b[0m_engine\u001b[0m\u001b[1;33m.\u001b[0m\u001b[0mget_loc\u001b[0m\u001b[1;33m(\u001b[0m\u001b[0mkey\u001b[0m\u001b[1;33m)\u001b[0m\u001b[1;33m\u001b[0m\u001b[0m\n\u001b[0;32m   2443\u001b[0m             \u001b[1;32mexcept\u001b[0m \u001b[0mKeyError\u001b[0m\u001b[1;33m:\u001b[0m\u001b[1;33m\u001b[0m\u001b[0m\n\u001b[1;32m-> 2444\u001b[1;33m                 \u001b[1;32mreturn\u001b[0m \u001b[0mself\u001b[0m\u001b[1;33m.\u001b[0m\u001b[0m_engine\u001b[0m\u001b[1;33m.\u001b[0m\u001b[0mget_loc\u001b[0m\u001b[1;33m(\u001b[0m\u001b[0mself\u001b[0m\u001b[1;33m.\u001b[0m\u001b[0m_maybe_cast_indexer\u001b[0m\u001b[1;33m(\u001b[0m\u001b[0mkey\u001b[0m\u001b[1;33m)\u001b[0m\u001b[1;33m)\u001b[0m\u001b[1;33m\u001b[0m\u001b[0m\n\u001b[0m\u001b[0;32m   2445\u001b[0m \u001b[1;33m\u001b[0m\u001b[0m\n\u001b[0;32m   2446\u001b[0m         \u001b[0mindexer\u001b[0m \u001b[1;33m=\u001b[0m \u001b[0mself\u001b[0m\u001b[1;33m.\u001b[0m\u001b[0mget_indexer\u001b[0m\u001b[1;33m(\u001b[0m\u001b[1;33m[\u001b[0m\u001b[0mkey\u001b[0m\u001b[1;33m]\u001b[0m\u001b[1;33m,\u001b[0m \u001b[0mmethod\u001b[0m\u001b[1;33m=\u001b[0m\u001b[0mmethod\u001b[0m\u001b[1;33m,\u001b[0m \u001b[0mtolerance\u001b[0m\u001b[1;33m=\u001b[0m\u001b[0mtolerance\u001b[0m\u001b[1;33m)\u001b[0m\u001b[1;33m\u001b[0m\u001b[0m\n",
      "\u001b[1;32mpandas\\_libs\\index.pyx\u001b[0m in \u001b[0;36mpandas._libs.index.IndexEngine.get_loc\u001b[1;34m()\u001b[0m\n",
      "\u001b[1;32mpandas\\_libs\\index.pyx\u001b[0m in \u001b[0;36mpandas._libs.index.IndexEngine.get_loc\u001b[1;34m()\u001b[0m\n",
      "\u001b[1;32mpandas\\_libs\\hashtable_class_helper.pxi\u001b[0m in \u001b[0;36mpandas._libs.hashtable.PyObjectHashTable.get_item\u001b[1;34m()\u001b[0m\n",
      "\u001b[1;32mpandas\\_libs\\hashtable_class_helper.pxi\u001b[0m in \u001b[0;36mpandas._libs.hashtable.PyObjectHashTable.get_item\u001b[1;34m()\u001b[0m\n",
      "\u001b[1;31mKeyError\u001b[0m: 'dt'"
     ]
    }
   ],
   "source": [
    "speed = df1m['dist']/df1m['dt']/ np.timedelta64()"
   ]
  },
  {
   "cell_type": "code",
   "execution_count": 98,
   "metadata": {},
   "outputs": [
    {
     "data": {
      "text/plain": [
       "Index(['lat', 'lng', 'height', 'dist'], dtype='object')"
      ]
     },
     "execution_count": 98,
     "metadata": {},
     "output_type": "execute_result"
    }
   ],
   "source": [
    "df1m.columns"
   ]
  },
  {
   "cell_type": "code",
   "execution_count": 99,
   "metadata": {
    "collapsed": true
   },
   "outputs": [],
   "source": [
    "df['dt']= dt/np.timedelta64(1,'h')\n",
    "df1m = df.resample('1min').sum()\n",
    "speed1m = df1m['dist']/df1m['dt']"
   ]
  },
  {
   "cell_type": "code",
   "execution_count": 100,
   "metadata": {},
   "outputs": [
    {
     "data": {
      "text/plain": [
       "time\n",
       "2015-08-20 04:48:00+01:00     8.127118\n",
       "2015-08-20 04:49:00+01:00     7.579874\n",
       "2015-08-20 04:50:00+01:00     9.127972\n",
       "2015-08-20 04:51:00+01:00    10.220818\n",
       "2015-08-20 04:52:00+01:00    10.114279\n",
       "2015-08-20 04:53:00+01:00     9.687690\n",
       "2015-08-20 04:54:00+01:00    10.856446\n",
       "2015-08-20 04:55:00+01:00    10.892145\n",
       "2015-08-20 04:56:00+01:00    10.270580\n",
       "2015-08-20 04:57:00+01:00     6.629397\n",
       "2015-08-20 04:58:00+01:00     6.774920\n",
       "2015-08-20 04:59:00+01:00     5.285595\n",
       "2015-08-20 05:00:00+01:00     6.907386\n",
       "2015-08-20 05:01:00+01:00     8.451571\n",
       "2015-08-20 05:02:00+01:00     8.316443\n",
       "2015-08-20 05:03:00+01:00    10.477907\n",
       "2015-08-20 05:04:00+01:00     9.741835\n",
       "2015-08-20 05:05:00+01:00    10.282606\n",
       "2015-08-20 05:06:00+01:00    10.239764\n",
       "2015-08-20 05:07:00+01:00     8.538120\n",
       "2015-08-20 05:08:00+01:00     6.190342\n",
       "2015-08-20 05:09:00+01:00     7.582024\n",
       "2015-08-20 05:10:00+01:00     7.543402\n",
       "2015-08-20 05:11:00+01:00     8.204695\n",
       "2015-08-20 05:12:00+01:00    10.372601\n",
       "2015-08-20 05:13:00+01:00     8.791494\n",
       "2015-08-20 05:14:00+01:00     6.956605\n",
       "2015-08-20 05:15:00+01:00     6.884856\n",
       "2015-08-20 05:16:00+01:00     7.489512\n",
       "2015-08-20 05:17:00+01:00     9.121410\n",
       "2015-08-20 05:18:00+01:00     7.828981\n",
       "2015-08-20 05:19:00+01:00     9.679358\n",
       "2015-08-20 05:20:00+01:00    10.553316\n",
       "Freq: T, dtype: float64"
      ]
     },
     "execution_count": 100,
     "metadata": {},
     "output_type": "execute_result"
    }
   ],
   "source": [
    "speed1m"
   ]
  },
  {
   "cell_type": "code",
   "execution_count": 101,
   "metadata": {},
   "outputs": [
    {
     "data": {
      "text/plain": [
       "count    33.000000\n",
       "mean      8.658214\n",
       "std       1.543214\n",
       "min       5.285595\n",
       "25%       7.543402\n",
       "50%       8.538120\n",
       "75%      10.220818\n",
       "max      10.892145\n",
       "dtype: float64"
      ]
     },
     "execution_count": 101,
     "metadata": {},
     "output_type": "execute_result"
    }
   ],
   "source": [
    "speed1m.describe()"
   ]
  },
  {
   "cell_type": "code",
   "execution_count": 107,
   "metadata": {},
   "outputs": [
    {
     "name": "stdout",
     "output_type": "stream",
     "text": [
      "Using matplotlib backend: Qt5Agg\n"
     ]
    }
   ],
   "source": [
    "%matplotlib inline"
   ]
  },
  {
   "cell_type": "code",
   "execution_count": 108,
   "metadata": {},
   "outputs": [
    {
     "data": {
      "text/plain": [
       "<matplotlib.axes._subplots.AxesSubplot at 0x202f95a7eb8>"
      ]
     },
     "execution_count": 108,
     "metadata": {},
     "output_type": "execute_result"
    }
   ],
   "source": [
    "speed1m.plot()"
   ]
  },
  {
   "cell_type": "code",
   "execution_count": 109,
   "metadata": {
    "collapsed": true
   },
   "outputs": [],
   "source": [
    "import matplotlib.pyplot as plt"
   ]
  },
  {
   "cell_type": "code",
   "execution_count": 110,
   "metadata": {
    "collapsed": true
   },
   "outputs": [],
   "source": [
    "plt.rcParams['figure.figsize'] = (10,6)"
   ]
  },
  {
   "cell_type": "code",
   "execution_count": 112,
   "metadata": {},
   "outputs": [],
   "source": [
    "plt.style.use('seaborn-whitegrid')"
   ]
  },
  {
   "cell_type": "code",
   "execution_count": 113,
   "metadata": {},
   "outputs": [
    {
     "data": {
      "text/plain": [
       "<matplotlib.axes._subplots.AxesSubplot at 0x202f9f05278>"
      ]
     },
     "execution_count": 113,
     "metadata": {},
     "output_type": "execute_result"
    }
   ],
   "source": [
    "speed1m.plot()"
   ]
  },
  {
   "cell_type": "code",
   "execution_count": 114,
   "metadata": {},
   "outputs": [
    {
     "data": {
      "text/plain": [
       "<matplotlib.axes._subplots.AxesSubplot at 0x202fa87a320>"
      ]
     },
     "execution_count": 114,
     "metadata": {},
     "output_type": "execute_result"
    }
   ],
   "source": [
    "speed1m.plot.box()"
   ]
  },
  {
   "cell_type": "code",
   "execution_count": 116,
   "metadata": {},
   "outputs": [],
   "source": [
    "import folium"
   ]
  },
  {
   "cell_type": "code",
   "execution_count": 138,
   "metadata": {},
   "outputs": [
    {
     "data": {
      "text/html": [
       "<div style=\"width:100%;\"><div style=\"position:relative;width:100%;height:0;padding-bottom:60%;\"><iframe src=\"data:text/html;charset=utf-8;base64,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\" style=\"position:absolute;width:100%;height:100%;left:0;top:0;border:none !important;\" allowfullscreen webkitallowfullscreen mozallowfullscreen></iframe></div></div>"
      ],
      "text/plain": [
       "<folium.folium.Map at 0x202fc29d438>"
      ]
     },
     "execution_count": 138,
     "metadata": {},
     "output_type": "execute_result"
    }
   ],
   "source": [
    "m = folium.Map(location = [df['lng'].mean(),df['lat'].mean() ],zoom_start =15,)\n",
    "mdf = df.resample('T').mean()\n",
    "def add_marker(row):\n",
    "    marker = folium.CircleMarker([row['lng'],row['lat']], radius=5, color ='green',popup = row.name.strftime('%H:%M'))\n",
    "    marker.add_to(m)\n",
    "    \n",
    "mdf.apply(add_marker, axis = 1)\n",
    "m"
   ]
  },
  {
   "cell_type": "code",
   "execution_count": 140,
   "metadata": {
    "collapsed": true
   },
   "outputs": [],
   "source": [
    "from shapely.geometry import Point, Polygon"
   ]
  },
  {
   "cell_type": "code",
   "execution_count": 141,
   "metadata": {
    "collapsed": true
   },
   "outputs": [],
   "source": [
    "pt = Point(1,2)"
   ]
  },
  {
   "cell_type": "code",
   "execution_count": 142,
   "metadata": {},
   "outputs": [
    {
     "data": {
      "image/svg+xml": [
       "<svg xmlns=\"http://www.w3.org/2000/svg\" xmlns:xlink=\"http://www.w3.org/1999/xlink\" width=\"100.0\" height=\"100.0\" viewBox=\"0.0 1.0 2.0 2.0\" preserveAspectRatio=\"xMinYMin meet\"><g transform=\"matrix(1,0,0,-1,0,4.0)\"><circle cx=\"1.0\" cy=\"2.0\" r=\"0.06\" stroke=\"#555555\" stroke-width=\"0.02\" fill=\"#66cc99\" opacity=\"0.6\" /></g></svg>"
      ],
      "text/plain": [
       "<shapely.geometry.point.Point at 0x202fc1d1cf8>"
      ]
     },
     "execution_count": 142,
     "metadata": {},
     "output_type": "execute_result"
    }
   ],
   "source": [
    "pt"
   ]
  },
  {
   "cell_type": "code",
   "execution_count": 143,
   "metadata": {},
   "outputs": [
    {
     "data": {
      "text/plain": [
       "1.0"
      ]
     },
     "execution_count": 143,
     "metadata": {},
     "output_type": "execute_result"
    }
   ],
   "source": [
    "pt.x"
   ]
  },
  {
   "cell_type": "code",
   "execution_count": 145,
   "metadata": {},
   "outputs": [],
   "source": [
    "poly = Polygon([[0,0],[0,10],[10,10],[10,0]])"
   ]
  },
  {
   "cell_type": "code",
   "execution_count": 146,
   "metadata": {},
   "outputs": [
    {
     "data": {
      "text/plain": [
       "100.0"
      ]
     },
     "execution_count": 146,
     "metadata": {},
     "output_type": "execute_result"
    }
   ],
   "source": [
    "poly.area\n"
   ]
  },
  {
   "cell_type": "code",
   "execution_count": 147,
   "metadata": {},
   "outputs": [
    {
     "data": {
      "text/plain": [
       "(array('d', [5.0]), array('d', [5.0]))"
      ]
     },
     "execution_count": 147,
     "metadata": {},
     "output_type": "execute_result"
    }
   ],
   "source": [
    "poly.centroid.xy"
   ]
  },
  {
   "cell_type": "code",
   "execution_count": 149,
   "metadata": {},
   "outputs": [
    {
     "data": {
      "text/plain": [
       "True"
      ]
     },
     "execution_count": 149,
     "metadata": {},
     "output_type": "execute_result"
    }
   ],
   "source": [
    "poly.intersects(pt)"
   ]
  },
  {
   "cell_type": "code",
   "execution_count": 150,
   "metadata": {},
   "outputs": [
    {
     "data": {
      "text/plain": [
       "False"
      ]
     },
     "execution_count": 150,
     "metadata": {},
     "output_type": "execute_result"
    }
   ],
   "source": [
    "poly.intersects(Point(10,20))"
   ]
  },
  {
   "cell_type": "code",
   "execution_count": 153,
   "metadata": {},
   "outputs": [
    {
     "data": {
      "text/html": [
       "<div>\n",
       "<style>\n",
       "    .dataframe thead tr:only-child th {\n",
       "        text-align: right;\n",
       "    }\n",
       "\n",
       "    .dataframe thead th {\n",
       "        text-align: left;\n",
       "    }\n",
       "\n",
       "    .dataframe tbody tr th {\n",
       "        vertical-align: top;\n",
       "    }\n",
       "</style>\n",
       "<table border=\"1\" class=\"dataframe\">\n",
       "  <thead>\n",
       "    <tr style=\"text-align: right;\">\n",
       "      <th></th>\n",
       "      <th>lat</th>\n",
       "      <th>lng</th>\n",
       "      <th>height</th>\n",
       "      <th>dist</th>\n",
       "      <th>dt</th>\n",
       "      <th>pt</th>\n",
       "    </tr>\n",
       "    <tr>\n",
       "      <th>time</th>\n",
       "      <th></th>\n",
       "      <th></th>\n",
       "      <th></th>\n",
       "      <th></th>\n",
       "      <th></th>\n",
       "      <th></th>\n",
       "    </tr>\n",
       "  </thead>\n",
       "  <tbody>\n",
       "    <tr>\n",
       "      <th>2015-08-20 04:48:00+01:00</th>\n",
       "      <td>35.014571</td>\n",
       "      <td>32.519485</td>\n",
       "      <td>122.766666</td>\n",
       "      <td>0.005918</td>\n",
       "      <td>0.000728</td>\n",
       "      <td>POINT (32.51948457142857 35.01457057142857)</td>\n",
       "    </tr>\n",
       "    <tr>\n",
       "      <th>2015-08-20 04:49:00+01:00</th>\n",
       "      <td>35.014316</td>\n",
       "      <td>32.518971</td>\n",
       "      <td>122.966667</td>\n",
       "      <td>0.005670</td>\n",
       "      <td>0.000748</td>\n",
       "      <td>POINT (32.51897133333333 35.01431633333333)</td>\n",
       "    </tr>\n",
       "    <tr>\n",
       "      <th>2015-08-20 04:50:00+01:00</th>\n",
       "      <td>35.014055</td>\n",
       "      <td>32.517258</td>\n",
       "      <td>114.573913</td>\n",
       "      <td>0.012125</td>\n",
       "      <td>0.001328</td>\n",
       "      <td>POINT (32.51725782608695 35.0140552173913)</td>\n",
       "    </tr>\n",
       "    <tr>\n",
       "      <th>2015-08-20 04:51:00+01:00</th>\n",
       "      <td>35.013864</td>\n",
       "      <td>32.516264</td>\n",
       "      <td>106.653334</td>\n",
       "      <td>0.005682</td>\n",
       "      <td>0.000556</td>\n",
       "      <td>POINT (32.5162645 35.01386383333332)</td>\n",
       "    </tr>\n",
       "    <tr>\n",
       "      <th>2015-08-20 04:52:00+01:00</th>\n",
       "      <td>35.012744</td>\n",
       "      <td>32.515141</td>\n",
       "      <td>97.710000</td>\n",
       "      <td>0.005705</td>\n",
       "      <td>0.000564</td>\n",
       "      <td>POINT (32.51514063333333 35.0127444)</td>\n",
       "    </tr>\n",
       "  </tbody>\n",
       "</table>\n",
       "</div>"
      ],
      "text/plain": [
       "                                 lat        lng      height      dist  \\\n",
       "time                                                                    \n",
       "2015-08-20 04:48:00+01:00  35.014571  32.519485  122.766666  0.005918   \n",
       "2015-08-20 04:49:00+01:00  35.014316  32.518971  122.966667  0.005670   \n",
       "2015-08-20 04:50:00+01:00  35.014055  32.517258  114.573913  0.012125   \n",
       "2015-08-20 04:51:00+01:00  35.013864  32.516264  106.653334  0.005682   \n",
       "2015-08-20 04:52:00+01:00  35.012744  32.515141   97.710000  0.005705   \n",
       "\n",
       "                                 dt  \\\n",
       "time                                  \n",
       "2015-08-20 04:48:00+01:00  0.000728   \n",
       "2015-08-20 04:49:00+01:00  0.000748   \n",
       "2015-08-20 04:50:00+01:00  0.001328   \n",
       "2015-08-20 04:51:00+01:00  0.000556   \n",
       "2015-08-20 04:52:00+01:00  0.000564   \n",
       "\n",
       "                                                                    pt  \n",
       "time                                                                    \n",
       "2015-08-20 04:48:00+01:00  POINT (32.51948457142857 35.01457057142857)  \n",
       "2015-08-20 04:49:00+01:00  POINT (32.51897133333333 35.01431633333333)  \n",
       "2015-08-20 04:50:00+01:00   POINT (32.51725782608695 35.0140552173913)  \n",
       "2015-08-20 04:51:00+01:00         POINT (32.5162645 35.01386383333332)  \n",
       "2015-08-20 04:52:00+01:00         POINT (32.51514063333333 35.0127444)  "
      ]
     },
     "execution_count": 153,
     "metadata": {},
     "output_type": "execute_result"
    }
   ],
   "source": [
    "mdf['pt']= mdf[['lng','lat']].apply(Point,axis =1)\n",
    "mdf.head()"
   ]
  },
  {
   "cell_type": "code",
   "execution_count": 155,
   "metadata": {
    "collapsed": true
   },
   "outputs": [],
   "source": [
    "mean_lng, max_lng = mdf['lng'].mean(),mdf['lat'].max()\n",
    "mean_lat, max_lat = mdf['lat'].mean(),mdf['lat'].max()"
   ]
  },
  {
   "cell_type": "code",
   "execution_count": 157,
   "metadata": {},
   "outputs": [],
   "source": [
    "poly = Polygon([\n",
    "    [mean_lng,mean_lat],\n",
    "    [mean_lng,max_lat],\n",
    "    [max_lng,max_lat],\n",
    "    [max_lng,mean_lat]\n",
    "    \n",
    "])"
   ]
  },
  {
   "cell_type": "code",
   "execution_count": 158,
   "metadata": {},
   "outputs": [
    {
     "data": {
      "text/plain": [
       "(array('d', [32.5123189947394, 32.5123189947394, 35.02252776190477, 35.02252776190477, 32.5123189947394]),\n",
       " array('d', [35.01567806812503, 35.02252776190477, 35.02252776190477, 35.01567806812503, 35.01567806812503]))"
      ]
     },
     "execution_count": 158,
     "metadata": {},
     "output_type": "execute_result"
    }
   ],
   "source": [
    "poly.exterior.xy"
   ]
  },
  {
   "cell_type": "code",
   "execution_count": 159,
   "metadata": {
    "collapsed": true
   },
   "outputs": [],
   "source": [
    "import numpy as np"
   ]
  },
  {
   "cell_type": "code",
   "execution_count": 196,
   "metadata": {},
   "outputs": [],
   "source": [
    "x=np.stack(poly.exterior.xy).T\n",
    "x=x.tolist()"
   ]
  },
  {
   "cell_type": "code",
   "execution_count": 190,
   "metadata": {},
   "outputs": [],
   "source": [
    "# x.size\n",
    "# len(x)\n",
    "# x.reshape(1,10)"
   ]
  },
  {
   "cell_type": "code",
   "execution_count": 202,
   "metadata": {},
   "outputs": [
    {
     "data": {
      "text/html": [
       "<div style=\"width:100%;\"><div style=\"position:relative;width:100%;height:0;padding-bottom:60%;\"><iframe src=\"data:text/html;charset=utf-8;base64,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\" style=\"position:absolute;width:100%;height:100%;left:0;top:0;border:none !important;\" allowfullscreen webkitallowfullscreen mozallowfullscreen></iframe></div></div>"
      ],
      "text/plain": [
       "<folium.folium.Map at 0x202fc748908>"
      ]
     },
     "execution_count": 202,
     "metadata": {},
     "output_type": "execute_result"
    }
   ],
   "source": [
    "m = folium.Map(location = [df['lng'].mean(),df['lat'].mean() ],zoom_start =15,)\n",
    "mdf = df.resample('T').mean()\n",
    "mdf['pt']= mdf[['lng','lat']].apply(Point,axis =1)\n",
    "\n",
    "# this threw an error because numpy arrays and python lists don't play nicely converted to list using tolist() method\n",
    "# and it works as expected.\n",
    "def add_marker(row):\n",
    "    colors = 'yellow' if poly.intersects(row['pt']) else 'green'\n",
    "    marker = folium.CircleMarker([row['lng'],row['lat']], radius=5, color ='red',popup = row.name.strftime('%H:%M'),fill_color = colors)\n",
    "    marker.add_to(m)\n",
    "    \n",
    "m.add_child(folium.PolyLine(x, color ='yellow'))    \n",
    "mdf.apply(add_marker, axis = 1)\n",
    "m"
   ]
  },
  {
   "cell_type": "code",
   "execution_count": null,
   "metadata": {
    "collapsed": true
   },
   "outputs": [],
   "source": []
  }
 ],
 "metadata": {
  "kernelspec": {
   "display_name": "Python 3",
   "language": "python",
   "name": "python3"
  },
  "language_info": {
   "codemirror_mode": {
    "name": "ipython",
    "version": 3
   },
   "file_extension": ".py",
   "mimetype": "text/x-python",
   "name": "python",
   "nbconvert_exporter": "python",
   "pygments_lexer": "ipython3",
   "version": "3.6.2"
  }
 },
 "nbformat": 4,
 "nbformat_minor": 2
}
