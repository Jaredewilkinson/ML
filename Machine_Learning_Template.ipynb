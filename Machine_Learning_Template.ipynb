{
 "cells": [
  {
   "cell_type": "markdown",
   "metadata": {},
   "source": [
    "# Machine Learning Template\n",
    "## Introduction\n",
    "<p>I have made this template to better organize my code and better document my assumptions made during the Data Science Life Cycle. I have incorporated aspects of scripts made by other Kagglers for inspiration and added my own code to fit my own needs/preferences.\n",
    "<p>The parts of my script can be found in the Table of Contents below:</p>"
   ]
  },
  {
   "cell_type": "markdown",
   "metadata": {},
   "source": [
    "* * *\n",
    "\n",
    "<h3> Table of Contents </h3>\n",
    "<div id=\"TOC\">\n",
    "<li><a href=\"#Define\" target=\"_self\"><span class=\"toc-section-number\">1</span> Define Business Problem</a>\n",
    "<li><a href=\"#Map\" target=\"_self\"><span class=\"toc-section-number\">2</span> Map Business Problem to Data Science Framework</a>\n",
    "<li><a href=\"#Data\" target=\"_self\"><span class=\"toc-section-number\">3</span> Get Data</a>\n",
    "\n",
    "<ul>\n",
    "<li><a href=\"#Import\" target=\"_self\"><span class=\"toc-section-number\">3.1</span> Import Libraries</a></li>\n",
    "<li><a href=\"#Load\" target=\"_self\"><span class=\"toc-section-number\">3.2</span> Load and Check Data</a></li>\n",
    "\n",
    "</ul>\n",
    "\n",
    "\n",
    "<li><a href=\"#Exploratory\" target=\"_self\"><span class=\"toc-section-number\">4</span> Exploratory Data Analysis/Data Cleansing</a>\n",
    "<ul>\n",
    "<li><a href=\"#Missing\" target=\"_self\"><span class=\"toc-section-number\">4.1</span> Missing Values/ imputation</a></li>\n",
    "<li><a href=\"#Numerical\" target=\"_self\"><span class=\"toc-section-number\">4.2</span> Numerical Histogram</a></li>\n",
    "<li><a href=\"#Categorical\" target=\"_self\"><span class=\"toc-section-number\">4.3</span> Categorical Countplot</a></li>\n",
    "</ul>\n",
    "<li><a href=\"#Modeling\" target=\"_self\"><span class=\"toc-section-number\">5</span> Data Modeling/Predictive Modeling</a></li>\n",
    "\n",
    "\n",
    "<ul>\n",
    "<li><a href=\"#Split\" target=\"_self\"><span class=\"toc-section-number\">5.1</span> Split into training &amp; test sets</a></li>\n",
    "<li><a href=\"#bldModel\" target=\"_self\"><span class=\"toc-section-number\">5.2</span> Building the model</a></li>\n",
    "<li><a href=\"#Variable\" target=\"_self\"><span class=\"toc-section-number\">5.3</span> Variable importance</a></li>\n",
    "<li><a href=\"#Prediction\" target=\"_self\"><span class=\"toc-section-number\">5.4</span> Prediction</a></li>\n",
    "</ul>\n",
    "\n",
    "\n",
    "<li><a href=\"#Conclusion\" target=\"_self\"><span class=\"toc-section-number\">6</span> Conclusion</a></li>\n",
    "\n",
    "</div>\n",
    "\n",
    "* * *"
   ]
  },
  {
   "cell_type": "markdown",
   "metadata": {},
   "source": [
    "<div class=\"section level1\" id=\"Define\">\n",
    "<h1><span class=\"header-section-number\">1.</span> Define Business Problem</h1>\n",
    "<p>Questions to consider:</p>\n",
    "<ul><li>How will your solution be used by the Business? </li><li>How should the performance of your model be measured?</li><li>What is the minimum performance needed to reach business objective?</li><li>What are your current assumptions about the problem?</li></ul>\n",
    "<p>Document your answers in the field below.</p>\n"
   ]
  },
  {
   "cell_type": "markdown",
   "metadata": {
    "collapsed": true
   },
   "source": []
  },
  {
   "cell_type": "markdown",
   "metadata": {},
   "source": [
    "* * *\n",
    "<div class=\"section level1\" id=\"Map\">\n",
    "<h1><span class=\"header-section-number\">2.</span> Map Business Problem to Data Science Framework</h1>\n",
    "\n"
   ]
  },
  {
   "cell_type": "code",
   "execution_count": 49,
   "metadata": {},
   "outputs": [
    {
     "name": "stdout",
     "output_type": "stream",
     "text": [
      "Which Category found below does your business problem fall under?\n"
     ]
    },
    {
     "data": {
      "application/vnd.jupyter.widget-view+json": {
       "model_id": "d7e65a82fb284a759d6a38a1ee46203c",
       "version_major": 2,
       "version_minor": 0
      },
      "text/plain": [
       "A Jupyter Widget"
      ]
     },
     "metadata": {},
     "output_type": "display_data"
    },
    {
     "name": "stdout",
     "output_type": "stream",
     "text": [
      "Document why you made this choice below.\n"
     ]
    }
   ],
   "source": [
    "import ipywidgets as wg\n",
    "from IPython.display import display\n",
    "# To enable widgets insert the code found below into the command prompt to activate the extension.\n",
    "# jupyter nbextension enable --py --sys-prefix widgetsnbextension\n",
    "\n",
    "print(\"Which Category found below does your business problem fall under?\")\n",
    "x = wg.RadioButtons(\n",
    "    options=['Supervised','Semi-Supervised', 'Unsupervised', 'Reinforcement Learning', 'Online/Offline','Batch'],\n",
    "    description='Choices:', \n",
    "    disabled=False\n",
    ")\n",
    "display(x)\n",
    "print('Document why you made this choice below.')\n"
   ]
  },
  {
   "cell_type": "markdown",
   "metadata": {},
   "source": []
  },
  {
   "cell_type": "markdown",
   "metadata": {},
   "source": [
    "* * *\n",
    "<div class=\"section level1\" id=\"Data\">\n",
    "<h1><span class=\"header-section-number\">3.</span> Get the Data</h1>\n",
    "\n"
   ]
  },
  {
   "cell_type": "markdown",
   "metadata": {},
   "source": [
    "<div class=\"section level2\" id=\"Import\">\n",
    "<h2><span class=\"header-section-number\">3.1</span> Import Libraries</h2>"
   ]
  },
  {
   "cell_type": "code",
   "execution_count": null,
   "metadata": {
    "collapsed": true
   },
   "outputs": [],
   "source": [
    "#I have included some standard Libraries\n",
    "#Update and change as necessary\n",
    "import numpy as np\n",
    "import pandas as pd\n",
    "import matplotlib.pyplot as plt\n",
    "import seaborn as sns\n",
    "import sys\n",
    "from sklearn.model_selection import train_test_split\n",
    "%matplotlib inline\n"
   ]
  },
  {
   "cell_type": "markdown",
   "metadata": {},
   "source": [
    "<p>Now that our packages are loaded, let’s read in and take a peek at the data.</p>"
   ]
  },
  {
   "cell_type": "markdown",
   "metadata": {},
   "source": [
    "<div class=\"section level2\" id=\"Load\">\n",
    "<h2><span class=\"header-section-number\">3.2</span> Load and check data</h2>\n"
   ]
  },
  {
   "cell_type": "code",
   "execution_count": null,
   "metadata": {
    "collapsed": true
   },
   "outputs": [],
   "source": [
    "data = pd.read_csv('EnterFilePathHere')"
   ]
  },
  {
   "cell_type": "code",
   "execution_count": null,
   "metadata": {
    "collapsed": true
   },
   "outputs": [],
   "source": [
    "data.head(10)#Check first 10 rows"
   ]
  },
  {
   "cell_type": "code",
   "execution_count": null,
   "metadata": {
    "collapsed": true
   },
   "outputs": [],
   "source": [
    "data.tail(10)#Check last 10 rows"
   ]
  },
  {
   "cell_type": "code",
   "execution_count": null,
   "metadata": {
    "collapsed": true
   },
   "outputs": [],
   "source": [
    "df=df.copy() #copy the data, to avoid making changes on original dataset"
   ]
  },
  {
   "cell_type": "markdown",
   "metadata": {
    "collapsed": true
   },
   "source": [
    "* * *\n",
    "<div class=\"section level1\" id=\"Exploratory\">\n",
    "<h1><span class=\"header-section-number\">3.</span> Exploratory Data Analysis/Data Cleansing</h1>"
   ]
  },
  {
   "cell_type": "code",
   "execution_count": null,
   "metadata": {
    "collapsed": true
   },
   "outputs": [],
   "source": [
    "df.info()"
   ]
  },
  {
   "cell_type": "code",
   "execution_count": null,
   "metadata": {
    "collapsed": true
   },
   "outputs": [],
   "source": [
    "df.dtypes # displays datatypes for all columns"
   ]
  },
  {
   "cell_type": "code",
   "execution_count": null,
   "metadata": {
    "collapsed": true
   },
   "outputs": [],
   "source": [
    "df.shape # displays columns and rows"
   ]
  },
  {
   "cell_type": "code",
   "execution_count": null,
   "metadata": {
    "collapsed": true
   },
   "outputs": [],
   "source": [
    "df.describe() # brief description of all columns"
   ]
  },
  {
   "cell_type": "markdown",
   "metadata": {},
   "source": [
    "### List columns of the dataset \n",
    "\n",
    "Use dataframe.columns"
   ]
  },
  {
   "cell_type": "code",
   "execution_count": null,
   "metadata": {
    "collapsed": true
   },
   "outputs": [],
   "source": [
    "df.columns"
   ]
  },
  {
   "cell_type": "markdown",
   "metadata": {},
   "source": [
    "###  Variable Identification\n",
    "<p> Getting to know your data. Categorize them accordingly. </p>\n",
    "+ Type of Variables\n",
    " + Label (target variables) \n",
    " + Features (predictor variables)\n",
    " + Identification - unique?\n",
    "+ Data Types\n",
    " + Character\n",
    " + Numerical\n",
    "+ Categorical or continous\n",
    " + Categorical\n",
    " + Continous"
   ]
  },
  {
   "cell_type": "markdown",
   "metadata": {},
   "source": [
    "### Label vs. Features (target vs. predictors)\n",
    "<p> For this data set we see the following: </p>\n",
    "+ Lable y (target): '[insert here]'\n",
    "+ Unique identifier: '[insert here]'\n",
    "+ Features X (predictors): rest of variables"
   ]
  },
  {
   "cell_type": "markdown",
   "metadata": {},
   "source": [
    "### Description of the data\n",
    "\n",
    "The dataset contains ...\n",
    "\n",
    "The goal or the objective of the project is to predict...\n",
    "\n",
    "A brief description of the data columns:\n",
    "+ 'column_name': the ...\n",
    "+ 'Column_name': the ..."
   ]
  },
  {
   "cell_type": "markdown",
   "metadata": {},
   "source": [
    "<div class=\"section level2\" id=\"Missing\">\n",
    "<h2><span class=\"header-section-number\">4.1</span> Missing Values/Imputation</h2>\n",
    "### Checking number of missing values for each column\n",
    "\n",
    "Use dataframe.isnull().sum()"
   ]
  },
  {
   "cell_type": "code",
   "execution_count": null,
   "metadata": {
    "collapsed": true
   },
   "outputs": [],
   "source": [
    "df.isnull().sum()#returns total sum of missing values for each column of the dataframe."
   ]
  },
  {
   "cell_type": "code",
   "execution_count": null,
   "metadata": {
    "collapsed": true
   },
   "outputs": [],
   "source": [
    "df=df.fillna(0)# Fill with zero for descriptive statistics"
   ]
  },
  {
   "cell_type": "markdown",
   "metadata": {},
   "source": [
    "### Examine the different Data types"
   ]
  },
  {
   "cell_type": "code",
   "execution_count": null,
   "metadata": {
    "collapsed": true
   },
   "outputs": [],
   "source": [
    "n_col=[]# numerical columns\n",
    "c_col=[] #categorical columns\n"
   ]
  },
  {
   "cell_type": "markdown",
   "metadata": {},
   "source": [
    "<div class=\"section level2\" id=\"Numerical\">\n",
    "<h2><span class=\"header-section-number\">4.2</span> Numerical Histogram</h2>"
   ]
  },
  {
   "cell_type": "code",
   "execution_count": null,
   "metadata": {
    "collapsed": true
   },
   "outputs": [],
   "source": [
    "# Display plots for numerical columns\n",
    "fig, axs = plt.subplots(4, 4, figsize = (16,18))\n",
    "axslist=[ax for y in axs for ax in y]\n",
    "for i in range(len(n_col)):\n",
    "    sns.distplot(df[n_col[i]],ax=axslist[i])\n",
    "fig.tight_layout()  "
   ]
  },
  {
   "cell_type": "markdown",
   "metadata": {},
   "source": [
    "<div class=\"section level2\" id=\"Categorical\">\n",
    "<h2><span class=\"header-section-number\">4.3</span> Categorical Countplot</h2>\n",
    "### Frequencies of categorical columns using countplot"
   ]
  },
  {
   "cell_type": "code",
   "execution_count": null,
   "metadata": {
    "collapsed": true
   },
   "outputs": [],
   "source": [
    "fig, axs = plt.subplots(3, 2, figsize = (16,18))\n",
    "axslist=[ax for y in axs for ax in y]\n",
    "for i in range(len(c_col)):\n",
    "    sns.countplot(df[c_col[i]],ax=axslist[i])\n",
    "fig.tight_layout() "
   ]
  },
  {
   "cell_type": "markdown",
   "metadata": {},
   "source": [
    "* * *\n",
    "<div class=\"section level1\" id=\"Modeling\">\n",
    "<h1><span class=\"header-section-number\">5.</span> Data Modeling/Predictive Modeling</h1>\n"
   ]
  },
  {
   "cell_type": "markdown",
   "metadata": {},
   "source": [
    "<div class=\"section level2\" id=\"Split\">\n",
    "<h2><span class=\"header-section-number\">5.1</span> Split Data into Training & Test sets</h2>"
   ]
  },
  {
   "cell_type": "code",
   "execution_count": null,
   "metadata": {
    "collapsed": true
   },
   "outputs": [],
   "source": [
    "cols = [c for c in df.columns if c not in ['insertTargetvariable','insertUniqueid']] #get feature column names excluding Target and others \n",
    "X=df[cols]\n",
    "y=df['insertTargetVariable']"
   ]
  },
  {
   "cell_type": "code",
   "execution_count": null,
   "metadata": {
    "collapsed": true
   },
   "outputs": [],
   "source": [
    "X_train, X_test, y_train, y_test = train_test_split(X,y, test_size=0.3, random_state=1)"
   ]
  },
  {
   "cell_type": "markdown",
   "metadata": {},
   "source": [
    "<div class=\"section level2\" id=\"bldModel\">\n",
    "<h2><span class=\"header-section-number\">5.2</span> Building the Model</h2>"
   ]
  },
  {
   "cell_type": "code",
   "execution_count": null,
   "metadata": {
    "collapsed": true
   },
   "outputs": [],
   "source": [
    "#An example of importing a classifier is in the comment below.\n",
    "#from sklearn.ensemble import GradientBoostingClassifier as GBC\n",
    "\n",
    "s=time.time()\n",
    "clf = GBC(learning_rate=0.01, max_features=20,subsample=0.8,random_state=0,n_estimators = 400,max_depth=6, min_samples_leaf= 1, min_samples_split= 20)\n",
    "clf.fit(X_train,y_train)\n",
    "\n",
    "print('Model fitted in {:.2f} seconds'.format(time.time()-s))\n",
    "print('Accuracy of classifier on training set: {:.2f}'\n",
    "     .format(clf.score(X_train, y_train)))\n",
    "print('Accuracy of classifier on test set: {:.2f}'\n",
    "     .format(clf.score(X_test, y_test)))"
   ]
  },
  {
   "cell_type": "markdown",
   "metadata": {},
   "source": [
    "<div class=\"section level2\" id=\"Variable\">\n",
    "<h2><span class=\"header-section-number\">5.3</span> Variable Importance</h2>"
   ]
  },
  {
   "cell_type": "code",
   "execution_count": null,
   "metadata": {
    "collapsed": true
   },
   "outputs": [],
   "source": [
    "important=pd.DataFrame(clf.feature_importances_,index=X.columns,columns=['imp'])\n",
    "important[important.imp > .009].sort_values(by='imp',ascending=False).plot(kind='bar')"
   ]
  },
  {
   "cell_type": "markdown",
   "metadata": {},
   "source": [
    "<div class=\"section level2\" id=\"Prediction\">\n",
    "<h2><span class=\"header-section-number\">5.4</span> Prediction</h2>"
   ]
  },
  {
   "cell_type": "code",
   "execution_count": null,
   "metadata": {
    "collapsed": true
   },
   "outputs": [],
   "source": [
    "from sklearn.metrics import auc,precision_score, recall_score, f1_score,accuracy_score \n",
    "from sklearn.metrics import log_loss,confusion_matrix,classification_report,roc_curve\n",
    "confusion = confusion_matrix(y_test,clf.predict(X_test))\n",
    "sns.heatmap(confusion,annot=True, fmt=\"d\")\n",
    "plt.ylabel('True Target label')\n",
    "plt.xlabel('Predicted label')"
   ]
  },
  {
   "cell_type": "code",
   "execution_count": null,
   "metadata": {
    "collapsed": true
   },
   "outputs": [],
   "source": [
    "pred_y=clf.predict(X_test)\n",
    "print('Accuracy: {:.2f}'.format(accuracy_score(y_test, pred_y)))\n",
    "print('Precision: {:.2f}'.format(precision_score(y_test, pred_y)))\n",
    "print('Recall: {:.2f}'.format(recall_score(y_test, pred_y)))\n",
    "print('F1: {:.2f}'.format(f1_score(y_test, pred_y)))"
   ]
  },
  {
   "cell_type": "markdown",
   "metadata": {},
   "source": [
    "* * *\n",
    "<div class=\"section level1\" id=\"Conclusion\">\n",
    "<h1><span class=\"header-section-number\">6.</span> Conclusion/Presentation of Solution</h1>\n"
   ]
  },
  {
   "cell_type": "code",
   "execution_count": null,
   "metadata": {
    "collapsed": true
   },
   "outputs": [],
   "source": []
  }
 ],
 "metadata": {
  "kernelspec": {
   "display_name": "Python 3",
   "language": "python",
   "name": "python3"
  },
  "language_info": {
   "codemirror_mode": {
    "name": "ipython",
    "version": 3
   },
   "file_extension": ".py",
   "mimetype": "text/x-python",
   "name": "python",
   "nbconvert_exporter": "python",
   "pygments_lexer": "ipython3",
   "version": "3.6.2"
  }
 },
 "nbformat": 4,
 "nbformat_minor": 2
}
